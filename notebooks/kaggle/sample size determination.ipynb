{
 "cells": [
  {
   "cell_type": "code",
   "execution_count": 4,
   "metadata": {},
   "outputs": [],
   "source": [
    "import pandas as pd\n",
    "import numpy as np\n",
    "import matplotlib.pyplot as plt\n",
    "import seaborn as sns\n",
    "\n",
    "%matplotlib inline\n",
    "\n",
    "import xgboost as xgb\n",
    "\n",
    "from sklearn.model_selection import train_test_split, RandomizedSearchCV\n",
    "from sklearn.preprocessing import StandardScaler, FunctionTransformer\n",
    "from sklearn.pipeline import make_pipeline\n",
    "from sklearn.linear_model import LinearRegression, Ridge\n",
    "from sklearn.metrics import make_scorer,  mean_absolute_error\n",
    "\n",
    "from scipy.stats.distributions import uniform"
   ]
  },
  {
   "cell_type": "code",
   "execution_count": 34,
   "metadata": {},
   "outputs": [],
   "source": [
    "def createPreprocessingPipeline():\n",
    "    preprocPipeline = make_pipeline(\n",
    "        StandardScaler(with_mean=True, with_std=True)\n",
    "    )\n",
    "    \n",
    "    return preprocPipeline\n",
    "\n",
    "def createModelPipeline(metricsScorer = None):\n",
    "    \n",
    "    paramDistributions = {\n",
    "        \"reg_alpha\": uniform(0.0, 1.0),\n",
    "        \"reg_lambda\": uniform(0.0, 1.0)\n",
    "    }\n",
    "    \n",
    "    staticParams =  {\n",
    "        \"max_depth\": 3,\n",
    "        \"learning_rate\": 0.1,\n",
    "        \"n_estimators\": 1000,\n",
    "        \"silent\": True,\n",
    "        \"objective\": 'reg:linear', \n",
    "        \"booster\":'gbtree', \n",
    "        \"n_jobs\": 7, \n",
    "        \"gamma\" : 0, \n",
    "        \"min_child_weight\" : 1, \n",
    "        \"max_delta_step\": 0, \n",
    "        \"subsample\" : 1, \n",
    "        \"colsample_bytree\" : 1, \n",
    "        \"colsample_bylevel\":1, \n",
    "        \"reg_alpha\":0, \n",
    "        \"reg_lambda\":1, \n",
    "        \"scale_pos_weight\":1, \n",
    "        \"base_score\":0.5  \n",
    "    }\n",
    "    \n",
    "    # normalize features\n",
    "    modelPipeline = make_pipeline(\n",
    "        RandomizedSearchCV(\n",
    "            estimator = xgb.XGBRegressor(**staticParams),\n",
    "            param_distributions = paramDistributions,\n",
    "            n_iter=3,\n",
    "            scoring = metricsScorer, \n",
    "            return_train_score=True,\n",
    "            refit=True\n",
    "        ),\n",
    "       \n",
    "    )\n",
    "    \n",
    "    return modelPipeline"
   ]
  },
  {
   "cell_type": "code",
   "execution_count": 6,
   "metadata": {},
   "outputs": [],
   "source": [
    "trainingDataPath = \"D:/data/kaggle/PUBG/train.csv\"\n",
    "scoringDataPath = \"D:/data/kaggle/PUBG/test.csv\""
   ]
  },
  {
   "cell_type": "code",
   "execution_count": 7,
   "metadata": {},
   "outputs": [],
   "source": [
    "trainingData = pd.read_csv(trainingDataPath)\n",
    "scoringData = pd.read_csv(scoringDataPath)"
   ]
  },
  {
   "cell_type": "code",
   "execution_count": 19,
   "metadata": {},
   "outputs": [
    {
     "name": "stderr",
     "output_type": "stream",
     "text": [
      "C:\\Users\\Ulric\\Anaconda3\\lib\\site-packages\\sklearn\\model_selection\\_split.py:2026: FutureWarning: From version 0.21, test_size will always complement train_size unless both are specified.\n",
      "  FutureWarning)\n"
     ]
    }
   ],
   "source": [
    "# split into train and test\n",
    "X_train_validation, X_test, y_train_validation, y_test = train_test_split(\n",
    "    trainingData.drop(\"winPlacePerc\", axis=\"columns\"), \n",
    "    trainingData[\"winPlacePerc\"],\n",
    "    train_size = 0.7,\n",
    "    shuffle= True\n",
    ")"
   ]
  },
  {
   "cell_type": "code",
   "execution_count": 20,
   "metadata": {},
   "outputs": [
    {
     "name": "stdout",
     "output_type": "stream",
     "text": [
      "3050135 1307201\n"
     ]
    }
   ],
   "source": [
    "print(X_train_validation.shape[0], X_test.shape[0])"
   ]
  },
  {
   "cell_type": "code",
   "execution_count": 21,
   "metadata": {},
   "outputs": [
    {
     "name": "stderr",
     "output_type": "stream",
     "text": [
      "C:\\Users\\Ulric\\Anaconda3\\lib\\site-packages\\sklearn\\model_selection\\_split.py:2026: FutureWarning: From version 0.21, test_size will always complement train_size unless both are specified.\n",
      "  FutureWarning)\n"
     ]
    }
   ],
   "source": [
    "X_train, X_validation, y_train, y_validation = train_test_split(\n",
    "    X_train_validation, \n",
    "    y_train_validation,\n",
    "    train_size = 0.7,\n",
    "    shuffle= True\n",
    ")"
   ]
  },
  {
   "cell_type": "code",
   "execution_count": 22,
   "metadata": {},
   "outputs": [
    {
     "name": "stdout",
     "output_type": "stream",
     "text": [
      "2135094 915041\n"
     ]
    }
   ],
   "source": [
    "print(X_train.shape[0], X_validation.shape[0])"
   ]
  },
  {
   "cell_type": "markdown",
   "metadata": {},
   "source": [
    "# Learning curves\n",
    "\n",
    "Vary the data size as we train a model\n",
    "* training error\n",
    "* test error\n"
   ]
  },
  {
   "cell_type": "code",
   "execution_count": 9,
   "metadata": {},
   "outputs": [],
   "source": [
    "preprocessingPipeline = createPreprocessingPipeline()"
   ]
  },
  {
   "cell_type": "code",
   "execution_count": 35,
   "metadata": {},
   "outputs": [],
   "source": [
    "xgbPipeline = createModelPipeline(\n",
    "    metricsScorer =make_scorer(score_func=mean_absolute_error, greater_is_better=False)\n",
    ")"
   ]
  },
  {
   "cell_type": "code",
   "execution_count": 24,
   "metadata": {},
   "outputs": [],
   "source": [
    "def fitModelPipeline(preprocessingPipeline, modelPipeline, selectedFeatures, X, y, Xtest, ytest):\n",
    "    \n",
    "    # run preprocessing pipeline on raw data\n",
    "    fittedPreprocessingPipeline = preprocessingPipeline.fit(X.loc[:, selectedFeatures], y)\n",
    "    \n",
    "    X_processed = fittedPreprocessingPipeline.transform(X.loc[:, selectedFeatures])\n",
    "    Xtest_processed = fittedPreprocessingPipeline.transform(Xtest.loc[:, selectedFeatures])\n",
    "    \n",
    "    eval_set = [\n",
    "        (X_processed, y), \n",
    "        (Xtest_processed, ytest)\n",
    "    ]\n",
    "    \n",
    "    # run the model fitting pipeline on the processed data\n",
    "    fittedModelPipeline = modelPipeline.fit(\n",
    "        X_processed, \n",
    "        y,\n",
    "        # xgb options\n",
    "        randomizedsearchcv__verbose=0,\n",
    "        randomizedsearchcv__eval_metric=\"mae\",\n",
    "        randomizedsearchcv__eval_set = eval_set,\n",
    "        randomizedsearchcv__early_stopping_rounds=5\n",
    "    )\n",
    "\n",
    "    # Print out some common eval metrics\n",
    "    cvResults = fittedModelPipeline.named_steps.get('randomizedsearchcv')\n",
    "    \n",
    "    print(\"best estimator\")\n",
    "    print(cvResults.best_estimator_)\n",
    "    \n",
    "    print(\"best score\")\n",
    "    print(cvResults.best_score_)\n",
    "    \n",
    "    print(\"early stopping\")\n",
    "    print(\"num trees = %i\" % cvResults.best_estimator_.best_ntree_limit)\n",
    "    print(\"best score = %i\" % cvResults.best_estimator_.best_score)\n",
    "    print(\"best iteration = %i\" % cvResults.best_estimator_.best_iteration)\n",
    "    \n",
    "    \n",
    "    # return the fitted preprocessing and modeling pipelines\n",
    "    return fittedPreprocessingPipeline, fittedModelPipeline, cvResults\n",
    "\n",
    "\n",
    "def evalModel(y_true, y_pred, metric_function):\n",
    "        \n",
    "    result = metric_function(y_true, y_pred)    \n",
    "    return result"
   ]
  },
  {
   "cell_type": "markdown",
   "metadata": {},
   "source": [
    "#### Preprocess data"
   ]
  },
  {
   "cell_type": "code",
   "execution_count": 23,
   "metadata": {},
   "outputs": [],
   "source": [
    "fittedPreprocessing = preprocessingPipeline.fit(X_train, y_train)\n",
    "X_train_processed = fittedPreprocessing.transform(X_train)\n",
    "X_validation_processed = fittedPreprocessing.transform(X_validation)"
   ]
  },
  {
   "cell_type": "code",
   "execution_count": 36,
   "metadata": {},
   "outputs": [
    {
     "name": "stdout",
     "output_type": "stream",
     "text": [
      "best estimator\n",
      "XGBRegressor(base_score=0.5, booster='gbtree', colsample_bylevel=1,\n",
      "       colsample_bytree=1, gamma=0, learning_rate=0.1, max_delta_step=0,\n",
      "       max_depth=3, min_child_weight=1, missing=None, n_estimators=1000,\n",
      "       n_jobs=7, nthread=None, objective='reg:linear', random_state=0,\n",
      "       reg_alpha=0.33157548621542787, reg_lambda=0.38776811865252303,\n",
      "       scale_pos_weight=1, seed=None, silent=True, subsample=1)\n",
      "best score\n",
      "-0.110056599324\n",
      "early stopping\n",
      "num trees = 80\n",
      "best score = 0\n",
      "best iteration = 79\n"
     ]
    }
   ],
   "source": [
    "fittedPreprocessing, fittedModel, cvResults = fitModelPipeline(\n",
    "            preprocessingPipeline=preprocessingPipeline,\n",
    "            modelPipeline=xgbPipeline, \n",
    "            selectedFeatures=[\n",
    "                'assists', 'boosts', 'damageDealt', 'DBNOs',\n",
    "                'headshotKills', 'heals', 'killPlace', 'killPoints', 'kills',\n",
    "                'killStreaks', 'longestKill', 'maxPlace', 'numGroups', 'revives',\n",
    "                'rideDistance', 'roadKills', 'swimDistance', 'teamKills',\n",
    "                'vehicleDestroys', 'walkDistance', 'weaponsAcquired', 'winPoints'\n",
    "            ], \n",
    "            X=X_train[:100], \n",
    "            y=y_train[:100],\n",
    "            Xtest=X_validation[:100],\n",
    "            ytest=y_validation[:100]\n",
    "        )"
   ]
  },
  {
   "cell_type": "code",
   "execution_count": 26,
   "metadata": {},
   "outputs": [
    {
     "data": {
      "text/plain": [
       "dict_keys(['param_reg_lambda', 'split1_test_score', 'split2_train_score', 'mean_train_score', 'split0_train_score', 'split0_test_score', 'std_fit_time', 'split2_test_score', 'param_reg_alpha', 'mean_score_time', 'std_test_score', 'std_score_time', 'mean_fit_time', 'split1_train_score', 'params', 'mean_test_score', 'rank_test_score', 'std_train_score'])"
      ]
     },
     "execution_count": 26,
     "metadata": {},
     "output_type": "execute_result"
    }
   ],
   "source": [
    "cvResults.cv_results_.keys()"
   ]
  },
  {
   "cell_type": "code",
   "execution_count": 37,
   "metadata": {},
   "outputs": [
    {
     "data": {
      "text/html": [
       "<div>\n",
       "<table border=\"1\" class=\"dataframe\">\n",
       "  <thead>\n",
       "    <tr style=\"text-align: right;\">\n",
       "      <th></th>\n",
       "      <th>mean_fit_time</th>\n",
       "      <th>mean_score_time</th>\n",
       "      <th>mean_test_score</th>\n",
       "      <th>mean_train_score</th>\n",
       "      <th>param_reg_alpha</th>\n",
       "      <th>param_reg_lambda</th>\n",
       "      <th>params</th>\n",
       "      <th>rank_test_score</th>\n",
       "      <th>split0_test_score</th>\n",
       "      <th>split0_train_score</th>\n",
       "      <th>split1_test_score</th>\n",
       "      <th>split1_train_score</th>\n",
       "      <th>split2_test_score</th>\n",
       "      <th>split2_train_score</th>\n",
       "      <th>std_fit_time</th>\n",
       "      <th>std_score_time</th>\n",
       "      <th>std_test_score</th>\n",
       "      <th>std_train_score</th>\n",
       "    </tr>\n",
       "  </thead>\n",
       "  <tbody>\n",
       "    <tr>\n",
       "      <th>0</th>\n",
       "      <td>0.015657</td>\n",
       "      <td>0.000999</td>\n",
       "      <td>-0.117095</td>\n",
       "      <td>-0.076464</td>\n",
       "      <td>0.712581</td>\n",
       "      <td>0.688117</td>\n",
       "      <td>{'reg_alpha': 0.712580647881, 'reg_lambda': 0....</td>\n",
       "      <td>3</td>\n",
       "      <td>-0.117137</td>\n",
       "      <td>-0.079550</td>\n",
       "      <td>-0.096481</td>\n",
       "      <td>-0.073621</td>\n",
       "      <td>-0.137664</td>\n",
       "      <td>-0.076222</td>\n",
       "      <td>0.001699</td>\n",
       "      <td>1.123916e-07</td>\n",
       "      <td>0.016729</td>\n",
       "      <td>0.002426</td>\n",
       "    </tr>\n",
       "    <tr>\n",
       "      <th>1</th>\n",
       "      <td>0.022321</td>\n",
       "      <td>0.000666</td>\n",
       "      <td>-0.110057</td>\n",
       "      <td>-0.051469</td>\n",
       "      <td>0.331575</td>\n",
       "      <td>0.387768</td>\n",
       "      <td>{'reg_alpha': 0.331575486215, 'reg_lambda': 0....</td>\n",
       "      <td>1</td>\n",
       "      <td>-0.103850</td>\n",
       "      <td>-0.051395</td>\n",
       "      <td>-0.101454</td>\n",
       "      <td>-0.049752</td>\n",
       "      <td>-0.125054</td>\n",
       "      <td>-0.053260</td>\n",
       "      <td>0.005309</td>\n",
       "      <td>4.711456e-04</td>\n",
       "      <td>0.010571</td>\n",
       "      <td>0.001433</td>\n",
       "    </tr>\n",
       "    <tr>\n",
       "      <th>2</th>\n",
       "      <td>0.014991</td>\n",
       "      <td>0.000000</td>\n",
       "      <td>-0.110370</td>\n",
       "      <td>-0.052377</td>\n",
       "      <td>0.346652</td>\n",
       "      <td>0.201472</td>\n",
       "      <td>{'reg_alpha': 0.346651947196, 'reg_lambda': 0....</td>\n",
       "      <td>2</td>\n",
       "      <td>-0.104530</td>\n",
       "      <td>-0.052953</td>\n",
       "      <td>-0.099892</td>\n",
       "      <td>-0.051169</td>\n",
       "      <td>-0.126865</td>\n",
       "      <td>-0.053008</td>\n",
       "      <td>0.000816</td>\n",
       "      <td>0.000000e+00</td>\n",
       "      <td>0.011731</td>\n",
       "      <td>0.000854</td>\n",
       "    </tr>\n",
       "  </tbody>\n",
       "</table>\n",
       "</div>"
      ],
      "text/plain": [
       "   mean_fit_time  mean_score_time  mean_test_score  mean_train_score  \\\n",
       "0       0.015657         0.000999        -0.117095         -0.076464   \n",
       "1       0.022321         0.000666        -0.110057         -0.051469   \n",
       "2       0.014991         0.000000        -0.110370         -0.052377   \n",
       "\n",
       "  param_reg_alpha param_reg_lambda  \\\n",
       "0        0.712581         0.688117   \n",
       "1        0.331575         0.387768   \n",
       "2        0.346652         0.201472   \n",
       "\n",
       "                                              params  rank_test_score  \\\n",
       "0  {'reg_alpha': 0.712580647881, 'reg_lambda': 0....                3   \n",
       "1  {'reg_alpha': 0.331575486215, 'reg_lambda': 0....                1   \n",
       "2  {'reg_alpha': 0.346651947196, 'reg_lambda': 0....                2   \n",
       "\n",
       "   split0_test_score  split0_train_score  split1_test_score  \\\n",
       "0          -0.117137           -0.079550          -0.096481   \n",
       "1          -0.103850           -0.051395          -0.101454   \n",
       "2          -0.104530           -0.052953          -0.099892   \n",
       "\n",
       "   split1_train_score  split2_test_score  split2_train_score  std_fit_time  \\\n",
       "0           -0.073621          -0.137664           -0.076222      0.001699   \n",
       "1           -0.049752          -0.125054           -0.053260      0.005309   \n",
       "2           -0.051169          -0.126865           -0.053008      0.000816   \n",
       "\n",
       "   std_score_time  std_test_score  std_train_score  \n",
       "0    1.123916e-07        0.016729         0.002426  \n",
       "1    4.711456e-04        0.010571         0.001433  \n",
       "2    0.000000e+00        0.011731         0.000854  "
      ]
     },
     "execution_count": 37,
     "metadata": {},
     "output_type": "execute_result"
    }
   ],
   "source": [
    "pd.DataFrame(cvResults.cv_results_)"
   ]
  },
  {
   "cell_type": "code",
   "execution_count": 38,
   "metadata": {},
   "outputs": [
    {
     "data": {
      "text/plain": [
       "array([-0.07646438, -0.05146868, -0.05237657])"
      ]
     },
     "execution_count": 38,
     "metadata": {},
     "output_type": "execute_result"
    }
   ],
   "source": [
    "cvResults.cv_results_.get(\"mean_train_score\")"
   ]
  },
  {
   "cell_type": "code",
   "execution_count": 39,
   "metadata": {},
   "outputs": [
    {
     "data": {
      "text/plain": [
       "array([-0.11709454, -0.1100566 , -0.11037021])"
      ]
     },
     "execution_count": 39,
     "metadata": {},
     "output_type": "execute_result"
    }
   ],
   "source": [
    "cvResults.cv_results_.get(\"mean_test_score\")"
   ]
  },
  {
   "cell_type": "code",
   "execution_count": 40,
   "metadata": {},
   "outputs": [
    {
     "data": {
      "text/plain": [
       "[{'reg_alpha': 0.71258064788099928, 'reg_lambda': 0.68811747454400063},\n",
       " {'reg_alpha': 0.33157548621542787, 'reg_lambda': 0.38776811865252303},\n",
       " {'reg_alpha': 0.34665194719604631, 'reg_lambda': 0.20147191317249691}]"
      ]
     },
     "execution_count": 40,
     "metadata": {},
     "output_type": "execute_result"
    }
   ],
   "source": [
    "cvResults.cv_results_.get(\"params\")"
   ]
  },
  {
   "cell_type": "code",
   "execution_count": 41,
   "metadata": {},
   "outputs": [
    {
     "data": {
      "text/plain": [
       "{'reg_alpha': 0.33157548621542787, 'reg_lambda': 0.38776811865252303}"
      ]
     },
     "execution_count": 41,
     "metadata": {},
     "output_type": "execute_result"
    }
   ],
   "source": [
    "cvResults.best_params_"
   ]
  },
  {
   "cell_type": "code",
   "execution_count": 42,
   "metadata": {},
   "outputs": [
    {
     "data": {
      "text/plain": [
       "-0.11005659932374953"
      ]
     },
     "execution_count": 42,
     "metadata": {},
     "output_type": "execute_result"
    }
   ],
   "source": [
    "cvResults.best_score_"
   ]
  },
  {
   "cell_type": "code",
   "execution_count": 51,
   "metadata": {},
   "outputs": [],
   "source": [
    "def fitLearningCurves(sampleSizeList, selectedFeatures, X, y, X_validation, y_validation, X_test, y_test):\n",
    "    \n",
    "    results = []\n",
    "    \n",
    "    for sampleSize in sampleSizeList:\n",
    "        \n",
    "        print(\"=\"*50)\n",
    "        print(\"Sample Size = %i\" % sampleSize)\n",
    "        \n",
    "        fittedPreprocessing, fittedModel, cvResults = fitModelPipeline(\n",
    "            preprocessingPipeline=preprocessingPipeline,\n",
    "            modelPipeline=xgbPipeline, \n",
    "            selectedFeatures=[\n",
    "                'assists', 'boosts', 'damageDealt', 'DBNOs',\n",
    "                'headshotKills', 'heals', 'killPlace', 'killPoints', 'kills',\n",
    "                'killStreaks', 'longestKill', 'maxPlace', 'numGroups', 'revives',\n",
    "                'rideDistance', 'roadKills', 'swimDistance', 'teamKills',\n",
    "                'vehicleDestroys', 'walkDistance', 'weaponsAcquired', 'winPoints'\n",
    "            ], \n",
    "            X=X_train[:sampleSize], \n",
    "            y=y_train[:sampleSize],\n",
    "            Xtest=X_validation,\n",
    "            ytest=y_validation\n",
    "        )\n",
    "        \n",
    "        modelCvResults = pd.DataFrame(cvResults.cv_results_)\n",
    "        \n",
    "        bestModelCvResults = modelCvResults.loc[modelCvResults[\"rank_test_score\"] == 1, [\"mean_train_score\", \"mean_test_score\"]]\n",
    "        assert bestModelCvResults.shape[0] == 1\n",
    "    \n",
    "        # Get test score\n",
    "        X_test_processed = fittedPreprocessing.transform(X_test.loc[:, selectedFeatures])\n",
    "        y_test_preds = fittedModel.predict(X_test_processed)\n",
    "                    \n",
    "        bestModelCvResults[\"holdout_test_score\"] = evalModel(y_test, y_test_preds, mean_absolute_error)\n",
    "        bestModelCvResults[\"sample_size\"] = sampleSize\n",
    "        \n",
    "        results.append(bestModelCvResults)\n",
    "        \n",
    "    return pd.concat(results)"
   ]
  },
  {
   "cell_type": "code",
   "execution_count": 52,
   "metadata": {},
   "outputs": [],
   "source": [
    "selectedFeatures = [\n",
    "    'assists', 'boosts', 'damageDealt', 'DBNOs',\n",
    "       'headshotKills', 'heals', 'killPlace', 'killPoints', 'kills',\n",
    "       'killStreaks', 'longestKill', 'maxPlace', 'numGroups', 'revives',\n",
    "       'rideDistance', 'roadKills', 'swimDistance', 'teamKills',\n",
    "       'vehicleDestroys', 'walkDistance', 'weaponsAcquired', 'winPoints'\n",
    "    \n",
    "]"
   ]
  },
  {
   "cell_type": "code",
   "execution_count": 61,
   "metadata": {},
   "outputs": [
    {
     "data": {
      "text/plain": [
       "[1000, 101000, 201000, 301000, 401000, 501000]"
      ]
     },
     "execution_count": 61,
     "metadata": {},
     "output_type": "execute_result"
    }
   ],
   "source": [
    "list(range(1000, 510000, 100000))"
   ]
  },
  {
   "cell_type": "code",
   "execution_count": 65,
   "metadata": {},
   "outputs": [
    {
     "name": "stdout",
     "output_type": "stream",
     "text": [
      "best estimator\n",
      "XGBRegressor(base_score=0.5, booster='gbtree', colsample_bylevel=1,\n",
      "       colsample_bytree=1, gamma=0, learning_rate=0.1, max_delta_step=0,\n",
      "       max_depth=3, min_child_weight=1, missing=None, n_estimators=1000,\n",
      "       n_jobs=7, nthread=None, objective='reg:linear', random_state=0,\n",
      "       reg_alpha=0.43211632662244692, reg_lambda=0.72579802029611418,\n",
      "       scale_pos_weight=1, seed=None, silent=True, subsample=1)\n",
      "best score\n",
      "-0.07999232273\n",
      "early stopping\n",
      "num trees = 120\n",
      "best score = 0\n",
      "best iteration = 119\n",
      "best estimator\n",
      "XGBRegressor(base_score=0.5, booster='gbtree', colsample_bylevel=1,\n",
      "       colsample_bytree=1, gamma=0, learning_rate=0.1, max_delta_step=0,\n",
      "       max_depth=3, min_child_weight=1, missing=None, n_estimators=1000,\n",
      "       n_jobs=7, nthread=None, objective='reg:linear', random_state=0,\n",
      "       reg_alpha=0.64460102723952073, reg_lambda=0.0089625714356178499,\n",
      "       scale_pos_weight=1, seed=None, silent=True, subsample=1)\n",
      "best score\n",
      "-0.0642703344718\n",
      "early stopping\n",
      "num trees = 752\n",
      "best score = 0\n",
      "best iteration = 751\n",
      "best estimator\n",
      "XGBRegressor(base_score=0.5, booster='gbtree', colsample_bylevel=1,\n",
      "       colsample_bytree=1, gamma=0, learning_rate=0.1, max_delta_step=0,\n",
      "       max_depth=3, min_child_weight=1, missing=None, n_estimators=1000,\n",
      "       n_jobs=7, nthread=None, objective='reg:linear', random_state=0,\n",
      "       reg_alpha=0.25356467058627197, reg_lambda=0.36765913874501344,\n",
      "       scale_pos_weight=1, seed=None, silent=True, subsample=1)\n",
      "best score\n",
      "-0.0639199631517\n",
      "early stopping\n",
      "num trees = 751\n",
      "best score = 0\n",
      "best iteration = 750\n",
      "best estimator\n",
      "XGBRegressor(base_score=0.5, booster='gbtree', colsample_bylevel=1,\n",
      "       colsample_bytree=1, gamma=0, learning_rate=0.1, max_delta_step=0,\n",
      "       max_depth=3, min_child_weight=1, missing=None, n_estimators=1000,\n",
      "       n_jobs=7, nthread=None, objective='reg:linear', random_state=0,\n",
      "       reg_alpha=0.41492800589771028, reg_lambda=0.1357937555632972,\n",
      "       scale_pos_weight=1, seed=None, silent=True, subsample=1)\n",
      "best score\n",
      "-0.0637710323398\n",
      "early stopping\n",
      "num trees = 1000\n",
      "best score = 0\n",
      "best iteration = 999\n",
      "best estimator\n",
      "XGBRegressor(base_score=0.5, booster='gbtree', colsample_bylevel=1,\n",
      "       colsample_bytree=1, gamma=0, learning_rate=0.1, max_delta_step=0,\n",
      "       max_depth=3, min_child_weight=1, missing=None, n_estimators=1000,\n",
      "       n_jobs=7, nthread=None, objective='reg:linear', random_state=0,\n",
      "       reg_alpha=0.72608243593307897, reg_lambda=0.088154828372428939,\n",
      "       scale_pos_weight=1, seed=None, silent=True, subsample=1)\n",
      "best score\n",
      "-0.0637687468826\n",
      "early stopping\n",
      "num trees = 886\n",
      "best score = 0\n",
      "best iteration = 885\n",
      "best estimator\n",
      "XGBRegressor(base_score=0.5, booster='gbtree', colsample_bylevel=1,\n",
      "       colsample_bytree=1, gamma=0, learning_rate=0.1, max_delta_step=0,\n",
      "       max_depth=3, min_child_weight=1, missing=None, n_estimators=1000,\n",
      "       n_jobs=7, nthread=None, objective='reg:linear', random_state=0,\n",
      "       reg_alpha=0.79039043842550394, reg_lambda=0.12864710128669665,\n",
      "       scale_pos_weight=1, seed=None, silent=True, subsample=1)\n",
      "best score\n",
      "-0.0637062538107\n",
      "early stopping\n",
      "num trees = 928\n",
      "best score = 0\n",
      "best iteration = 927\n"
     ]
    }
   ],
   "source": [
    "learningCurveData = fitLearningCurves(\n",
    "    range(1000, 510000, 100000), \n",
    "    selectedFeatures, \n",
    "    X_train, y_train, \n",
    "    X_validation, y_validation, \n",
    "    X_test, y_test\n",
    ")"
   ]
  },
  {
   "cell_type": "markdown",
   "metadata": {},
   "source": [
    "# We want a sample size of 300,000 to stabilize the error"
   ]
  },
  {
   "cell_type": "code",
   "execution_count": 67,
   "metadata": {},
   "outputs": [
    {
     "data": {
      "text/html": [
       "<div>\n",
       "<table border=\"1\" class=\"dataframe\">\n",
       "  <thead>\n",
       "    <tr style=\"text-align: right;\">\n",
       "      <th></th>\n",
       "      <th>mean_train_score</th>\n",
       "      <th>mean_test_score</th>\n",
       "      <th>holdout_test_score</th>\n",
       "      <th>sample_size</th>\n",
       "    </tr>\n",
       "  </thead>\n",
       "  <tbody>\n",
       "    <tr>\n",
       "      <th>2</th>\n",
       "      <td>-0.054516</td>\n",
       "      <td>-0.079992</td>\n",
       "      <td>0.079801</td>\n",
       "      <td>1000</td>\n",
       "    </tr>\n",
       "    <tr>\n",
       "      <th>0</th>\n",
       "      <td>-0.062126</td>\n",
       "      <td>-0.064270</td>\n",
       "      <td>0.064280</td>\n",
       "      <td>101000</td>\n",
       "    </tr>\n",
       "    <tr>\n",
       "      <th>0</th>\n",
       "      <td>-0.062525</td>\n",
       "      <td>-0.063920</td>\n",
       "      <td>0.064203</td>\n",
       "      <td>201000</td>\n",
       "    </tr>\n",
       "    <tr>\n",
       "      <th>2</th>\n",
       "      <td>-0.062737</td>\n",
       "      <td>-0.063771</td>\n",
       "      <td>0.063606</td>\n",
       "      <td>301000</td>\n",
       "    </tr>\n",
       "    <tr>\n",
       "      <th>1</th>\n",
       "      <td>-0.062973</td>\n",
       "      <td>-0.063769</td>\n",
       "      <td>0.063762</td>\n",
       "      <td>401000</td>\n",
       "    </tr>\n",
       "    <tr>\n",
       "      <th>2</th>\n",
       "      <td>-0.063041</td>\n",
       "      <td>-0.063706</td>\n",
       "      <td>0.063620</td>\n",
       "      <td>501000</td>\n",
       "    </tr>\n",
       "  </tbody>\n",
       "</table>\n",
       "</div>"
      ],
      "text/plain": [
       "   mean_train_score  mean_test_score  holdout_test_score  sample_size\n",
       "2         -0.054516        -0.079992            0.079801         1000\n",
       "0         -0.062126        -0.064270            0.064280       101000\n",
       "0         -0.062525        -0.063920            0.064203       201000\n",
       "2         -0.062737        -0.063771            0.063606       301000\n",
       "1         -0.062973        -0.063769            0.063762       401000\n",
       "2         -0.063041        -0.063706            0.063620       501000"
      ]
     },
     "execution_count": 67,
     "metadata": {},
     "output_type": "execute_result"
    }
   ],
   "source": [
    "learningCurveData"
   ]
  },
  {
   "cell_type": "code",
   "execution_count": 69,
   "metadata": {},
   "outputs": [
    {
     "data": {
      "text/plain": [
       "<matplotlib.legend.Legend at 0x1fd02a85630>"
      ]
     },
     "execution_count": 69,
     "metadata": {},
     "output_type": "execute_result"
    },
    {
     "data": {
      "image/png": "[encoded data removed]",
      "text/plain": [
       "<matplotlib.figure.Figure at 0x1fd029eacf8>"
      ]
     },
     "metadata": {},
     "output_type": "display_data"
    }
   ],
   "source": [
    "plt.plot(learningCurveData.sample_size, learningCurveData.mean_train_score, label=\"train error\")\n",
    "plt.plot(learningCurveData.sample_size, learningCurveData.mean_test_score, label=\"validation error\")\n",
    "plt.legend()"
   ]
  },
  {
   "cell_type": "code",
   "execution_count": 70,
   "metadata": {},
   "outputs": [
    {
     "data": {
      "text/plain": [
       "[<matplotlib.lines.Line2D at 0x1fd0318f860>]"
      ]
     },
     "execution_count": 70,
     "metadata": {},
     "output_type": "execute_result"
    },
    {
     "data": {
      "image/png": "[encoded data removed]",
      "text/plain": [
       "<matplotlib.figure.Figure at 0x1fd062db8d0>"
      ]
     },
     "metadata": {},
     "output_type": "display_data"
    }
   ],
   "source": [
    "plt.plot(learningCurveData.sample_size, learningCurveData.holdout_test_score, label=\"test error\")"
   ]
  }
 ],
 "metadata": {
  "kernelspec": {
   "display_name": "Python [default]",
   "language": "python",
   "name": "python3"
  },
  "language_info": {
   "codemirror_mode": {
    "name": "ipython",
    "version": 3
   },
   "file_extension": ".py",
   "mimetype": "text/x-python",
   "name": "python",
   "nbconvert_exporter": "python",
   "pygments_lexer": "ipython3",
   "version": "3.5.5"
  }
 },
 "nbformat": 4,
 "nbformat_minor": 2
}
