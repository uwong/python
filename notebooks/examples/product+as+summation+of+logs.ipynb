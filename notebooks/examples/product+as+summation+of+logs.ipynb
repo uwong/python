{
 "cells": [
  {
   "cell_type": "markdown",
   "metadata": {},
   "source": [
    "# Product as summation\n",
    "\n",
    "A product of values can be treated as a summation of the logs of the values due to the following log identity:\n",
    "* $log(ab) = log(a)+log(b)\n",
    "\n",
    "This can useful for SQL aggregations where a product operation not supported.\n",
    "\n",
    "Algorithm\n",
    "1. apply a log to all values\n",
    "    * values must be > 0, this is violated by logodds which centers scores around 0.5\n",
    "        * add tiny value if the value is supposed to be zero\n",
    "        * make value positive if it is negative\n",
    "1. add all the values together\n",
    "1. undo the log transform using and exponentiation\n",
    "1. apply flip the sign if necessary to undo the sign flipping we did prior to the log tranform \n",
    "\n"
   ]
  },
  {
   "cell_type": "code",
   "execution_count": 2,
   "metadata": {
    "collapsed": true
   },
   "outputs": [],
   "source": [
    "import math\n",
    "import numpy as np"
   ]
  },
  {
   "cell_type": "code",
   "execution_count": 1,
   "metadata": {
    "collapsed": true
   },
   "outputs": [],
   "source": [
    "values = [.5, .1, .8]\n",
    "values2 = [.1, .1, .1]\n",
    "values3 = [.9, .9, .9]\n",
    "oddsValues = [.1, .1, 900]\n",
    "logOddsValues = [.0, .0, -900]\n",
    "logOddsValues2 = [1.0, 2.0, -50]\n",
    "logOddsValues3 = [1.0, -2.0, -50]"
   ]
  },
  {
   "cell_type": "code",
   "execution_count": 55,
   "metadata": {
    "collapsed": true
   },
   "outputs": [],
   "source": [
    "def productAgg(valueList):\n",
    "    result = reduce(lambda a, b: a*b, valueList)\n",
    "    return result\n",
    "\n",
    "def logSumAgg(valueList):\n",
    "    \n",
    "    # count negative numbers\n",
    "    numNegatives = sum(x < 0 for x in valueList)\n",
    "    \n",
    "    # need to handle zeros and negative numbers\n",
    "    # so that the log transform doesn't blow up\n",
    "    def handleEqLtZero(value):\n",
    "        TOL = 0.000000000001\n",
    "        result = value\n",
    "        \n",
    "        # add a tiny value if we are at 0\n",
    "        if result == 0:\n",
    "            result += TOL\n",
    "        #  add make the value positive if it is negative\n",
    "        elif result < 0:\n",
    "            result = abs(result)\n",
    "        \n",
    "        return result\n",
    "    \n",
    "    logs = map(lambda e: math.log(handleEqLtZero(e)), valueList)\n",
    "    sums = sum(logs)\n",
    "    prod = math.exp(sums)\n",
    "    \n",
    "    # flip sign if necessary (when there was an odd number of negative values)\n",
    "    if (numNegatives % 2) != 0:\n",
    "        prod *= -1\n",
    "    \n",
    "    return prod"
   ]
  },
  {
   "cell_type": "code",
   "execution_count": 48,
   "metadata": {},
   "outputs": [
    {
     "name": "stdout",
     "output_type": "stream",
     "text": [
      "(0.04000000000000001, 0.04000000000000001)\n"
     ]
    }
   ],
   "source": [
    "print(productAgg(values), logSumAgg(values))"
   ]
  },
  {
   "cell_type": "code",
   "execution_count": 49,
   "metadata": {},
   "outputs": [
    {
     "name": "stdout",
     "output_type": "stream",
     "text": [
      "(0.0010000000000000002, 0.0010000000000000002)\n"
     ]
    }
   ],
   "source": [
    "print(productAgg(values2), logSumAgg(values2))"
   ]
  },
  {
   "cell_type": "code",
   "execution_count": 50,
   "metadata": {},
   "outputs": [
    {
     "name": "stdout",
     "output_type": "stream",
     "text": [
      "(9.000000000000002, 9.000000000000005)\n"
     ]
    }
   ],
   "source": [
    "print(productAgg(oddsValues), logSumAgg(oddsValues))"
   ]
  },
  {
   "cell_type": "markdown",
   "metadata": {},
   "source": [
    "# Negative numbers"
   ]
  },
  {
   "cell_type": "code",
   "execution_count": 51,
   "metadata": {},
   "outputs": [
    {
     "name": "stdout",
     "output_type": "stream",
     "text": [
      "(-100.0, -99.99999999999996)\n"
     ]
    }
   ],
   "source": [
    "# Need to flip the sign if there is an odd number of negative numbers to be multiplied\n",
    "print(productAgg(logOddsValues2), logSumAgg(logOddsValues2))"
   ]
  },
  {
   "cell_type": "code",
   "execution_count": 52,
   "metadata": {},
   "outputs": [
    {
     "name": "stdout",
     "output_type": "stream",
     "text": [
      "(100.0, 99.99999999999996)\n"
     ]
    }
   ],
   "source": [
    "print(productAgg(logOddsValues3), logSumAgg(logOddsValues3))"
   ]
  },
  {
   "cell_type": "markdown",
   "metadata": {},
   "source": [
    "# zero values"
   ]
  },
  {
   "cell_type": "code",
   "execution_count": 53,
   "metadata": {},
   "outputs": [
    {
     "name": "stdout",
     "output_type": "stream",
     "text": [
      "(-0.0, -8.999999999999994e-22)\n"
     ]
    }
   ],
   "source": [
    "print(productAgg(logOddsValues), logSumAgg(logOddsValues))"
   ]
  }
 ],
 "metadata": {
  "kernelspec": {
   "display_name": "Python [default]",
   "language": "python",
   "name": "python3"
  },
  "language_info": {
   "codemirror_mode": {
    "name": "ipython",
    "version": 3
   },
   "file_extension": ".py",
   "mimetype": "text/x-python",
   "name": "python",
   "nbconvert_exporter": "python",
   "pygments_lexer": "ipython3",
   "version": "3.5.2"
  }
 },
 "nbformat": 4,
 "nbformat_minor": 2
}
