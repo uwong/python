{
 "cells": [
  {
   "cell_type": "markdown",
   "metadata": {},
   "source": [
    "# Overview\n",
    "\n",
    "Here is a description of the data sets:\n",
    "\n",
    "Response Database:  \n",
    "* This file includes details on each individual commercial that aired on TV since 2014  and the attributed performance or responses for each commercial.. There is a field definition tab explaining what each variable means but I am happy to answer any questions about the data beyond the field definitions.\n",
    "\n",
    "Database:  \n",
    "* This data represents overall daily business performance for a different brand and should not be combined with the response database. \n",
    "* The data in this file is broken out into two types of variables– predictors or drivers, and outcomes. \n",
    "    * The spend variables would be the drivers and the purchases (in orange) are the outcomes or results that can be measured in concert with the spends and any relevant exogenous factors. \n",
    "    * The purchases can also be analyzed independently from the spends for insights into business growth, seasonality, etc.\n",
    "    * Although the data has been recoded to protect the privacy of the advertiser, we can tell you that the directionality and the relationships over time and across variables have not been changed.  \n",
    "    * We can also tell you that the advertiser is in the online travel category (think Kayak, Priceline, Expedia).\n",
    "\n",
    "Exercise\n",
    "* For the <b>response database</b>, the exercise is fairly open ended.  Our objective here is see how you approach a new data set. What insights can you derive pertaining to what drives website volume and what doesn’t? What approach do you take to gathering these insights with respect to tools/software, models, etc.?\n",
    "* For the <b>database</b> part of the exercise, you might consider the following prompts to guide your analysis:\n",
    "    - What are the most impactful drivers of total purchases?\n",
    "    - If you had an extra dollar to spend, where would you spend it to yield the maximum return on your investment?\n",
    "    - Can you quantify the longitudinal/compounding effect of marketing over time?\n",
    "    - There are several periods of time in which there was no television advertising \n",
    "        – how would you measure the impact of the absence of TV? Are you able to quantify this?\n",
    "\n",
    "While we’ve broken out purchases by new and returning and different vertical types, these are of secondary importance to total purchases. Any other insights you’d like to provide outside of these questions is welcomed. Additionally, you may use any of these data sets as a platform to discuss creative ideas around analysis broadly, even if you don’t have the time or resources to perform the analysis, ideas qualify as solid work product too.  \n",
    "\n",
    "Please don’t hesitate to reach out with any questions about the data, the exercise, or the position. Please take this coming week with the data and send your insights in whatever format you like (Word, Email, Powerpoint, Tableau, etc.)."
   ]
  },
  {
   "cell_type": "code",
   "execution_count": 3,
   "metadata": {
    "collapsed": true
   },
   "outputs": [],
   "source": [
    "import pandas as pd\n",
    "import seaborn.apionly as sns\n",
    "%matplotlib inline\n",
    "\n",
    "import statsmodels.api as sm\n",
    "import statsmodels.formula.api as smf\n",
    "import tqdm"
   ]
  },
  {
   "cell_type": "markdown",
   "metadata": {},
   "source": [
    "# Read the data sets"
   ]
  },
  {
   "cell_type": "code",
   "execution_count": 4,
   "metadata": {},
   "outputs": [
    {
     "data": {
      "text/plain": [
       "                                                                                Date                               \n",
       "MARKETING SPENDS WITH PARTNERS                Unnamed: 0_level_1                Remarketing Spend                      float64\n",
       "                                              Unnamed: 1_level_1                Partner Search Spend                   float64\n",
       "                                              Unnamed: 2_level_1                Partner A Hotel Spend                  float64\n",
       "                                              Unnamed: 3_level_1                Partner B Hotel Spend                  float64\n",
       "                                              Unnamed: 4_level_1                Partner C Hotel Spend                  float64\n",
       "                                              Unnamed: 5_level_1                Other Partner Spend                    float64\n",
       "                                              Unnamed: 6_level_1                Partner TOTAL                          float64\n",
       "MARKETING SPENDS WITH AFFILIATES              Unnamed: 7_level_1                Affiliate Standard Hotel Spend         float64\n",
       "                                              Unnamed: 8_level_1                Affiliate Premium Hotel Spend          float64\n",
       "                                              Unnamed: 9_level_1                Affiliate Other Hotel Spend            float64\n",
       "                                              Unnamed: 10_level_1               Affiliate Standard Flight Spend        float64\n",
       "                                              Unnamed: 11_level_1               Affiliate Premium Flight Spend         float64\n",
       "                                              Unnamed: 12_level_1               Affiliate Other Flight Spend           float64\n",
       "                                              Unnamed: 13_level_1               Affiliate Standard Rental Car Spend    float64\n",
       "                                              Unnamed: 14_level_1               Affiliate Premium Rental Car Spend     float64\n",
       "                                              Unnamed: 15_level_1               Affiliate Other Rental Car Spend       float64\n",
       "                                              Unnamed: 16_level_1               Affiliate VP\\nCost                     float64\n",
       "                                              Unnamed: 17_level_1               Affiliate TOTAL                        float64\n",
       "MARKETING SPENDS ON WEB SEARCH (GOOGLE/BING)  Unnamed: 18_level_1               Brand Search Mobile Spend              float64\n",
       "                                              Unnamed: 19_level_1               Brand Search Non-Mobile Spend          float64\n",
       "                                              Unnamed: 20_level_1               Flight Search Spend                    float64\n",
       "                                              Unnamed: 21_level_1               Other Search Spend                     float64\n",
       "                                              Unnamed: 22_level_1               Hotel Mobile Search Spend              float64\n",
       "                                              Unnamed: 23_level_1               Hotel Non-Mobile Search Spend          float64\n",
       "                                              Unnamed: 24_level_1               Rental Car Mobile\\nSpend               float64\n",
       "                                              Unnamed: 25_level_1               Rental Car Non-Mobile\\nSpend           float64\n",
       "                                              Unnamed: 26_level_1               Search TOTAL                           float64\n",
       "TV MARKETING SPEND                            Unnamed: 27_level_1               TV Campaign 1                          float64\n",
       "                                              Unnamed: 28_level_1               TV Campaign 2                          float64\n",
       "                                              Unnamed: 29_level_1               TV Campaign 3                          float64\n",
       "OUTCOME VARIABLE: PURCHASES                   NEW CUSTOMER vs REPEAT CUSTOMERS  New Customer Flight Purchases            int64\n",
       "                                                                                New Customer Hotel Purchases             int64\n",
       "                                                                                Repeat Customer Flight Purchases         int64\n",
       "                                                                                Repeat Customer Hotel Purchases          int64\n",
       "                                              PURCHASE VERTICAL SPLIT           Type 1 Flight Purchase                   int64\n",
       "                                                                                Type 1 Hotel Purchase                    int64\n",
       "                                                                                Type 2 Flight Purchase                   int64\n",
       "                                                                                Type 2 Hotel Purchase                    int64\n",
       "                                              TOTAL PURCHASES                   Total Flight Purchases                   int64\n",
       "                                                                                Total Hotel Purchases                    int64\n",
       "dtype: object"
      ]
     },
     "execution_count": 4,
     "metadata": {},
     "output_type": "execute_result"
    }
   ],
   "source": [
    "database_raw = pd.read_excel(\n",
    "    \"data/Database.xlsx\",\n",
    "    header=[0, 1, 2]\n",
    ")\n",
    "database_raw.dtypes"
   ]
  },
  {
   "cell_type": "code",
   "execution_count": 5,
   "metadata": {},
   "outputs": [
    {
     "data": {
      "text/plain": [
       "Response                   int64\n",
       "Date              datetime64[ns]\n",
       "Time                      object\n",
       "Network                   object\n",
       "Daypart                   object\n",
       "Rate                     float64\n",
       "Imps (000)               float64\n",
       "CPM                      float64\n",
       "Property                  object\n",
       "Start                     object\n",
       "End                       object\n",
       "Buy Type                  object\n",
       "Length                    object\n",
       "C/B/S                     object\n",
       "Program                   object\n",
       "Week of           datetime64[ns]\n",
       "Creative Title            object\n",
       "dtype: object"
      ]
     },
     "execution_count": 5,
     "metadata": {},
     "output_type": "execute_result"
    }
   ],
   "source": [
    "response_raw = (\n",
    "    pd.read_excel(\n",
    "        \"data/Response Database.xlsx\", \n",
    "        header=0\n",
    "    )\n",
    "    .iloc[:, :17]\n",
    ")\n",
    "response_raw.dtypes"
   ]
  },
  {
   "cell_type": "code",
   "execution_count": 6,
   "metadata": {},
   "outputs": [
    {
     "data": {
      "text/html": [
       "<div>\n",
       "<table border=\"1\" class=\"dataframe\">\n",
       "  <thead>\n",
       "    <tr>\n",
       "      <th></th>\n",
       "      <th colspan=\"7\" halign=\"left\">MARKETING SPENDS WITH PARTNERS</th>\n",
       "      <th colspan=\"3\" halign=\"left\">MARKETING SPENDS WITH AFFILIATES</th>\n",
       "      <th>...</th>\n",
       "      <th colspan=\"10\" halign=\"left\">OUTCOME VARIABLE: PURCHASES</th>\n",
       "    </tr>\n",
       "    <tr>\n",
       "      <th></th>\n",
       "      <th>Unnamed: 0_level_1</th>\n",
       "      <th>Unnamed: 1_level_1</th>\n",
       "      <th>Unnamed: 2_level_1</th>\n",
       "      <th>Unnamed: 3_level_1</th>\n",
       "      <th>Unnamed: 4_level_1</th>\n",
       "      <th>Unnamed: 5_level_1</th>\n",
       "      <th>Unnamed: 6_level_1</th>\n",
       "      <th>Unnamed: 7_level_1</th>\n",
       "      <th>Unnamed: 8_level_1</th>\n",
       "      <th>Unnamed: 9_level_1</th>\n",
       "      <th>...</th>\n",
       "      <th colspan=\"4\" halign=\"left\">NEW CUSTOMER vs REPEAT CUSTOMERS</th>\n",
       "      <th colspan=\"4\" halign=\"left\">PURCHASE VERTICAL SPLIT</th>\n",
       "      <th colspan=\"2\" halign=\"left\">TOTAL PURCHASES</th>\n",
       "    </tr>\n",
       "    <tr>\n",
       "      <th>Date</th>\n",
       "      <th>Remarketing Spend</th>\n",
       "      <th>Partner Search Spend</th>\n",
       "      <th>Partner A Hotel Spend</th>\n",
       "      <th>Partner B Hotel Spend</th>\n",
       "      <th>Partner C Hotel Spend</th>\n",
       "      <th>Other Partner Spend</th>\n",
       "      <th>Partner TOTAL</th>\n",
       "      <th>Affiliate Standard Hotel Spend</th>\n",
       "      <th>Affiliate Premium Hotel Spend</th>\n",
       "      <th>Affiliate Other Hotel Spend</th>\n",
       "      <th>...</th>\n",
       "      <th>New Customer Flight Purchases</th>\n",
       "      <th>New Customer Hotel Purchases</th>\n",
       "      <th>Repeat Customer Flight Purchases</th>\n",
       "      <th>Repeat Customer Hotel Purchases</th>\n",
       "      <th>Type 1 Flight Purchase</th>\n",
       "      <th>Type 1 Hotel Purchase</th>\n",
       "      <th>Type 2 Flight Purchase</th>\n",
       "      <th>Type 2 Hotel Purchase</th>\n",
       "      <th>Total Flight Purchases</th>\n",
       "      <th>Total Hotel Purchases</th>\n",
       "    </tr>\n",
       "  </thead>\n",
       "  <tbody>\n",
       "    <tr>\n",
       "      <th>2015-01-01</th>\n",
       "      <td>36813.64</td>\n",
       "      <td>39730.54</td>\n",
       "      <td>28657.73</td>\n",
       "      <td>25030.39</td>\n",
       "      <td>12503.82</td>\n",
       "      <td>16259.28</td>\n",
       "      <td>158995.40</td>\n",
       "      <td>14095.02</td>\n",
       "      <td>11951.52</td>\n",
       "      <td>8864.16</td>\n",
       "      <td>...</td>\n",
       "      <td>3998</td>\n",
       "      <td>9598</td>\n",
       "      <td>5338</td>\n",
       "      <td>26032</td>\n",
       "      <td>688</td>\n",
       "      <td>19455</td>\n",
       "      <td>8647</td>\n",
       "      <td>16175</td>\n",
       "      <td>9336</td>\n",
       "      <td>35629</td>\n",
       "    </tr>\n",
       "    <tr>\n",
       "      <th>2015-01-02</th>\n",
       "      <td>41297.77</td>\n",
       "      <td>50297.34</td>\n",
       "      <td>33937.95</td>\n",
       "      <td>34147.43</td>\n",
       "      <td>14660.26</td>\n",
       "      <td>22460.13</td>\n",
       "      <td>196800.88</td>\n",
       "      <td>17634.10</td>\n",
       "      <td>15081.16</td>\n",
       "      <td>10087.10</td>\n",
       "      <td>...</td>\n",
       "      <td>4859</td>\n",
       "      <td>11775</td>\n",
       "      <td>6996</td>\n",
       "      <td>31122</td>\n",
       "      <td>918</td>\n",
       "      <td>22825</td>\n",
       "      <td>10938</td>\n",
       "      <td>20072</td>\n",
       "      <td>11856</td>\n",
       "      <td>42897</td>\n",
       "    </tr>\n",
       "    <tr>\n",
       "      <th>2015-01-03</th>\n",
       "      <td>37550.40</td>\n",
       "      <td>39719.12</td>\n",
       "      <td>30088.45</td>\n",
       "      <td>38768.40</td>\n",
       "      <td>11431.65</td>\n",
       "      <td>24716.81</td>\n",
       "      <td>182274.83</td>\n",
       "      <td>14781.58</td>\n",
       "      <td>11972.12</td>\n",
       "      <td>8895.49</td>\n",
       "      <td>...</td>\n",
       "      <td>4156</td>\n",
       "      <td>9834</td>\n",
       "      <td>5765</td>\n",
       "      <td>25794</td>\n",
       "      <td>764</td>\n",
       "      <td>18526</td>\n",
       "      <td>9158</td>\n",
       "      <td>17102</td>\n",
       "      <td>9921</td>\n",
       "      <td>35628</td>\n",
       "    </tr>\n",
       "    <tr>\n",
       "      <th>2015-01-04</th>\n",
       "      <td>39006.15</td>\n",
       "      <td>40016.30</td>\n",
       "      <td>32730.76</td>\n",
       "      <td>38668.44</td>\n",
       "      <td>13072.17</td>\n",
       "      <td>18327.53</td>\n",
       "      <td>181821.35</td>\n",
       "      <td>14831.60</td>\n",
       "      <td>13526.64</td>\n",
       "      <td>9380.47</td>\n",
       "      <td>...</td>\n",
       "      <td>4304</td>\n",
       "      <td>8616</td>\n",
       "      <td>5880</td>\n",
       "      <td>22308</td>\n",
       "      <td>745</td>\n",
       "      <td>15836</td>\n",
       "      <td>9439</td>\n",
       "      <td>15087</td>\n",
       "      <td>10184</td>\n",
       "      <td>30924</td>\n",
       "    </tr>\n",
       "    <tr>\n",
       "      <th>2015-01-05</th>\n",
       "      <td>35591.18</td>\n",
       "      <td>56930.77</td>\n",
       "      <td>32376.76</td>\n",
       "      <td>35723.47</td>\n",
       "      <td>23534.97</td>\n",
       "      <td>23711.85</td>\n",
       "      <td>207869.00</td>\n",
       "      <td>18945.79</td>\n",
       "      <td>18465.50</td>\n",
       "      <td>10820.58</td>\n",
       "      <td>...</td>\n",
       "      <td>5762</td>\n",
       "      <td>9059</td>\n",
       "      <td>8418</td>\n",
       "      <td>26528</td>\n",
       "      <td>995</td>\n",
       "      <td>19547</td>\n",
       "      <td>13185</td>\n",
       "      <td>16041</td>\n",
       "      <td>14181</td>\n",
       "      <td>35588</td>\n",
       "    </tr>\n",
       "  </tbody>\n",
       "</table>\n",
       "<p>5 rows × 40 columns</p>\n",
       "</div>"
      ],
      "text/plain": [
       "           MARKETING SPENDS WITH PARTNERS                       \\\n",
       "                       Unnamed: 0_level_1   Unnamed: 1_level_1   \n",
       "Date                    Remarketing Spend Partner Search Spend   \n",
       "2015-01-01                       36813.64             39730.54   \n",
       "2015-01-02                       41297.77             50297.34   \n",
       "2015-01-03                       37550.40             39719.12   \n",
       "2015-01-04                       39006.15             40016.30   \n",
       "2015-01-05                       35591.18             56930.77   \n",
       "\n",
       "                                                                              \\\n",
       "              Unnamed: 2_level_1    Unnamed: 3_level_1    Unnamed: 4_level_1   \n",
       "Date       Partner A Hotel Spend Partner B Hotel Spend Partner C Hotel Spend   \n",
       "2015-01-01              28657.73              25030.39              12503.82   \n",
       "2015-01-02              33937.95              34147.43              14660.26   \n",
       "2015-01-03              30088.45              38768.40              11431.65   \n",
       "2015-01-04              32730.76              38668.44              13072.17   \n",
       "2015-01-05              32376.76              35723.47              23534.97   \n",
       "\n",
       "                                                   \\\n",
       "            Unnamed: 5_level_1 Unnamed: 6_level_1   \n",
       "Date       Other Partner Spend      Partner TOTAL   \n",
       "2015-01-01            16259.28          158995.40   \n",
       "2015-01-02            22460.13          196800.88   \n",
       "2015-01-03            24716.81          182274.83   \n",
       "2015-01-04            18327.53          181821.35   \n",
       "2015-01-05            23711.85          207869.00   \n",
       "\n",
       "           MARKETING SPENDS WITH AFFILIATES                                \\\n",
       "                         Unnamed: 7_level_1            Unnamed: 8_level_1   \n",
       "Date         Affiliate Standard Hotel Spend Affiliate Premium Hotel Spend   \n",
       "2015-01-01                         14095.02                      11951.52   \n",
       "2015-01-02                         17634.10                      15081.16   \n",
       "2015-01-03                         14781.58                      11972.12   \n",
       "2015-01-04                         14831.60                      13526.64   \n",
       "2015-01-05                         18945.79                      18465.50   \n",
       "\n",
       "                                                ...           \\\n",
       "                    Unnamed: 9_level_1          ...            \n",
       "Date       Affiliate Other Hotel Spend          ...            \n",
       "2015-01-01                     8864.16          ...            \n",
       "2015-01-02                    10087.10          ...            \n",
       "2015-01-03                     8895.49          ...            \n",
       "2015-01-04                     9380.47          ...            \n",
       "2015-01-05                    10820.58          ...            \n",
       "\n",
       "                OUTCOME VARIABLE: PURCHASES                               \\\n",
       "           NEW CUSTOMER vs REPEAT CUSTOMERS                                \n",
       "Date          New Customer Flight Purchases New Customer Hotel Purchases   \n",
       "2015-01-01                             3998                         9598   \n",
       "2015-01-02                             4859                        11775   \n",
       "2015-01-03                             4156                         9834   \n",
       "2015-01-04                             4304                         8616   \n",
       "2015-01-05                             5762                         9059   \n",
       "\n",
       "                                                                             \\\n",
       "                                                                              \n",
       "Date       Repeat Customer Flight Purchases Repeat Customer Hotel Purchases   \n",
       "2015-01-01                             5338                           26032   \n",
       "2015-01-02                             6996                           31122   \n",
       "2015-01-03                             5765                           25794   \n",
       "2015-01-04                             5880                           22308   \n",
       "2015-01-05                             8418                           26528   \n",
       "\n",
       "                                                          \\\n",
       "           PURCHASE VERTICAL SPLIT                         \n",
       "Date        Type 1 Flight Purchase Type 1 Hotel Purchase   \n",
       "2015-01-01                     688                 19455   \n",
       "2015-01-02                     918                 22825   \n",
       "2015-01-03                     764                 18526   \n",
       "2015-01-04                     745                 15836   \n",
       "2015-01-05                     995                 19547   \n",
       "\n",
       "                                                         \\\n",
       "                                                          \n",
       "Date       Type 2 Flight Purchase Type 2 Hotel Purchase   \n",
       "2015-01-01                   8647                 16175   \n",
       "2015-01-02                  10938                 20072   \n",
       "2015-01-03                   9158                 17102   \n",
       "2015-01-04                   9439                 15087   \n",
       "2015-01-05                  13185                 16041   \n",
       "\n",
       "                                                         \n",
       "                  TOTAL PURCHASES                        \n",
       "Date       Total Flight Purchases Total Hotel Purchases  \n",
       "2015-01-01                   9336                 35629  \n",
       "2015-01-02                  11856                 42897  \n",
       "2015-01-03                   9921                 35628  \n",
       "2015-01-04                  10184                 30924  \n",
       "2015-01-05                  14181                 35588  \n",
       "\n",
       "[5 rows x 40 columns]"
      ]
     },
     "execution_count": 6,
     "metadata": {},
     "output_type": "execute_result"
    }
   ],
   "source": [
    "database_raw.head()"
   ]
  },
  {
   "cell_type": "code",
   "execution_count": 7,
   "metadata": {},
   "outputs": [
    {
     "data": {
      "text/html": [
       "<div>\n",
       "<table border=\"1\" class=\"dataframe\">\n",
       "  <thead>\n",
       "    <tr style=\"text-align: right;\">\n",
       "      <th></th>\n",
       "      <th>Response</th>\n",
       "      <th>Date</th>\n",
       "      <th>Time</th>\n",
       "      <th>Network</th>\n",
       "      <th>Daypart</th>\n",
       "      <th>Rate</th>\n",
       "      <th>Imps (000)</th>\n",
       "      <th>CPM</th>\n",
       "      <th>Property</th>\n",
       "      <th>Start</th>\n",
       "      <th>End</th>\n",
       "      <th>Buy Type</th>\n",
       "      <th>Length</th>\n",
       "      <th>C/B/S</th>\n",
       "      <th>Program</th>\n",
       "      <th>Week of</th>\n",
       "      <th>Creative Title</th>\n",
       "    </tr>\n",
       "  </thead>\n",
       "  <tbody>\n",
       "    <tr>\n",
       "      <th>0</th>\n",
       "      <td>12</td>\n",
       "      <td>2014-02-17</td>\n",
       "      <td>06:46:00</td>\n",
       "      <td>TBS</td>\n",
       "      <td>Morning</td>\n",
       "      <td>1725.20</td>\n",
       "      <td>278.0</td>\n",
       "      <td>6.205755</td>\n",
       "      <td>DAYTIME</td>\n",
       "      <td>06:00:00</td>\n",
       "      <td>15:00:00</td>\n",
       "      <td>GR</td>\n",
       "      <td>30</td>\n",
       "      <td>NatCbl</td>\n",
       "      <td>NaN</td>\n",
       "      <td>2014-02-17</td>\n",
       "      <td>Yoga</td>\n",
       "    </tr>\n",
       "    <tr>\n",
       "      <th>1</th>\n",
       "      <td>0</td>\n",
       "      <td>2014-02-17</td>\n",
       "      <td>08:35:00</td>\n",
       "      <td>ESPNEWS</td>\n",
       "      <td>Morning</td>\n",
       "      <td>82.65</td>\n",
       "      <td>24.0</td>\n",
       "      <td>3.443750</td>\n",
       "      <td>Day</td>\n",
       "      <td>06:00:00</td>\n",
       "      <td>18:00:00</td>\n",
       "      <td>PE</td>\n",
       "      <td>30</td>\n",
       "      <td>NatCbl</td>\n",
       "      <td>NaN</td>\n",
       "      <td>2014-02-17</td>\n",
       "      <td>Sauna</td>\n",
       "    </tr>\n",
       "    <tr>\n",
       "      <th>2</th>\n",
       "      <td>0</td>\n",
       "      <td>2014-02-17</td>\n",
       "      <td>08:56:00</td>\n",
       "      <td>DIY</td>\n",
       "      <td>Morning</td>\n",
       "      <td>110.20</td>\n",
       "      <td>13.0</td>\n",
       "      <td>8.476923</td>\n",
       "      <td>Morning Rotation  M-F 7:0</td>\n",
       "      <td>07:00:00</td>\n",
       "      <td>09:00:00</td>\n",
       "      <td>GR</td>\n",
       "      <td>30</td>\n",
       "      <td>NatCbl</td>\n",
       "      <td>NaN</td>\n",
       "      <td>2014-02-17</td>\n",
       "      <td>Sauna</td>\n",
       "    </tr>\n",
       "    <tr>\n",
       "      <th>3</th>\n",
       "      <td>5</td>\n",
       "      <td>2014-02-17</td>\n",
       "      <td>09:16:00</td>\n",
       "      <td>MSNBC</td>\n",
       "      <td>Daytime</td>\n",
       "      <td>870.20</td>\n",
       "      <td>133.0</td>\n",
       "      <td>6.542857</td>\n",
       "      <td>MSNBC LIVE M-F 9A-5P-</td>\n",
       "      <td>09:00:00</td>\n",
       "      <td>17:00:00</td>\n",
       "      <td>GR</td>\n",
       "      <td>30</td>\n",
       "      <td>NatCbl</td>\n",
       "      <td>NaN</td>\n",
       "      <td>2014-02-17</td>\n",
       "      <td>Sauna</td>\n",
       "    </tr>\n",
       "    <tr>\n",
       "      <th>4</th>\n",
       "      <td>22</td>\n",
       "      <td>2014-02-17</td>\n",
       "      <td>09:51:00</td>\n",
       "      <td>MSNBC</td>\n",
       "      <td>Daytime</td>\n",
       "      <td>870.20</td>\n",
       "      <td>133.0</td>\n",
       "      <td>6.542857</td>\n",
       "      <td>MSNBC LIVE M-F 9A-5P-</td>\n",
       "      <td>09:00:00</td>\n",
       "      <td>17:00:00</td>\n",
       "      <td>GR</td>\n",
       "      <td>30</td>\n",
       "      <td>NatCbl</td>\n",
       "      <td>NaN</td>\n",
       "      <td>2014-02-17</td>\n",
       "      <td>Yoga</td>\n",
       "    </tr>\n",
       "  </tbody>\n",
       "</table>\n",
       "</div>"
      ],
      "text/plain": [
       "   Response       Date      Time  Network  Daypart     Rate  Imps (000)  \\\n",
       "0        12 2014-02-17  06:46:00      TBS  Morning  1725.20       278.0   \n",
       "1         0 2014-02-17  08:35:00  ESPNEWS  Morning    82.65        24.0   \n",
       "2         0 2014-02-17  08:56:00      DIY  Morning   110.20        13.0   \n",
       "3         5 2014-02-17  09:16:00    MSNBC  Daytime   870.20       133.0   \n",
       "4        22 2014-02-17  09:51:00    MSNBC  Daytime   870.20       133.0   \n",
       "\n",
       "        CPM                   Property     Start       End Buy Type Length  \\\n",
       "0  6.205755                    DAYTIME  06:00:00  15:00:00       GR     30   \n",
       "1  3.443750                        Day  06:00:00  18:00:00       PE     30   \n",
       "2  8.476923  Morning Rotation  M-F 7:0  07:00:00  09:00:00       GR     30   \n",
       "3  6.542857      MSNBC LIVE M-F 9A-5P-  09:00:00  17:00:00       GR     30   \n",
       "4  6.542857      MSNBC LIVE M-F 9A-5P-  09:00:00  17:00:00       GR     30   \n",
       "\n",
       "    C/B/S Program    Week of Creative Title  \n",
       "0  NatCbl     NaN 2014-02-17           Yoga  \n",
       "1  NatCbl     NaN 2014-02-17          Sauna  \n",
       "2  NatCbl     NaN 2014-02-17          Sauna  \n",
       "3  NatCbl     NaN 2014-02-17          Sauna  \n",
       "4  NatCbl     NaN 2014-02-17           Yoga  "
      ]
     },
     "execution_count": 7,
     "metadata": {},
     "output_type": "execute_result"
    }
   ],
   "source": [
    "response_raw.head()"
   ]
  },
  {
   "cell_type": "code",
   "execution_count": 8,
   "metadata": {},
   "outputs": [
    {
     "name": "stderr",
     "output_type": "stream",
     "text": [
      "C:\\Users\\Ulric\\Anaconda3\\lib\\site-packages\\ipykernel\\__main__.py:10: FutureWarning: 'labels' is deprecated. Use 'codes' instead\n"
     ]
    }
   ],
   "source": [
    "database_cleaned = (\n",
    "    pd.read_excel(\n",
    "        \"data/Database.xlsx\",\n",
    "        header=[2]\n",
    "    )\n",
    "    .reset_index(drop=True)\n",
    "    .rename({\"index\" : \"Date\"})\n",
    ")\n",
    "database_cleaned[\"TV TOTAL\"] = database_cleaned[\"TV Campaign 1\"] +\\\n",
    "database_cleaned[\"TV Campaign 2\"] +\\\n",
    "database_cleaned[\"TV Campaign 3\"]\n",
    "database_cleaned[\"TV Present\"] = pd.Categorical(database_cleaned[\"TV TOTAL\"] > 0).labels"
   ]
  },
  {
   "cell_type": "code",
   "execution_count": 9,
   "metadata": {
    "collapsed": true
   },
   "outputs": [],
   "source": [
    "database_cleaned[\"year\"] = database_cleaned[\"Date\"].apply(lambda x: x.year)\n",
    "database_cleaned[\"month\"] = database_cleaned[\"Date\"].apply(lambda x: x.month)\n",
    "database_cleaned[\"day\"] = database_cleaned[\"Date\"].apply(lambda x: x.day)\n",
    "database_cleaned[\"unix_second\"] = database_cleaned[\"Date\"].apply(lambda x: x.value / 1e9)\n",
    "database_cleaned[\"unix_second_normed\"] = database_cleaned[\"Date\"].apply(lambda x: x.value / 1e9 - min(database_cleaned[\"unix_second\"]) )\n"
   ]
  },
  {
   "cell_type": "markdown",
   "metadata": {},
   "source": [
    "# Database data set questions\n",
    "\n",
    "* What are the most impactful drivers of total purchases?\n",
    "* If you had an extra dollar to spend, where would you spend it to yield the maximum return on your investment?\n",
    "* Can you quantify the longitudinal/compounding effect of marketing over time?\n",
    "* There are several periods of time in which there was no television advertising \n",
    "    * how would you measure the impact of the absence of TV? Are you able to quantify this?"
   ]
  },
  {
   "cell_type": "markdown",
   "metadata": {},
   "source": [
    "### check for autocorrelation\n",
    "\n",
    "* http://www.statsref.com/HTML/index.html?arima.html\n",
    "* http://people.duke.edu/~rnau/arimrule.htm"
   ]
  },
  {
   "cell_type": "code",
   "execution_count": 10,
   "metadata": {
    "collapsed": true
   },
   "outputs": [],
   "source": [
    "from statsmodels.graphics.tsaplots import plot_acf, plot_pacf"
   ]
  },
  {
   "cell_type": "code",
   "execution_count": 11,
   "metadata": {},
   "outputs": [
    {
     "data": {
      "image/png": "[encoded data removed]",
      "text/plain": [
       "<matplotlib.figure.Figure at 0x1d320ac1550>"
      ]
     },
     "execution_count": 11,
     "metadata": {},
     "output_type": "execute_result"
    },
    {
     "data": {
      "image/png": "[encoded data removed]",
      "text/plain": [
       "<matplotlib.figure.Figure at 0x1d320ac1550>"
      ]
     },
     "metadata": {},
     "output_type": "display_data"
    }
   ],
   "source": [
    "plot_acf(database_cleaned[\"Total Hotel Purchases\"], lags=50)"
   ]
  },
  {
   "cell_type": "code",
   "execution_count": 12,
   "metadata": {},
   "outputs": [
    {
     "data": {
      "image/png": "[encoded data removed]",
      "text/plain": [
       "<matplotlib.figure.Figure at 0x1d320ac1320>"
      ]
     },
     "execution_count": 12,
     "metadata": {},
     "output_type": "execute_result"
    },
    {
     "data": {
      "image/png": "[encoded data removed]",
      "text/plain": [
       "<matplotlib.figure.Figure at 0x1d320ac1320>"
      ]
     },
     "metadata": {},
     "output_type": "display_data"
    }
   ],
   "source": [
    "plot_pacf(database_cleaned[\"Total Hotel Purchases\"], lags=50)"
   ]
  },
  {
   "cell_type": "markdown",
   "metadata": {},
   "source": [
    "### Fit ARMAX\n",
    "\n",
    "(p, d, q) are the \n",
    "* p = AR order (autocorrelation)\n",
    "    * coefficients for time lag terms\n",
    "* d = the degree of differencing, \n",
    "* q = the Moving average order\n",
    "    * coefficients for lagged error terms"
   ]
  },
  {
   "cell_type": "code",
   "execution_count": 13,
   "metadata": {
    "collapsed": true
   },
   "outputs": [],
   "source": [
    "def fitTimeSeries(df, p=1, d= 1, q=1, covariateList=None, maxiter=50):\n",
    "    \n",
    "    fittedModel = sm.tsa.ARIMA(\n",
    "        endog = df[\"Total Hotel Purchases\"].astype(float), \n",
    "        order = (p, d, q), # p, q\n",
    "        exog= df.loc[:,\n",
    "                    covariateList\n",
    "        ] if covariateList else None,\n",
    "        dates = df[\"Date\"],\n",
    "        freq=None\n",
    "    ).fit(maxiter=maxiter, method = \"css-mle\", full_output=True)\n",
    "    \n",
    "    return fittedModel"
   ]
  },
  {
   "cell_type": "code",
   "execution_count": 14,
   "metadata": {
    "collapsed": true
   },
   "outputs": [],
   "source": [
    "import sys\n",
    "\n",
    "def gridSearchTimeSeries(df, pList=range(1, 8), dList = range(0, 8), qList = range(0, 8), covariateList=None):\n",
    "    results = []\n",
    "    for p in tqdm.tqdm_notebook(pList, desc=\"p\"):\n",
    "        for d in dList:\n",
    "            for q in qList:\n",
    "\n",
    "                print(\"p = %i, d = %i, q = %i\" % (p, d, q))\n",
    "                try:\n",
    "                    fittedModel = fitTimeSeries(df, p, d, q, covariateList)\n",
    "                    results.append(\n",
    "                        (p, d, q, fittedModel.llf, fittedModel.aic, fittedModel.bic, fittedModel.hqic)\n",
    "                    )\n",
    "                except ValueError as vErr:\n",
    "                    print(\"Error: {0}\".format(vErr))\n",
    "#                 except LinAlgError as laErr:\n",
    "#                     print(\"Error: {0}\".format(laErr))\n",
    "                except:\n",
    "                    print (\"Unexpected error:\", sys.exc_info()[0])\n",
    "                    pass\n",
    "                    \n",
    "            \n",
    "    return pd.DataFrame(results, columns=[\n",
    "        \"p\", \"d\",\"q\", \"llf\", \"aic\", \"bic\", \"hqic\"])"
   ]
  },
  {
   "cell_type": "code",
   "execution_count": 19,
   "metadata": {},
   "outputs": [
    {
     "name": "stderr",
     "output_type": "stream",
     "text": [
      "Widget Javascript not detected.  It may not be installed properly. Did you enable the widgetsnbextension? If not, then run \"jupyter nbextension enable --py --sys-prefix widgetsnbextension\"\n"
     ]
    },
    {
     "name": "stdout",
     "output_type": "stream",
     "text": [
      "p = 0, d = 0, q = 0\n",
      "p = 0, d = 1, q = 0\n",
      "p = 0, d = 2, q = 0\n",
      "\n"
     ]
    }
   ],
   "source": [
    "gsDiffResults = gridSearchTimeSeries(\n",
    "    database_cleaned,\n",
    "    pList=[0], \n",
    "    dList = range(0, 3), \n",
    "    qList = [0]\n",
    ")"
   ]
  },
  {
   "cell_type": "code",
   "execution_count": 21,
   "metadata": {},
   "outputs": [
    {
     "data": {
      "text/html": [
       "<div>\n",
       "<table border=\"1\" class=\"dataframe\">\n",
       "  <thead>\n",
       "    <tr style=\"text-align: right;\">\n",
       "      <th></th>\n",
       "      <th>p</th>\n",
       "      <th>d</th>\n",
       "      <th>q</th>\n",
       "      <th>llf</th>\n",
       "      <th>aic</th>\n",
       "      <th>bic</th>\n",
       "      <th>hqic</th>\n",
       "    </tr>\n",
       "  </thead>\n",
       "  <tbody>\n",
       "    <tr>\n",
       "      <th>1</th>\n",
       "      <td>0</td>\n",
       "      <td>1</td>\n",
       "      <td>0</td>\n",
       "      <td>-9810.173589</td>\n",
       "      <td>19624.347178</td>\n",
       "      <td>19634.168679</td>\n",
       "      <td>19628.079491</td>\n",
       "    </tr>\n",
       "    <tr>\n",
       "      <th>2</th>\n",
       "      <td>0</td>\n",
       "      <td>2</td>\n",
       "      <td>0</td>\n",
       "      <td>-10179.414615</td>\n",
       "      <td>20362.829231</td>\n",
       "      <td>20372.648737</td>\n",
       "      <td>20366.560966</td>\n",
       "    </tr>\n",
       "    <tr>\n",
       "      <th>0</th>\n",
       "      <td>0</td>\n",
       "      <td>0</td>\n",
       "      <td>0</td>\n",
       "      <td>-10262.169000</td>\n",
       "      <td>20528.338000</td>\n",
       "      <td>20538.161495</td>\n",
       "      <td>20532.070890</td>\n",
       "    </tr>\n",
       "  </tbody>\n",
       "</table>\n",
       "</div>"
      ],
      "text/plain": [
       "   p  d  q           llf           aic           bic          hqic\n",
       "1  0  1  0  -9810.173589  19624.347178  19634.168679  19628.079491\n",
       "2  0  2  0 -10179.414615  20362.829231  20372.648737  20366.560966\n",
       "0  0  0  0 -10262.169000  20528.338000  20538.161495  20532.070890"
      ]
     },
     "execution_count": 21,
     "metadata": {},
     "output_type": "execute_result"
    }
   ],
   "source": [
    "gsDiffResults.sort_values(\"hqic\")"
   ]
  },
  {
   "cell_type": "code",
   "execution_count": 22,
   "metadata": {
    "collapsed": true
   },
   "outputs": [],
   "source": [
    "diffModel = fitTimeSeries(\n",
    "    df=database_cleaned, \n",
    "    p=0, \n",
    "    d=1, \n",
    "    q=0, \n",
    "    covariateList=None\n",
    ")"
   ]
  },
  {
   "cell_type": "markdown",
   "metadata": {},
   "source": [
    "acf\n",
    "* Autocorrelation at lag 2,5, 7\n",
    "    * seasonal\n",
    "pacf\n",
    "* tails off gradually\n",
    "    * suggests MA component"
   ]
  },
  {
   "cell_type": "code",
   "execution_count": 24,
   "metadata": {},
   "outputs": [
    {
     "data": {
      "image/png": "[encoded data removed]",
      "text/plain": [
       "<matplotlib.figure.Figure at 0x1d323f14c88>"
      ]
     },
     "metadata": {},
     "output_type": "display_data"
    },
    {
     "data": {
      "image/png": "[encoded data removed]",
      "text/plain": [
       "<matplotlib.figure.Figure at 0x1d323d400f0>"
      ]
     },
     "metadata": {},
     "output_type": "display_data"
    }
   ],
   "source": [
    "_= plot_acf(diffModel.resid, lags=50)\n",
    "_ = plot_pacf(diffModel.resid, lags=50)"
   ]
  },
  {
   "cell_type": "code",
   "execution_count": null,
   "metadata": {
    "scrolled": true
   },
   "outputs": [
    {
     "name": "stderr",
     "output_type": "stream",
     "text": [
      "Widget Javascript not detected.  It may not be installed properly. Did you enable the widgetsnbextension? If not, then run \"jupyter nbextension enable --py --sys-prefix widgetsnbextension\"\n"
     ]
    },
    {
     "name": "stdout",
     "output_type": "stream",
     "text": [
      "p = 1, d = 0, q = 1\n",
      "p = 1, d = 0, q = 3\n",
      "p = 1, d = 0, q = 6\n",
      "p = 1, d = 0, q = 7\n",
      "p = 1, d = 1, q = 1\n",
      "p = 1, d = 1, q = 3\n",
      "p = 1, d = 1, q = 6\n",
      "p = 1, d = 1, q = 7\n",
      "p = 1, d = 2, q = 1\n",
      "p = 1, d = 2, q = 3\n",
      "Error: The computed initial MA coefficients are not invertible\n",
      "You should induce invertibility, choose a different model order, or you can\n",
      "pass your own start_params.\n",
      "p = 1, d = 2, q = 6\n",
      "Error: The computed initial MA coefficients are not invertible\n",
      "You should induce invertibility, choose a different model order, or you can\n",
      "pass your own start_params.\n",
      "p = 1, d = 2, q = 7\n",
      "Error: The computed initial MA coefficients are not invertible\n",
      "You should induce invertibility, choose a different model order, or you can\n",
      "pass your own start_params.\n",
      "p = 2, d = 0, q = 1\n",
      "p = 2, d = 0, q = 3\n",
      "p = 2, d = 0, q = 6\n",
      "p = 2, d = 0, q = 7\n",
      "p = 2, d = 1, q = 1\n",
      "p = 2, d = 1, q = 3\n",
      "p = 2, d = 1, q = 6\n"
     ]
    },
    {
     "name": "stderr",
     "output_type": "stream",
     "text": [
      "C:\\Users\\Ulric\\Anaconda3\\lib\\site-packages\\statsmodels\\base\\model.py:466: ConvergenceWarning: Maximum Likelihood optimization failed to converge. Check mle_retvals\n",
      "  \"Check mle_retvals\", ConvergenceWarning)\n"
     ]
    },
    {
     "name": "stdout",
     "output_type": "stream",
     "text": [
      "p = 2, d = 1, q = 7\n"
     ]
    },
    {
     "name": "stderr",
     "output_type": "stream",
     "text": [
      "C:\\Users\\Ulric\\Anaconda3\\lib\\site-packages\\statsmodels\\base\\model.py:466: ConvergenceWarning: Maximum Likelihood optimization failed to converge. Check mle_retvals\n",
      "  \"Check mle_retvals\", ConvergenceWarning)\n"
     ]
    },
    {
     "name": "stdout",
     "output_type": "stream",
     "text": [
      "p = 2, d = 2, q = 1\n",
      "p = 2, d = 2, q = 3\n",
      "Error: The computed initial MA coefficients are not invertible\n",
      "You should induce invertibility, choose a different model order, or you can\n",
      "pass your own start_params.\n",
      "p = 2, d = 2, q = 6\n",
      "Error: The computed initial MA coefficients are not invertible\n",
      "You should induce invertibility, choose a different model order, or you can\n",
      "pass your own start_params.\n",
      "p = 2, d = 2, q = 7\n",
      "Error: The computed initial MA coefficients are not invertible\n",
      "You should induce invertibility, choose a different model order, or you can\n",
      "pass your own start_params.\n",
      "p = 3, d = 0, q = 1\n",
      "p = 3, d = 0, q = 3\n",
      "p = 3, d = 0, q = 6\n"
     ]
    },
    {
     "name": "stderr",
     "output_type": "stream",
     "text": [
      "C:\\Users\\Ulric\\Anaconda3\\lib\\site-packages\\statsmodels\\base\\model.py:466: ConvergenceWarning: Maximum Likelihood optimization failed to converge. Check mle_retvals\n",
      "  \"Check mle_retvals\", ConvergenceWarning)\n"
     ]
    },
    {
     "name": "stdout",
     "output_type": "stream",
     "text": [
      "p = 3, d = 0, q = 7\n"
     ]
    },
    {
     "name": "stderr",
     "output_type": "stream",
     "text": [
      "C:\\Users\\Ulric\\Anaconda3\\lib\\site-packages\\statsmodels\\base\\model.py:466: ConvergenceWarning: Maximum Likelihood optimization failed to converge. Check mle_retvals\n",
      "  \"Check mle_retvals\", ConvergenceWarning)\n"
     ]
    },
    {
     "name": "stdout",
     "output_type": "stream",
     "text": [
      "p = 3, d = 1, q = 1\n",
      "p = 3, d = 1, q = 3\n",
      "p = 3, d = 1, q = 6\n"
     ]
    },
    {
     "name": "stderr",
     "output_type": "stream",
     "text": [
      "C:\\Users\\Ulric\\Anaconda3\\lib\\site-packages\\statsmodels\\base\\model.py:466: ConvergenceWarning: Maximum Likelihood optimization failed to converge. Check mle_retvals\n",
      "  \"Check mle_retvals\", ConvergenceWarning)\n"
     ]
    },
    {
     "name": "stdout",
     "output_type": "stream",
     "text": [
      "p = 3, d = 1, q = 7\n"
     ]
    },
    {
     "name": "stderr",
     "output_type": "stream",
     "text": [
      "C:\\Users\\Ulric\\Anaconda3\\lib\\site-packages\\statsmodels\\base\\model.py:466: ConvergenceWarning: Maximum Likelihood optimization failed to converge. Check mle_retvals\n",
      "  \"Check mle_retvals\", ConvergenceWarning)\n"
     ]
    },
    {
     "name": "stdout",
     "output_type": "stream",
     "text": [
      "p = 3, d = 2, q = 1\n"
     ]
    },
    {
     "name": "stderr",
     "output_type": "stream",
     "text": [
      "C:\\Users\\Ulric\\Anaconda3\\lib\\site-packages\\statsmodels\\base\\model.py:466: ConvergenceWarning: Maximum Likelihood optimization failed to converge. Check mle_retvals\n",
      "  \"Check mle_retvals\", ConvergenceWarning)\n"
     ]
    },
    {
     "name": "stdout",
     "output_type": "stream",
     "text": [
      "p = 3, d = 2, q = 3\n",
      "Error: The computed initial MA coefficients are not invertible\n",
      "You should induce invertibility, choose a different model order, or you can\n",
      "pass your own start_params.\n",
      "p = 3, d = 2, q = 6\n",
      "Error: The computed initial MA coefficients are not invertible\n",
      "You should induce invertibility, choose a different model order, or you can\n",
      "pass your own start_params.\n",
      "p = 3, d = 2, q = 7\n",
      "Error: The computed initial MA coefficients are not invertible\n",
      "You should induce invertibility, choose a different model order, or you can\n",
      "pass your own start_params.\n",
      "p = 4, d = 0, q = 1\n",
      "p = 4, d = 0, q = 3\n"
     ]
    },
    {
     "name": "stderr",
     "output_type": "stream",
     "text": [
      "C:\\Users\\Ulric\\Anaconda3\\lib\\site-packages\\statsmodels\\base\\model.py:466: ConvergenceWarning: Maximum Likelihood optimization failed to converge. Check mle_retvals\n",
      "  \"Check mle_retvals\", ConvergenceWarning)\n"
     ]
    },
    {
     "name": "stdout",
     "output_type": "stream",
     "text": [
      "p = 4, d = 0, q = 6\n"
     ]
    },
    {
     "name": "stderr",
     "output_type": "stream",
     "text": [
      "C:\\Users\\Ulric\\Anaconda3\\lib\\site-packages\\statsmodels\\base\\model.py:466: ConvergenceWarning: Maximum Likelihood optimization failed to converge. Check mle_retvals\n",
      "  \"Check mle_retvals\", ConvergenceWarning)\n"
     ]
    },
    {
     "name": "stdout",
     "output_type": "stream",
     "text": [
      "p = 4, d = 0, q = 7\n"
     ]
    },
    {
     "name": "stderr",
     "output_type": "stream",
     "text": [
      "C:\\Users\\Ulric\\Anaconda3\\lib\\site-packages\\statsmodels\\base\\model.py:466: ConvergenceWarning: Maximum Likelihood optimization failed to converge. Check mle_retvals\n",
      "  \"Check mle_retvals\", ConvergenceWarning)\n"
     ]
    },
    {
     "name": "stdout",
     "output_type": "stream",
     "text": [
      "p = 4, d = 1, q = 1\n",
      "p = 4, d = 1, q = 3\n",
      "p = 4, d = 1, q = 6\n"
     ]
    },
    {
     "name": "stderr",
     "output_type": "stream",
     "text": [
      "C:\\Users\\Ulric\\Anaconda3\\lib\\site-packages\\statsmodels\\base\\model.py:466: ConvergenceWarning: Maximum Likelihood optimization failed to converge. Check mle_retvals\n",
      "  \"Check mle_retvals\", ConvergenceWarning)\n"
     ]
    },
    {
     "name": "stdout",
     "output_type": "stream",
     "text": [
      "p = 4, d = 1, q = 7\n"
     ]
    },
    {
     "name": "stderr",
     "output_type": "stream",
     "text": [
      "C:\\Users\\Ulric\\Anaconda3\\lib\\site-packages\\statsmodels\\base\\model.py:466: ConvergenceWarning: Maximum Likelihood optimization failed to converge. Check mle_retvals\n",
      "  \"Check mle_retvals\", ConvergenceWarning)\n"
     ]
    },
    {
     "name": "stdout",
     "output_type": "stream",
     "text": [
      "p = 4, d = 2, q = 1\n",
      "p = 4, d = 2, q = 3\n",
      "Error: The computed initial MA coefficients are not invertible\n",
      "You should induce invertibility, choose a different model order, or you can\n",
      "pass your own start_params.\n",
      "p = 4, d = 2, q = 6\n",
      "Error: The computed initial MA coefficients are not invertible\n",
      "You should induce invertibility, choose a different model order, or you can\n",
      "pass your own start_params.\n",
      "p = 4, d = 2, q = 7\n",
      "Error: The computed initial MA coefficients are not invertible\n",
      "You should induce invertibility, choose a different model order, or you can\n",
      "pass your own start_params.\n",
      "p = 5, d = 0, q = 1\n",
      "p = 5, d = 0, q = 3\n"
     ]
    },
    {
     "name": "stderr",
     "output_type": "stream",
     "text": [
      "C:\\Users\\Ulric\\Anaconda3\\lib\\site-packages\\statsmodels\\base\\model.py:466: ConvergenceWarning: Maximum Likelihood optimization failed to converge. Check mle_retvals\n",
      "  \"Check mle_retvals\", ConvergenceWarning)\n"
     ]
    },
    {
     "name": "stdout",
     "output_type": "stream",
     "text": [
      "p = 5, d = 0, q = 6\n"
     ]
    },
    {
     "name": "stderr",
     "output_type": "stream",
     "text": [
      "C:\\Users\\Ulric\\Anaconda3\\lib\\site-packages\\statsmodels\\base\\model.py:466: ConvergenceWarning: Maximum Likelihood optimization failed to converge. Check mle_retvals\n",
      "  \"Check mle_retvals\", ConvergenceWarning)\n"
     ]
    },
    {
     "name": "stdout",
     "output_type": "stream",
     "text": [
      "p = 5, d = 0, q = 7\n"
     ]
    },
    {
     "name": "stderr",
     "output_type": "stream",
     "text": [
      "C:\\Users\\Ulric\\Anaconda3\\lib\\site-packages\\statsmodels\\base\\model.py:466: ConvergenceWarning: Maximum Likelihood optimization failed to converge. Check mle_retvals\n",
      "  \"Check mle_retvals\", ConvergenceWarning)\n"
     ]
    },
    {
     "name": "stdout",
     "output_type": "stream",
     "text": [
      "p = 5, d = 1, q = 1\n",
      "p = 5, d = 1, q = 3\n"
     ]
    },
    {
     "name": "stderr",
     "output_type": "stream",
     "text": [
      "C:\\Users\\Ulric\\Anaconda3\\lib\\site-packages\\statsmodels\\base\\model.py:466: ConvergenceWarning: Maximum Likelihood optimization failed to converge. Check mle_retvals\n",
      "  \"Check mle_retvals\", ConvergenceWarning)\n"
     ]
    },
    {
     "name": "stdout",
     "output_type": "stream",
     "text": [
      "p = 5, d = 1, q = 6\n"
     ]
    },
    {
     "name": "stderr",
     "output_type": "stream",
     "text": [
      "C:\\Users\\Ulric\\Anaconda3\\lib\\site-packages\\statsmodels\\base\\model.py:466: ConvergenceWarning: Maximum Likelihood optimization failed to converge. Check mle_retvals\n",
      "  \"Check mle_retvals\", ConvergenceWarning)\n"
     ]
    },
    {
     "name": "stdout",
     "output_type": "stream",
     "text": [
      "p = 5, d = 1, q = 7\n"
     ]
    },
    {
     "name": "stderr",
     "output_type": "stream",
     "text": [
      "C:\\Users\\Ulric\\Anaconda3\\lib\\site-packages\\statsmodels\\base\\model.py:466: ConvergenceWarning: Maximum Likelihood optimization failed to converge. Check mle_retvals\n",
      "  \"Check mle_retvals\", ConvergenceWarning)\n"
     ]
    },
    {
     "name": "stdout",
     "output_type": "stream",
     "text": [
      "p = 5, d = 2, q = 1\n",
      "p = 5, d = 2, q = 3\n",
      "p = 5, d = 2, q = 6\n",
      "Error: The computed initial MA coefficients are not invertible\n",
      "You should induce invertibility, choose a different model order, or you can\n",
      "pass your own start_params.\n",
      "p = 5, d = 2, q = 7\n"
     ]
    },
    {
     "name": "stderr",
     "output_type": "stream",
     "text": [
      "C:\\Users\\Ulric\\Anaconda3\\lib\\site-packages\\statsmodels\\base\\model.py:466: ConvergenceWarning: Maximum Likelihood optimization failed to converge. Check mle_retvals\n",
      "  \"Check mle_retvals\", ConvergenceWarning)\n"
     ]
    },
    {
     "name": "stdout",
     "output_type": "stream",
     "text": [
      "p = 6, d = 0, q = 1\n",
      "p = 6, d = 0, q = 3\n"
     ]
    },
    {
     "name": "stderr",
     "output_type": "stream",
     "text": [
      "C:\\Users\\Ulric\\Anaconda3\\lib\\site-packages\\statsmodels\\base\\model.py:466: ConvergenceWarning: Maximum Likelihood optimization failed to converge. Check mle_retvals\n",
      "  \"Check mle_retvals\", ConvergenceWarning)\n"
     ]
    },
    {
     "name": "stdout",
     "output_type": "stream",
     "text": [
      "p = 6, d = 0, q = 6\n"
     ]
    },
    {
     "name": "stderr",
     "output_type": "stream",
     "text": [
      "C:\\Users\\Ulric\\Anaconda3\\lib\\site-packages\\statsmodels\\base\\model.py:466: ConvergenceWarning: Maximum Likelihood optimization failed to converge. Check mle_retvals\n",
      "  \"Check mle_retvals\", ConvergenceWarning)\n"
     ]
    },
    {
     "name": "stdout",
     "output_type": "stream",
     "text": [
      "p = 6, d = 0, q = 7\n"
     ]
    },
    {
     "name": "stderr",
     "output_type": "stream",
     "text": [
      "C:\\Users\\Ulric\\Anaconda3\\lib\\site-packages\\statsmodels\\base\\model.py:466: ConvergenceWarning: Maximum Likelihood optimization failed to converge. Check mle_retvals\n",
      "  \"Check mle_retvals\", ConvergenceWarning)\n"
     ]
    },
    {
     "name": "stdout",
     "output_type": "stream",
     "text": [
      "p = 6, d = 1, q = 1\n",
      "p = 6, d = 1, q = 3\n"
     ]
    },
    {
     "name": "stderr",
     "output_type": "stream",
     "text": [
      "C:\\Users\\Ulric\\Anaconda3\\lib\\site-packages\\statsmodels\\base\\model.py:466: ConvergenceWarning: Maximum Likelihood optimization failed to converge. Check mle_retvals\n",
      "  \"Check mle_retvals\", ConvergenceWarning)\n"
     ]
    },
    {
     "name": "stdout",
     "output_type": "stream",
     "text": [
      "p = 6, d = 1, q = 6\n"
     ]
    },
    {
     "name": "stderr",
     "output_type": "stream",
     "text": [
      "C:\\Users\\Ulric\\Anaconda3\\lib\\site-packages\\statsmodels\\base\\model.py:466: ConvergenceWarning: Maximum Likelihood optimization failed to converge. Check mle_retvals\n",
      "  \"Check mle_retvals\", ConvergenceWarning)\n"
     ]
    },
    {
     "name": "stdout",
     "output_type": "stream",
     "text": [
      "p = 6, d = 1, q = 7\n"
     ]
    },
    {
     "name": "stderr",
     "output_type": "stream",
     "text": [
      "C:\\Users\\Ulric\\Anaconda3\\lib\\site-packages\\statsmodels\\base\\model.py:466: ConvergenceWarning: Maximum Likelihood optimization failed to converge. Check mle_retvals\n",
      "  \"Check mle_retvals\", ConvergenceWarning)\n"
     ]
    },
    {
     "name": "stdout",
     "output_type": "stream",
     "text": [
      "p = 6, d = 2, q = 1\n",
      "p = 6, d = 2, q = 3\n"
     ]
    },
    {
     "name": "stderr",
     "output_type": "stream",
     "text": [
      "C:\\Users\\Ulric\\Anaconda3\\lib\\site-packages\\statsmodels\\base\\model.py:466: ConvergenceWarning: Maximum Likelihood optimization failed to converge. Check mle_retvals\n",
      "  \"Check mle_retvals\", ConvergenceWarning)\n"
     ]
    },
    {
     "name": "stdout",
     "output_type": "stream",
     "text": [
      "p = 6, d = 2, q = 6\n"
     ]
    },
    {
     "name": "stderr",
     "output_type": "stream",
     "text": [
      "C:\\Users\\Ulric\\Anaconda3\\lib\\site-packages\\statsmodels\\tsa\\tsatools.py:520: RuntimeWarning: invalid value encountered in log\n",
      "  invarcoefs = -np.log((1-params)/(1+params))\n"
     ]
    }
   ],
   "source": [
    "gridSearchResults = gridSearchTimeSeries(\n",
    "    database_cleaned,\n",
    "    pList=range(1, 8), \n",
    "    dList = range(0, 3), \n",
    "    qList = [1, 3, 6, 7]\n",
    ")"
   ]
  },
  {
   "cell_type": "code",
   "execution_count": 1,
   "metadata": {},
   "outputs": [
    {
     "ename": "NameError",
     "evalue": "name 'database_cleaned' is not defined",
     "output_type": "error",
     "traceback": [
      "\u001b[0;31m---------------------------------------------------------------------------\u001b[0m",
      "\u001b[0;31mNameError\u001b[0m                                 Traceback (most recent call last)",
      "\u001b[0;32m<ipython-input-1-f282b12e15c9>\u001b[0m in \u001b[0;36m<module>\u001b[0;34m()\u001b[0m\n\u001b[0;32m----> 1\u001b[0;31m \u001b[0mprint\u001b[0m\u001b[1;33m(\u001b[0m\u001b[0mdatabase_cleaned\u001b[0m\u001b[1;33m[\u001b[0m\u001b[1;34m\"Date\"\u001b[0m\u001b[1;33m]\u001b[0m\u001b[1;33m.\u001b[0m\u001b[0mmin\u001b[0m\u001b[1;33m(\u001b[0m\u001b[1;33m)\u001b[0m\u001b[1;33m,\u001b[0m \u001b[0mdatabase_cleaned\u001b[0m\u001b[1;33m[\u001b[0m\u001b[1;34m\"Date\"\u001b[0m\u001b[1;33m]\u001b[0m\u001b[1;33m.\u001b[0m\u001b[0mmax\u001b[0m\u001b[1;33m(\u001b[0m\u001b[1;33m)\u001b[0m\u001b[1;33m)\u001b[0m\u001b[1;33m\u001b[0m\u001b[0m\n\u001b[0m",
      "\u001b[0;31mNameError\u001b[0m: name 'database_cleaned' is not defined"
     ]
    }
   ],
   "source": [
    "print(database_cleaned[\"Date\"].min(), database_cleaned[\"Date\"].max())"
   ]
  },
  {
   "cell_type": "code",
   "execution_count": 42,
   "metadata": {},
   "outputs": [
    {
     "data": {
      "text/html": [
       "<div>\n",
       "<table border=\"1\" class=\"dataframe\">\n",
       "  <thead>\n",
       "    <tr style=\"text-align: right;\">\n",
       "      <th></th>\n",
       "      <th>p</th>\n",
       "      <th>d</th>\n",
       "      <th>q</th>\n",
       "      <th>llf</th>\n",
       "      <th>aic</th>\n",
       "      <th>bic</th>\n",
       "      <th>hqic</th>\n",
       "    </tr>\n",
       "  </thead>\n",
       "  <tbody>\n",
       "    <tr>\n",
       "      <th>60</th>\n",
       "      <td>7</td>\n",
       "      <td>2</td>\n",
       "      <td>1</td>\n",
       "      <td>-9194.038204</td>\n",
       "      <td>18408.076408</td>\n",
       "      <td>18457.173940</td>\n",
       "      <td>18426.735086</td>\n",
       "    </tr>\n",
       "    <tr>\n",
       "      <th>61</th>\n",
       "      <td>7</td>\n",
       "      <td>2</td>\n",
       "      <td>2</td>\n",
       "      <td>-9193.094507</td>\n",
       "      <td>18408.189014</td>\n",
       "      <td>18462.196300</td>\n",
       "      <td>18428.713560</td>\n",
       "    </tr>\n",
       "    <tr>\n",
       "      <th>56</th>\n",
       "      <td>7</td>\n",
       "      <td>1</td>\n",
       "      <td>0</td>\n",
       "      <td>-9198.525043</td>\n",
       "      <td>18415.050085</td>\n",
       "      <td>18459.246843</td>\n",
       "      <td>18431.845495</td>\n",
       "    </tr>\n",
       "    <tr>\n",
       "      <th>57</th>\n",
       "      <td>7</td>\n",
       "      <td>1</td>\n",
       "      <td>1</td>\n",
       "      <td>-9197.558267</td>\n",
       "      <td>18415.116534</td>\n",
       "      <td>18464.224042</td>\n",
       "      <td>18433.778100</td>\n",
       "    </tr>\n",
       "    <tr>\n",
       "      <th>58</th>\n",
       "      <td>7</td>\n",
       "      <td>1</td>\n",
       "      <td>2</td>\n",
       "      <td>-9196.963605</td>\n",
       "      <td>18415.927211</td>\n",
       "      <td>18469.945469</td>\n",
       "      <td>18436.454933</td>\n",
       "    </tr>\n",
       "  </tbody>\n",
       "</table>\n",
       "</div>"
      ],
      "text/plain": [
       "    p  d  q          llf           aic           bic          hqic\n",
       "60  7  2  1 -9194.038204  18408.076408  18457.173940  18426.735086\n",
       "61  7  2  2 -9193.094507  18408.189014  18462.196300  18428.713560\n",
       "56  7  1  0 -9198.525043  18415.050085  18459.246843  18431.845495\n",
       "57  7  1  1 -9197.558267  18415.116534  18464.224042  18433.778100\n",
       "58  7  1  2 -9196.963605  18415.927211  18469.945469  18436.454933"
      ]
     },
     "execution_count": 42,
     "metadata": {},
     "output_type": "execute_result"
    }
   ],
   "source": [
    "gridSearchResults.sort_values(\"hqic\").head()"
   ]
  },
  {
   "cell_type": "code",
   "execution_count": 24,
   "metadata": {
    "collapsed": true
   },
   "outputs": [],
   "source": [
    "# sns.heatmap(\n",
    "#     gridSearchResults.pivot(index=\"p\", columns=[\"q\"], values = \"hqic\")\n",
    "# )\n",
    "# # gridSearchResults.sort_values(\"hqic\")"
   ]
  },
  {
   "cell_type": "markdown",
   "metadata": {},
   "source": [
    "# Fit best base model"
   ]
  },
  {
   "cell_type": "code",
   "execution_count": 43,
   "metadata": {},
   "outputs": [
    {
     "name": "stderr",
     "output_type": "stream",
     "text": [
      "C:\\Users\\Ulric\\Anaconda3\\lib\\site-packages\\statsmodels\\base\\model.py:466: ConvergenceWarning: Maximum Likelihood optimization failed to converge. Check mle_retvals\n",
      "  \"Check mle_retvals\", ConvergenceWarning)\n"
     ]
    }
   ],
   "source": [
    "tsBaseModel = fitTimeSeries(\n",
    "    df=database_cleaned, \n",
    "    p=7, \n",
    "    d=2, \n",
    "    q=1, \n",
    "    covariateList=None\n",
    ")"
   ]
  },
  {
   "cell_type": "code",
   "execution_count": 45,
   "metadata": {
    "scrolled": false
   },
   "outputs": [
    {
     "name": "stdout",
     "output_type": "stream",
     "text": [
      "                                ARIMA Model Results                                 \n",
      "====================================================================================\n",
      "Dep. Variable:     D2.Total Hotel Purchases   No. Observations:                 1002\n",
      "Model:                       ARIMA(7, 2, 1)   Log Likelihood               -9194.038\n",
      "Method:                             css-mle   S.D. of innovations           2320.109\n",
      "Date:                      Fri, 16 Mar 2018   AIC                          18408.075\n",
      "Time:                              14:37:30   BIC                          18457.173\n",
      "Sample:                          01-03-2015   HQIC                         18426.734\n",
      "                               - 09-30-2017                                         \n",
      "==================================================================================================\n",
      "                                     coef    std err          z      P>|z|      [95.0% Conf. Int.]\n",
      "--------------------------------------------------------------------------------------------------\n",
      "const                             -0.0577      0.106     -0.545      0.586        -0.265     0.150\n",
      "ar.L1.D2.Total Hotel Purchases    -0.2776      0.028     -9.959      0.000        -0.332    -0.223\n",
      "ar.L2.D2.Total Hotel Purchases    -0.4027      0.028    -14.354      0.000        -0.458    -0.348\n",
      "ar.L3.D2.Total Hotel Purchases    -0.2864      0.029     -9.907      0.000        -0.343    -0.230\n",
      "ar.L4.D2.Total Hotel Purchases    -0.3040      0.029    -10.589      0.000        -0.360    -0.248\n",
      "ar.L5.D2.Total Hotel Purchases    -0.3368      0.029    -11.664      0.000        -0.393    -0.280\n",
      "ar.L6.D2.Total Hotel Purchases    -0.2637      0.028     -9.404      0.000        -0.319    -0.209\n",
      "ar.L7.D2.Total Hotel Purchases     0.4744      0.028     16.987      0.000         0.420     0.529\n",
      "ma.L1.D2.Total Hotel Purchases    -1.0000      0.003   -351.138      0.000        -1.006    -0.994\n",
      "                                    Roots                                    \n",
      "=============================================================================\n",
      "                 Real           Imaginary           Modulus         Frequency\n",
      "-----------------------------------------------------------------------------\n",
      "AR.1           -0.9625           -0.4785j            1.0749           -0.4266\n",
      "AR.2           -0.9625           +0.4785j            1.0749            0.4266\n",
      "AR.3           -0.2244           -0.9962j            1.0212           -0.2853\n",
      "AR.4           -0.2244           +0.9962j            1.0212            0.2853\n",
      "AR.5            0.6451           -0.8068j            1.0330           -0.1427\n",
      "AR.6            0.6451           +0.8068j            1.0330            0.1427\n",
      "AR.7            1.6396           -0.0000j            1.6396           -0.0000\n",
      "MA.1            1.0000           +0.0000j            1.0000            0.0000\n",
      "-----------------------------------------------------------------------------\n"
     ]
    }
   ],
   "source": [
    "print(tsBaseModel.summary())"
   ]
  },
  {
   "cell_type": "code",
   "execution_count": 46,
   "metadata": {},
   "outputs": [
    {
     "name": "stdout",
     "output_type": "stream",
     "text": [
      "2015-01-01 00:00:00 2017-09-30 00:00:00\n"
     ]
    }
   ],
   "source": [
    "print(database_cleaned[\"Date\"].min(), database_cleaned[\"Date\"].max())"
   ]
  },
  {
   "cell_type": "code",
   "execution_count": 48,
   "metadata": {},
   "outputs": [
    {
     "name": "stderr",
     "output_type": "stream",
     "text": [
      "C:\\Users\\Ulric\\Anaconda3\\lib\\site-packages\\statsmodels\\tsa\\arima_model.py:1847: FutureWarning: TimeSeries is deprecated. Please use Series\n",
      "  forecast = TimeSeries(forecast, index=self.data.predict_dates)\n"
     ]
    },
    {
     "data": {
      "image/png": "[encoded data removed]",
      "text/plain": [
       "<matplotlib.figure.Figure at 0x1fd0cd15dd8>"
      ]
     },
     "metadata": {},
     "output_type": "display_data"
    }
   ],
   "source": [
    "_ = tsBaseModel.plot_predict(\n",
    "    start = (database_cleaned[\"Date\"].min() + pd.Timedelta(2, unit=\"D\")).strftime(\"%Y-%m-%d\"),\n",
    "    end = (database_cleaned[\"Date\"].max() + pd.Timedelta(1, unit=\"Y\")).strftime(\"%Y-%m-%d\")\n",
    ")\n"
   ]
  },
  {
   "cell_type": "code",
   "execution_count": 81,
   "metadata": {},
   "outputs": [
    {
     "data": {
      "image/png": "[encoded data removed]",
      "text/plain": [
       "<matplotlib.figure.Figure at 0x1fd0cffcf98>"
      ]
     },
     "metadata": {},
     "output_type": "display_data"
    },
    {
     "data": {
      "image/png": "[encoded data removed]",
      "text/plain": [
       "<matplotlib.figure.Figure at 0x1fd0a266908>"
      ]
     },
     "metadata": {},
     "output_type": "display_data"
    }
   ],
   "source": [
    "_ = plot_acf(tsBaseModel.resid, lags=50)\n",
    "_ = plot_pacf(tsBaseModel.resid, lags=50)"
   ]
  },
  {
   "cell_type": "markdown",
   "metadata": {},
   "source": [
    "# Add high level covariates"
   ]
  },
  {
   "cell_type": "code",
   "execution_count": 101,
   "metadata": {},
   "outputs": [
    {
     "data": {
      "text/plain": [
       "Index(['Date', 'Remarketing Spend', 'Partner Search Spend',\n",
       "       'Partner A Hotel Spend', 'Partner B Hotel Spend',\n",
       "       'Partner C Hotel Spend', 'Other Partner Spend', 'Partner TOTAL',\n",
       "       'Affiliate Standard Hotel Spend', 'Affiliate Premium Hotel Spend',\n",
       "       'Affiliate Other Hotel Spend', 'Affiliate Standard Flight Spend',\n",
       "       'Affiliate Premium Flight Spend', 'Affiliate Other Flight Spend',\n",
       "       'Affiliate Standard Rental Car Spend',\n",
       "       'Affiliate Premium Rental Car Spend',\n",
       "       'Affiliate Other Rental Car Spend', 'Affiliate VP\\nCost',\n",
       "       'Affiliate TOTAL', 'Brand Search Mobile Spend',\n",
       "       'Brand Search Non-Mobile Spend', 'Flight Search Spend',\n",
       "       'Other Search Spend', 'Hotel Mobile Search Spend',\n",
       "       'Hotel Non-Mobile Search Spend', 'Rental Car Mobile\\nSpend',\n",
       "       'Rental Car Non-Mobile\\nSpend', 'Search TOTAL', 'TV Campaign 1',\n",
       "       'TV Campaign 2', 'TV Campaign 3', 'New Customer Flight Purchases',\n",
       "       'New Customer Hotel Purchases', 'Repeat Customer Flight Purchases',\n",
       "       'Repeat Customer Hotel Purchases', 'Type 1 Flight Purchase',\n",
       "       'Type 1 Hotel Purchase', 'Type 2 Flight Purchase',\n",
       "       'Type 2 Hotel Purchase', 'Total Flight Purchases',\n",
       "       'Total Hotel Purchases', 'TV TOTAL', 'TV Present', 'year', 'month',\n",
       "       'day', 'unix_second', 'unix_second_normed'],\n",
       "      dtype='object')"
      ]
     },
     "execution_count": 101,
     "metadata": {},
     "output_type": "execute_result"
    }
   ],
   "source": [
    "database_cleaned.columns"
   ]
  },
  {
   "cell_type": "code",
   "execution_count": 49,
   "metadata": {},
   "outputs": [
    {
     "name": "stderr",
     "output_type": "stream",
     "text": [
      "Widget Javascript not detected.  It may not be installed properly. Did you enable the widgetsnbextension? If not, then run \"jupyter nbextension enable --py --sys-prefix widgetsnbextension\"\n"
     ]
    },
    {
     "name": "stdout",
     "output_type": "stream",
     "text": [
      "p = 1, d = 0, q = 0\n"
     ]
    },
    {
     "name": "stderr",
     "output_type": "stream",
     "text": [
      "C:\\Users\\Ulric\\Anaconda3\\lib\\site-packages\\statsmodels\\base\\model.py:466: ConvergenceWarning: Maximum Likelihood optimization failed to converge. Check mle_retvals\n",
      "  \"Check mle_retvals\", ConvergenceWarning)\n"
     ]
    },
    {
     "name": "stdout",
     "output_type": "stream",
     "text": [
      "p = 1, d = 0, q = 1\n"
     ]
    },
    {
     "name": "stderr",
     "output_type": "stream",
     "text": [
      "C:\\Users\\Ulric\\Anaconda3\\lib\\site-packages\\statsmodels\\base\\model.py:466: ConvergenceWarning: Maximum Likelihood optimization failed to converge. Check mle_retvals\n",
      "  \"Check mle_retvals\", ConvergenceWarning)\n"
     ]
    },
    {
     "name": "stdout",
     "output_type": "stream",
     "text": [
      "p = 1, d = 0, q = 2\n"
     ]
    },
    {
     "name": "stderr",
     "output_type": "stream",
     "text": [
      "C:\\Users\\Ulric\\Anaconda3\\lib\\site-packages\\statsmodels\\base\\model.py:466: ConvergenceWarning: Maximum Likelihood optimization failed to converge. Check mle_retvals\n",
      "  \"Check mle_retvals\", ConvergenceWarning)\n"
     ]
    },
    {
     "name": "stdout",
     "output_type": "stream",
     "text": [
      "p = 1, d = 1, q = 0\n",
      "p = 1, d = 1, q = 1\n"
     ]
    },
    {
     "name": "stderr",
     "output_type": "stream",
     "text": [
      "C:\\Users\\Ulric\\Anaconda3\\lib\\site-packages\\statsmodels\\base\\model.py:466: ConvergenceWarning: Maximum Likelihood optimization failed to converge. Check mle_retvals\n",
      "  \"Check mle_retvals\", ConvergenceWarning)\n"
     ]
    },
    {
     "name": "stdout",
     "output_type": "stream",
     "text": [
      "p = 1, d = 1, q = 2\n"
     ]
    },
    {
     "name": "stderr",
     "output_type": "stream",
     "text": [
      "C:\\Users\\Ulric\\Anaconda3\\lib\\site-packages\\statsmodels\\base\\model.py:466: ConvergenceWarning: Maximum Likelihood optimization failed to converge. Check mle_retvals\n",
      "  \"Check mle_retvals\", ConvergenceWarning)\n"
     ]
    },
    {
     "name": "stdout",
     "output_type": "stream",
     "text": [
      "p = 1, d = 2, q = 0\n",
      "p = 1, d = 2, q = 1\n"
     ]
    },
    {
     "name": "stderr",
     "output_type": "stream",
     "text": [
      "C:\\Users\\Ulric\\Anaconda3\\lib\\site-packages\\statsmodels\\base\\model.py:466: ConvergenceWarning: Maximum Likelihood optimization failed to converge. Check mle_retvals\n",
      "  \"Check mle_retvals\", ConvergenceWarning)\n"
     ]
    },
    {
     "name": "stdout",
     "output_type": "stream",
     "text": [
      "p = 1, d = 2, q = 2\n"
     ]
    },
    {
     "name": "stderr",
     "output_type": "stream",
     "text": [
      "C:\\Users\\Ulric\\Anaconda3\\lib\\site-packages\\statsmodels\\base\\model.py:466: ConvergenceWarning: Maximum Likelihood optimization failed to converge. Check mle_retvals\n",
      "  \"Check mle_retvals\", ConvergenceWarning)\n"
     ]
    },
    {
     "name": "stdout",
     "output_type": "stream",
     "text": [
      "p = 2, d = 0, q = 0\n",
      "p = 2, d = 0, q = 1\n"
     ]
    },
    {
     "name": "stderr",
     "output_type": "stream",
     "text": [
      "C:\\Users\\Ulric\\Anaconda3\\lib\\site-packages\\statsmodels\\base\\model.py:466: ConvergenceWarning: Maximum Likelihood optimization failed to converge. Check mle_retvals\n",
      "  \"Check mle_retvals\", ConvergenceWarning)\n"
     ]
    },
    {
     "name": "stdout",
     "output_type": "stream",
     "text": [
      "p = 2, d = 0, q = 2\n"
     ]
    },
    {
     "name": "stderr",
     "output_type": "stream",
     "text": [
      "C:\\Users\\Ulric\\Anaconda3\\lib\\site-packages\\statsmodels\\base\\model.py:466: ConvergenceWarning: Maximum Likelihood optimization failed to converge. Check mle_retvals\n",
      "  \"Check mle_retvals\", ConvergenceWarning)\n"
     ]
    },
    {
     "name": "stdout",
     "output_type": "stream",
     "text": [
      "p = 2, d = 1, q = 0\n",
      "p = 2, d = 1, q = 1\n"
     ]
    },
    {
     "name": "stderr",
     "output_type": "stream",
     "text": [
      "C:\\Users\\Ulric\\Anaconda3\\lib\\site-packages\\statsmodels\\base\\model.py:466: ConvergenceWarning: Maximum Likelihood optimization failed to converge. Check mle_retvals\n",
      "  \"Check mle_retvals\", ConvergenceWarning)\n"
     ]
    },
    {
     "name": "stdout",
     "output_type": "stream",
     "text": [
      "p = 2, d = 1, q = 2\n"
     ]
    },
    {
     "name": "stderr",
     "output_type": "stream",
     "text": [
      "C:\\Users\\Ulric\\Anaconda3\\lib\\site-packages\\statsmodels\\base\\model.py:466: ConvergenceWarning: Maximum Likelihood optimization failed to converge. Check mle_retvals\n",
      "  \"Check mle_retvals\", ConvergenceWarning)\n"
     ]
    },
    {
     "name": "stdout",
     "output_type": "stream",
     "text": [
      "p = 2, d = 2, q = 0\n",
      "p = 2, d = 2, q = 1\n"
     ]
    },
    {
     "name": "stderr",
     "output_type": "stream",
     "text": [
      "C:\\Users\\Ulric\\Anaconda3\\lib\\site-packages\\statsmodels\\base\\model.py:466: ConvergenceWarning: Maximum Likelihood optimization failed to converge. Check mle_retvals\n",
      "  \"Check mle_retvals\", ConvergenceWarning)\n"
     ]
    },
    {
     "name": "stdout",
     "output_type": "stream",
     "text": [
      "p = 2, d = 2, q = 2\n"
     ]
    },
    {
     "name": "stderr",
     "output_type": "stream",
     "text": [
      "C:\\Users\\Ulric\\Anaconda3\\lib\\site-packages\\statsmodels\\base\\model.py:466: ConvergenceWarning: Maximum Likelihood optimization failed to converge. Check mle_retvals\n",
      "  \"Check mle_retvals\", ConvergenceWarning)\n"
     ]
    },
    {
     "name": "stdout",
     "output_type": "stream",
     "text": [
      "p = 3, d = 0, q = 0\n",
      "p = 3, d = 0, q = 1\n"
     ]
    },
    {
     "name": "stderr",
     "output_type": "stream",
     "text": [
      "C:\\Users\\Ulric\\Anaconda3\\lib\\site-packages\\statsmodels\\base\\model.py:466: ConvergenceWarning: Maximum Likelihood optimization failed to converge. Check mle_retvals\n",
      "  \"Check mle_retvals\", ConvergenceWarning)\n"
     ]
    },
    {
     "name": "stdout",
     "output_type": "stream",
     "text": [
      "p = 3, d = 0, q = 2\n"
     ]
    },
    {
     "name": "stderr",
     "output_type": "stream",
     "text": [
      "C:\\Users\\Ulric\\Anaconda3\\lib\\site-packages\\statsmodels\\base\\model.py:466: ConvergenceWarning: Maximum Likelihood optimization failed to converge. Check mle_retvals\n",
      "  \"Check mle_retvals\", ConvergenceWarning)\n"
     ]
    },
    {
     "name": "stdout",
     "output_type": "stream",
     "text": [
      "p = 3, d = 1, q = 0\n"
     ]
    },
    {
     "name": "stderr",
     "output_type": "stream",
     "text": [
      "C:\\Users\\Ulric\\Anaconda3\\lib\\site-packages\\statsmodels\\base\\model.py:466: ConvergenceWarning: Maximum Likelihood optimization failed to converge. Check mle_retvals\n",
      "  \"Check mle_retvals\", ConvergenceWarning)\n"
     ]
    },
    {
     "name": "stdout",
     "output_type": "stream",
     "text": [
      "p = 3, d = 1, q = 1\n"
     ]
    },
    {
     "name": "stderr",
     "output_type": "stream",
     "text": [
      "C:\\Users\\Ulric\\Anaconda3\\lib\\site-packages\\statsmodels\\base\\model.py:466: ConvergenceWarning: Maximum Likelihood optimization failed to converge. Check mle_retvals\n",
      "  \"Check mle_retvals\", ConvergenceWarning)\n"
     ]
    },
    {
     "name": "stdout",
     "output_type": "stream",
     "text": [
      "p = 3, d = 1, q = 2\n"
     ]
    },
    {
     "name": "stderr",
     "output_type": "stream",
     "text": [
      "C:\\Users\\Ulric\\Anaconda3\\lib\\site-packages\\statsmodels\\base\\model.py:466: ConvergenceWarning: Maximum Likelihood optimization failed to converge. Check mle_retvals\n",
      "  \"Check mle_retvals\", ConvergenceWarning)\n"
     ]
    },
    {
     "name": "stdout",
     "output_type": "stream",
     "text": [
      "p = 3, d = 2, q = 0\n",
      "p = 3, d = 2, q = 1\n"
     ]
    },
    {
     "name": "stderr",
     "output_type": "stream",
     "text": [
      "C:\\Users\\Ulric\\Anaconda3\\lib\\site-packages\\statsmodels\\base\\model.py:466: ConvergenceWarning: Maximum Likelihood optimization failed to converge. Check mle_retvals\n",
      "  \"Check mle_retvals\", ConvergenceWarning)\n"
     ]
    },
    {
     "name": "stdout",
     "output_type": "stream",
     "text": [
      "p = 3, d = 2, q = 2\n"
     ]
    },
    {
     "name": "stderr",
     "output_type": "stream",
     "text": [
      "C:\\Users\\Ulric\\Anaconda3\\lib\\site-packages\\statsmodels\\base\\model.py:466: ConvergenceWarning: Maximum Likelihood optimization failed to converge. Check mle_retvals\n",
      "  \"Check mle_retvals\", ConvergenceWarning)\n"
     ]
    },
    {
     "name": "stdout",
     "output_type": "stream",
     "text": [
      "p = 4, d = 0, q = 0\n"
     ]
    },
    {
     "name": "stderr",
     "output_type": "stream",
     "text": [
      "C:\\Users\\Ulric\\Anaconda3\\lib\\site-packages\\statsmodels\\base\\model.py:466: ConvergenceWarning: Maximum Likelihood optimization failed to converge. Check mle_retvals\n",
      "  \"Check mle_retvals\", ConvergenceWarning)\n"
     ]
    },
    {
     "name": "stdout",
     "output_type": "stream",
     "text": [
      "p = 4, d = 0, q = 1\n"
     ]
    },
    {
     "name": "stderr",
     "output_type": "stream",
     "text": [
      "C:\\Users\\Ulric\\Anaconda3\\lib\\site-packages\\statsmodels\\base\\model.py:466: ConvergenceWarning: Maximum Likelihood optimization failed to converge. Check mle_retvals\n",
      "  \"Check mle_retvals\", ConvergenceWarning)\n"
     ]
    },
    {
     "name": "stdout",
     "output_type": "stream",
     "text": [
      "p = 4, d = 0, q = 2\n"
     ]
    },
    {
     "name": "stderr",
     "output_type": "stream",
     "text": [
      "C:\\Users\\Ulric\\Anaconda3\\lib\\site-packages\\statsmodels\\base\\model.py:466: ConvergenceWarning: Maximum Likelihood optimization failed to converge. Check mle_retvals\n",
      "  \"Check mle_retvals\", ConvergenceWarning)\n"
     ]
    },
    {
     "name": "stdout",
     "output_type": "stream",
     "text": [
      "p = 4, d = 1, q = 0\n"
     ]
    },
    {
     "name": "stderr",
     "output_type": "stream",
     "text": [
      "C:\\Users\\Ulric\\Anaconda3\\lib\\site-packages\\statsmodels\\base\\model.py:466: ConvergenceWarning: Maximum Likelihood optimization failed to converge. Check mle_retvals\n",
      "  \"Check mle_retvals\", ConvergenceWarning)\n"
     ]
    },
    {
     "name": "stdout",
     "output_type": "stream",
     "text": [
      "p = 4, d = 1, q = 1\n"
     ]
    },
    {
     "name": "stderr",
     "output_type": "stream",
     "text": [
      "C:\\Users\\Ulric\\Anaconda3\\lib\\site-packages\\statsmodels\\base\\model.py:466: ConvergenceWarning: Maximum Likelihood optimization failed to converge. Check mle_retvals\n",
      "  \"Check mle_retvals\", ConvergenceWarning)\n"
     ]
    },
    {
     "name": "stdout",
     "output_type": "stream",
     "text": [
      "p = 4, d = 1, q = 2\n"
     ]
    },
    {
     "name": "stderr",
     "output_type": "stream",
     "text": [
      "C:\\Users\\Ulric\\Anaconda3\\lib\\site-packages\\statsmodels\\base\\model.py:466: ConvergenceWarning: Maximum Likelihood optimization failed to converge. Check mle_retvals\n",
      "  \"Check mle_retvals\", ConvergenceWarning)\n"
     ]
    },
    {
     "name": "stdout",
     "output_type": "stream",
     "text": [
      "p = 4, d = 2, q = 0\n"
     ]
    },
    {
     "name": "stderr",
     "output_type": "stream",
     "text": [
      "C:\\Users\\Ulric\\Anaconda3\\lib\\site-packages\\statsmodels\\base\\model.py:466: ConvergenceWarning: Maximum Likelihood optimization failed to converge. Check mle_retvals\n",
      "  \"Check mle_retvals\", ConvergenceWarning)\n"
     ]
    },
    {
     "name": "stdout",
     "output_type": "stream",
     "text": [
      "p = 4, d = 2, q = 1\n"
     ]
    },
    {
     "name": "stderr",
     "output_type": "stream",
     "text": [
      "C:\\Users\\Ulric\\Anaconda3\\lib\\site-packages\\statsmodels\\base\\model.py:466: ConvergenceWarning: Maximum Likelihood optimization failed to converge. Check mle_retvals\n",
      "  \"Check mle_retvals\", ConvergenceWarning)\n"
     ]
    },
    {
     "name": "stdout",
     "output_type": "stream",
     "text": [
      "p = 4, d = 2, q = 2\n"
     ]
    },
    {
     "name": "stderr",
     "output_type": "stream",
     "text": [
      "C:\\Users\\Ulric\\Anaconda3\\lib\\site-packages\\statsmodels\\base\\model.py:466: ConvergenceWarning: Maximum Likelihood optimization failed to converge. Check mle_retvals\n",
      "  \"Check mle_retvals\", ConvergenceWarning)\n"
     ]
    },
    {
     "name": "stdout",
     "output_type": "stream",
     "text": [
      "p = 5, d = 0, q = 0\n"
     ]
    },
    {
     "name": "stderr",
     "output_type": "stream",
     "text": [
      "C:\\Users\\Ulric\\Anaconda3\\lib\\site-packages\\statsmodels\\base\\model.py:466: ConvergenceWarning: Maximum Likelihood optimization failed to converge. Check mle_retvals\n",
      "  \"Check mle_retvals\", ConvergenceWarning)\n"
     ]
    },
    {
     "name": "stdout",
     "output_type": "stream",
     "text": [
      "p = 5, d = 0, q = 1\n"
     ]
    },
    {
     "name": "stderr",
     "output_type": "stream",
     "text": [
      "C:\\Users\\Ulric\\Anaconda3\\lib\\site-packages\\statsmodels\\base\\model.py:466: ConvergenceWarning: Maximum Likelihood optimization failed to converge. Check mle_retvals\n",
      "  \"Check mle_retvals\", ConvergenceWarning)\n"
     ]
    },
    {
     "name": "stdout",
     "output_type": "stream",
     "text": [
      "p = 5, d = 0, q = 2\n"
     ]
    },
    {
     "name": "stderr",
     "output_type": "stream",
     "text": [
      "C:\\Users\\Ulric\\Anaconda3\\lib\\site-packages\\statsmodels\\base\\model.py:466: ConvergenceWarning: Maximum Likelihood optimization failed to converge. Check mle_retvals\n",
      "  \"Check mle_retvals\", ConvergenceWarning)\n"
     ]
    },
    {
     "name": "stdout",
     "output_type": "stream",
     "text": [
      "p = 5, d = 1, q = 0\n"
     ]
    },
    {
     "name": "stderr",
     "output_type": "stream",
     "text": [
      "C:\\Users\\Ulric\\Anaconda3\\lib\\site-packages\\statsmodels\\base\\model.py:466: ConvergenceWarning: Maximum Likelihood optimization failed to converge. Check mle_retvals\n",
      "  \"Check mle_retvals\", ConvergenceWarning)\n"
     ]
    },
    {
     "name": "stdout",
     "output_type": "stream",
     "text": [
      "p = 5, d = 1, q = 1\n"
     ]
    },
    {
     "name": "stderr",
     "output_type": "stream",
     "text": [
      "C:\\Users\\Ulric\\Anaconda3\\lib\\site-packages\\statsmodels\\base\\model.py:466: ConvergenceWarning: Maximum Likelihood optimization failed to converge. Check mle_retvals\n",
      "  \"Check mle_retvals\", ConvergenceWarning)\n"
     ]
    },
    {
     "name": "stdout",
     "output_type": "stream",
     "text": [
      "p = 5, d = 1, q = 2\n"
     ]
    },
    {
     "name": "stderr",
     "output_type": "stream",
     "text": [
      "C:\\Users\\Ulric\\Anaconda3\\lib\\site-packages\\statsmodels\\base\\model.py:466: ConvergenceWarning: Maximum Likelihood optimization failed to converge. Check mle_retvals\n",
      "  \"Check mle_retvals\", ConvergenceWarning)\n"
     ]
    },
    {
     "name": "stdout",
     "output_type": "stream",
     "text": [
      "p = 5, d = 2, q = 0\n"
     ]
    },
    {
     "name": "stderr",
     "output_type": "stream",
     "text": [
      "C:\\Users\\Ulric\\Anaconda3\\lib\\site-packages\\statsmodels\\base\\model.py:466: ConvergenceWarning: Maximum Likelihood optimization failed to converge. Check mle_retvals\n",
      "  \"Check mle_retvals\", ConvergenceWarning)\n"
     ]
    },
    {
     "name": "stdout",
     "output_type": "stream",
     "text": [
      "p = 5, d = 2, q = 1\n"
     ]
    },
    {
     "name": "stderr",
     "output_type": "stream",
     "text": [
      "C:\\Users\\Ulric\\Anaconda3\\lib\\site-packages\\statsmodels\\base\\model.py:466: ConvergenceWarning: Maximum Likelihood optimization failed to converge. Check mle_retvals\n",
      "  \"Check mle_retvals\", ConvergenceWarning)\n"
     ]
    },
    {
     "name": "stdout",
     "output_type": "stream",
     "text": [
      "p = 5, d = 2, q = 2\n"
     ]
    },
    {
     "name": "stderr",
     "output_type": "stream",
     "text": [
      "C:\\Users\\Ulric\\Anaconda3\\lib\\site-packages\\statsmodels\\base\\model.py:466: ConvergenceWarning: Maximum Likelihood optimization failed to converge. Check mle_retvals\n",
      "  \"Check mle_retvals\", ConvergenceWarning)\n"
     ]
    },
    {
     "name": "stdout",
     "output_type": "stream",
     "text": [
      "p = 6, d = 0, q = 0\n"
     ]
    },
    {
     "name": "stderr",
     "output_type": "stream",
     "text": [
      "C:\\Users\\Ulric\\Anaconda3\\lib\\site-packages\\statsmodels\\base\\model.py:466: ConvergenceWarning: Maximum Likelihood optimization failed to converge. Check mle_retvals\n",
      "  \"Check mle_retvals\", ConvergenceWarning)\n"
     ]
    },
    {
     "name": "stdout",
     "output_type": "stream",
     "text": [
      "p = 6, d = 0, q = 1\n"
     ]
    },
    {
     "name": "stderr",
     "output_type": "stream",
     "text": [
      "C:\\Users\\Ulric\\Anaconda3\\lib\\site-packages\\statsmodels\\base\\model.py:466: ConvergenceWarning: Maximum Likelihood optimization failed to converge. Check mle_retvals\n",
      "  \"Check mle_retvals\", ConvergenceWarning)\n"
     ]
    },
    {
     "name": "stdout",
     "output_type": "stream",
     "text": [
      "p = 6, d = 0, q = 2\n"
     ]
    },
    {
     "name": "stderr",
     "output_type": "stream",
     "text": [
      "C:\\Users\\Ulric\\Anaconda3\\lib\\site-packages\\statsmodels\\base\\model.py:466: ConvergenceWarning: Maximum Likelihood optimization failed to converge. Check mle_retvals\n",
      "  \"Check mle_retvals\", ConvergenceWarning)\n"
     ]
    },
    {
     "name": "stdout",
     "output_type": "stream",
     "text": [
      "p = 6, d = 1, q = 0\n"
     ]
    },
    {
     "name": "stderr",
     "output_type": "stream",
     "text": [
      "C:\\Users\\Ulric\\Anaconda3\\lib\\site-packages\\statsmodels\\base\\model.py:466: ConvergenceWarning: Maximum Likelihood optimization failed to converge. Check mle_retvals\n",
      "  \"Check mle_retvals\", ConvergenceWarning)\n"
     ]
    },
    {
     "name": "stdout",
     "output_type": "stream",
     "text": [
      "p = 6, d = 1, q = 1\n"
     ]
    },
    {
     "name": "stderr",
     "output_type": "stream",
     "text": [
      "C:\\Users\\Ulric\\Anaconda3\\lib\\site-packages\\statsmodels\\base\\model.py:466: ConvergenceWarning: Maximum Likelihood optimization failed to converge. Check mle_retvals\n",
      "  \"Check mle_retvals\", ConvergenceWarning)\n"
     ]
    },
    {
     "name": "stdout",
     "output_type": "stream",
     "text": [
      "p = 6, d = 1, q = 2\n"
     ]
    },
    {
     "name": "stderr",
     "output_type": "stream",
     "text": [
      "C:\\Users\\Ulric\\Anaconda3\\lib\\site-packages\\statsmodels\\base\\model.py:466: ConvergenceWarning: Maximum Likelihood optimization failed to converge. Check mle_retvals\n",
      "  \"Check mle_retvals\", ConvergenceWarning)\n"
     ]
    },
    {
     "name": "stdout",
     "output_type": "stream",
     "text": [
      "p = 6, d = 2, q = 0\n"
     ]
    },
    {
     "name": "stderr",
     "output_type": "stream",
     "text": [
      "C:\\Users\\Ulric\\Anaconda3\\lib\\site-packages\\statsmodels\\base\\model.py:466: ConvergenceWarning: Maximum Likelihood optimization failed to converge. Check mle_retvals\n",
      "  \"Check mle_retvals\", ConvergenceWarning)\n"
     ]
    },
    {
     "name": "stdout",
     "output_type": "stream",
     "text": [
      "p = 6, d = 2, q = 1\n"
     ]
    },
    {
     "name": "stderr",
     "output_type": "stream",
     "text": [
      "C:\\Users\\Ulric\\Anaconda3\\lib\\site-packages\\statsmodels\\base\\model.py:466: ConvergenceWarning: Maximum Likelihood optimization failed to converge. Check mle_retvals\n",
      "  \"Check mle_retvals\", ConvergenceWarning)\n"
     ]
    },
    {
     "name": "stdout",
     "output_type": "stream",
     "text": [
      "p = 6, d = 2, q = 2\n"
     ]
    },
    {
     "name": "stderr",
     "output_type": "stream",
     "text": [
      "C:\\Users\\Ulric\\Anaconda3\\lib\\site-packages\\statsmodels\\base\\model.py:466: ConvergenceWarning: Maximum Likelihood optimization failed to converge. Check mle_retvals\n",
      "  \"Check mle_retvals\", ConvergenceWarning)\n"
     ]
    },
    {
     "name": "stdout",
     "output_type": "stream",
     "text": [
      "p = 7, d = 0, q = 0\n"
     ]
    },
    {
     "name": "stderr",
     "output_type": "stream",
     "text": [
      "C:\\Users\\Ulric\\Anaconda3\\lib\\site-packages\\statsmodels\\base\\model.py:466: ConvergenceWarning: Maximum Likelihood optimization failed to converge. Check mle_retvals\n",
      "  \"Check mle_retvals\", ConvergenceWarning)\n"
     ]
    },
    {
     "name": "stdout",
     "output_type": "stream",
     "text": [
      "p = 7, d = 0, q = 1\n"
     ]
    },
    {
     "name": "stderr",
     "output_type": "stream",
     "text": [
      "C:\\Users\\Ulric\\Anaconda3\\lib\\site-packages\\statsmodels\\base\\model.py:466: ConvergenceWarning: Maximum Likelihood optimization failed to converge. Check mle_retvals\n",
      "  \"Check mle_retvals\", ConvergenceWarning)\n"
     ]
    },
    {
     "name": "stdout",
     "output_type": "stream",
     "text": [
      "p = 7, d = 0, q = 2\n"
     ]
    },
    {
     "name": "stderr",
     "output_type": "stream",
     "text": [
      "C:\\Users\\Ulric\\Anaconda3\\lib\\site-packages\\statsmodels\\base\\model.py:466: ConvergenceWarning: Maximum Likelihood optimization failed to converge. Check mle_retvals\n",
      "  \"Check mle_retvals\", ConvergenceWarning)\n"
     ]
    },
    {
     "name": "stdout",
     "output_type": "stream",
     "text": [
      "p = 7, d = 1, q = 0\n"
     ]
    },
    {
     "name": "stderr",
     "output_type": "stream",
     "text": [
      "C:\\Users\\Ulric\\Anaconda3\\lib\\site-packages\\statsmodels\\base\\model.py:466: ConvergenceWarning: Maximum Likelihood optimization failed to converge. Check mle_retvals\n",
      "  \"Check mle_retvals\", ConvergenceWarning)\n"
     ]
    },
    {
     "name": "stdout",
     "output_type": "stream",
     "text": [
      "p = 7, d = 1, q = 1\n"
     ]
    },
    {
     "name": "stderr",
     "output_type": "stream",
     "text": [
      "C:\\Users\\Ulric\\Anaconda3\\lib\\site-packages\\statsmodels\\base\\model.py:466: ConvergenceWarning: Maximum Likelihood optimization failed to converge. Check mle_retvals\n",
      "  \"Check mle_retvals\", ConvergenceWarning)\n"
     ]
    },
    {
     "name": "stdout",
     "output_type": "stream",
     "text": [
      "p = 7, d = 1, q = 2\n"
     ]
    },
    {
     "name": "stderr",
     "output_type": "stream",
     "text": [
      "C:\\Users\\Ulric\\Anaconda3\\lib\\site-packages\\statsmodels\\base\\model.py:466: ConvergenceWarning: Maximum Likelihood optimization failed to converge. Check mle_retvals\n",
      "  \"Check mle_retvals\", ConvergenceWarning)\n"
     ]
    },
    {
     "name": "stdout",
     "output_type": "stream",
     "text": [
      "p = 7, d = 2, q = 0\n"
     ]
    },
    {
     "name": "stderr",
     "output_type": "stream",
     "text": [
      "C:\\Users\\Ulric\\Anaconda3\\lib\\site-packages\\statsmodels\\base\\model.py:466: ConvergenceWarning: Maximum Likelihood optimization failed to converge. Check mle_retvals\n",
      "  \"Check mle_retvals\", ConvergenceWarning)\n"
     ]
    },
    {
     "name": "stdout",
     "output_type": "stream",
     "text": [
      "p = 7, d = 2, q = 1\n"
     ]
    },
    {
     "name": "stderr",
     "output_type": "stream",
     "text": [
      "C:\\Users\\Ulric\\Anaconda3\\lib\\site-packages\\statsmodels\\base\\model.py:466: ConvergenceWarning: Maximum Likelihood optimization failed to converge. Check mle_retvals\n",
      "  \"Check mle_retvals\", ConvergenceWarning)\n"
     ]
    },
    {
     "name": "stdout",
     "output_type": "stream",
     "text": [
      "p = 7, d = 2, q = 2\n"
     ]
    },
    {
     "name": "stderr",
     "output_type": "stream",
     "text": [
      "C:\\Users\\Ulric\\Anaconda3\\lib\\site-packages\\statsmodels\\base\\model.py:466: ConvergenceWarning: Maximum Likelihood optimization failed to converge. Check mle_retvals\n",
      "  \"Check mle_retvals\", ConvergenceWarning)\n"
     ]
    },
    {
     "name": "stdout",
     "output_type": "stream",
     "text": [
      "\n"
     ]
    }
   ],
   "source": [
    "gsTotals = gridSearchTimeSeries(\n",
    "    database_cleaned,\n",
    "    pList= range(1,8),\n",
    "    dList = range(0, 3), \n",
    "    qList = range(0, 3), \n",
    "    covariateList=[\n",
    "        'Partner TOTAL',\n",
    "        'Affiliate TOTAL',\n",
    "        'Search TOTAL',\n",
    "        'TV TOTAL'\n",
    "    ]\n",
    ")"
   ]
  },
  {
   "cell_type": "code",
   "execution_count": 52,
   "metadata": {},
   "outputs": [
    {
     "data": {
      "text/html": [
       "<div>\n",
       "<table border=\"1\" class=\"dataframe\">\n",
       "  <thead>\n",
       "    <tr style=\"text-align: right;\">\n",
       "      <th></th>\n",
       "      <th>p</th>\n",
       "      <th>d</th>\n",
       "      <th>q</th>\n",
       "      <th>llf</th>\n",
       "      <th>aic</th>\n",
       "      <th>bic</th>\n",
       "      <th>hqic</th>\n",
       "    </tr>\n",
       "  </thead>\n",
       "  <tbody>\n",
       "    <tr>\n",
       "      <th>56</th>\n",
       "      <td>7</td>\n",
       "      <td>0</td>\n",
       "      <td>2</td>\n",
       "      <td>-8901.062706</td>\n",
       "      <td>17832.125411</td>\n",
       "      <td>17905.801621</td>\n",
       "      <td>17860.122085</td>\n",
       "    </tr>\n",
       "    <tr>\n",
       "      <th>47</th>\n",
       "      <td>6</td>\n",
       "      <td>0</td>\n",
       "      <td>2</td>\n",
       "      <td>-8943.277342</td>\n",
       "      <td>17914.554683</td>\n",
       "      <td>17983.319145</td>\n",
       "      <td>17940.684912</td>\n",
       "    </tr>\n",
       "    <tr>\n",
       "      <th>38</th>\n",
       "      <td>5</td>\n",
       "      <td>0</td>\n",
       "      <td>2</td>\n",
       "      <td>-8945.892240</td>\n",
       "      <td>17917.784481</td>\n",
       "      <td>17981.637196</td>\n",
       "      <td>17942.048265</td>\n",
       "    </tr>\n",
       "    <tr>\n",
       "      <th>55</th>\n",
       "      <td>7</td>\n",
       "      <td>0</td>\n",
       "      <td>1</td>\n",
       "      <td>-8945.195392</td>\n",
       "      <td>17918.390783</td>\n",
       "      <td>17987.155246</td>\n",
       "      <td>17944.521013</td>\n",
       "    </tr>\n",
       "    <tr>\n",
       "      <th>54</th>\n",
       "      <td>7</td>\n",
       "      <td>0</td>\n",
       "      <td>0</td>\n",
       "      <td>-9000.000979</td>\n",
       "      <td>18026.001959</td>\n",
       "      <td>18089.854674</td>\n",
       "      <td>18050.265743</td>\n",
       "    </tr>\n",
       "  </tbody>\n",
       "</table>\n",
       "</div>"
      ],
      "text/plain": [
       "    p  d  q          llf           aic           bic          hqic\n",
       "56  7  0  2 -8901.062706  17832.125411  17905.801621  17860.122085\n",
       "47  6  0  2 -8943.277342  17914.554683  17983.319145  17940.684912\n",
       "38  5  0  2 -8945.892240  17917.784481  17981.637196  17942.048265\n",
       "55  7  0  1 -8945.195392  17918.390783  17987.155246  17944.521013\n",
       "54  7  0  0 -9000.000979  18026.001959  18089.854674  18050.265743"
      ]
     },
     "execution_count": 52,
     "metadata": {},
     "output_type": "execute_result"
    }
   ],
   "source": [
    "gsTotals.sort_values(\"hqic\").head()"
   ]
  },
  {
   "cell_type": "code",
   "execution_count": 53,
   "metadata": {},
   "outputs": [
    {
     "name": "stderr",
     "output_type": "stream",
     "text": [
      "C:\\Users\\Ulric\\Anaconda3\\lib\\site-packages\\statsmodels\\base\\model.py:466: ConvergenceWarning: Maximum Likelihood optimization failed to converge. Check mle_retvals\n",
      "  \"Check mle_retvals\", ConvergenceWarning)\n"
     ]
    }
   ],
   "source": [
    "tsTotalsModel = fitTimeSeries(\n",
    "    df=database_cleaned, \n",
    "    p=7,\n",
    "    d=0,\n",
    "    q=2, \n",
    "    covariateList=[\n",
    "        'Partner TOTAL',\n",
    "        'Affiliate TOTAL',\n",
    "        'Search TOTAL',\n",
    "        'TV TOTAL'\n",
    "    ],\n",
    ")"
   ]
  },
  {
   "cell_type": "code",
   "execution_count": 55,
   "metadata": {},
   "outputs": [
    {
     "name": "stdout",
     "output_type": "stream",
     "text": [
      "                                ARMA Model Results                               \n",
      "=================================================================================\n",
      "Dep. Variable:     Total Hotel Purchases   No. Observations:                 1004\n",
      "Model:                        ARMA(7, 2)   Log Likelihood               -8901.061\n",
      "Method:                          css-mle   S.D. of innovations           1708.120\n",
      "Date:                   Fri, 16 Mar 2018   AIC                          17832.121\n",
      "Time:                           14:41:24   BIC                          17905.797\n",
      "Sample:                       01-01-2015   HQIC                         17860.118\n",
      "                            - 09-30-2017                                         \n",
      "===============================================================================================\n",
      "                                  coef    std err          z      P>|z|      [95.0% Conf. Int.]\n",
      "-----------------------------------------------------------------------------------------------\n",
      "const                        1.729e+04   1324.662     13.054      0.000      1.47e+04  1.99e+04\n",
      "Partner TOTAL                   0.0095      0.002      5.613      0.000         0.006     0.013\n",
      "Affiliate TOTAL                 0.0596      0.008      7.481      0.000         0.044     0.075\n",
      "Search TOTAL                    0.1356      0.011     12.534      0.000         0.114     0.157\n",
      "TV TOTAL                       -0.0014      0.001     -1.570      0.117        -0.003     0.000\n",
      "ar.L1.Total Hotel Purchases     0.3666      0.037      9.906      0.000         0.294     0.439\n",
      "ar.L2.Total Hotel Purchases    -0.4142      0.074     -5.593      0.000        -0.559    -0.269\n",
      "ar.L3.Total Hotel Purchases     0.3703      0.073      5.073      0.000         0.227     0.513\n",
      "ar.L4.Total Hotel Purchases    -0.1836      0.050     -3.658      0.000        -0.282    -0.085\n",
      "ar.L5.Total Hotel Purchases     0.0516      0.040      1.291      0.197        -0.027     0.130\n",
      "ar.L6.Total Hotel Purchases     0.0966      0.030      3.263      0.001         0.039     0.155\n",
      "ar.L7.Total Hotel Purchases     0.6060      0.031     19.305      0.000         0.544     0.668\n",
      "ma.L1.Total Hotel Purchases     0.4132      0.036     11.438      0.000         0.342     0.484\n",
      "ma.L2.Total Hotel Purchases     0.6604      0.129      5.122      0.000         0.408     0.913\n",
      "                                    Roots                                    \n",
      "=============================================================================\n",
      "                 Real           Imaginary           Modulus         Frequency\n",
      "-----------------------------------------------------------------------------\n",
      "AR.1            1.0202           -0.0000j            1.0202           -0.0000\n",
      "AR.2            0.6439           -0.8130j            1.0371           -0.1434\n",
      "AR.3            0.6439           +0.8130j            1.0371            0.1434\n",
      "AR.4           -0.2217           -0.9873j            1.0119           -0.2852\n",
      "AR.5           -0.2217           +0.9873j            1.0119            0.2852\n",
      "AR.6           -1.0119           -0.6670j            1.2120           -0.4073\n",
      "AR.7           -1.0119           +0.6670j            1.2120            0.4073\n",
      "MA.1           -0.3128           -1.1901j            1.2305           -0.2909\n",
      "MA.2           -0.3128           +1.1901j            1.2305            0.2909\n",
      "-----------------------------------------------------------------------------\n"
     ]
    }
   ],
   "source": [
    "print(tsTotalsModel.summary())"
   ]
  },
  {
   "cell_type": "code",
   "execution_count": 57,
   "metadata": {},
   "outputs": [
    {
     "name": "stderr",
     "output_type": "stream",
     "text": [
      "C:\\Users\\Ulric\\Anaconda3\\lib\\site-packages\\statsmodels\\tsa\\arima_model.py:1724: FutureWarning: TimeSeries is deprecated. Please use Series\n",
      "  forecast = TimeSeries(forecast, index=self.data.predict_dates)\n"
     ]
    },
    {
     "data": {
      "image/png": "[encoded data removed]",
      "text/plain": [
       "<matplotlib.figure.Figure at 0x1fd09e6ae48>"
      ]
     },
     "metadata": {},
     "output_type": "display_data"
    }
   ],
   "source": [
    "_ = tsTotalsModel.plot_predict(\n",
    "    start = (database_cleaned[\"Date\"].min() + pd.Timedelta(2, unit=\"D\")).strftime(\"%Y-%m-%d\"),\n",
    "    end = (database_cleaned[\"Date\"].max() + pd.Timedelta(0, unit=\"Y\")).strftime(\"%Y-%m-%d\")\n",
    ")"
   ]
  },
  {
   "cell_type": "code",
   "execution_count": 80,
   "metadata": {},
   "outputs": [
    {
     "data": {
      "image/png": "[encoded data removed]",
      "text/plain": [
       "<matplotlib.figure.Figure at 0x1fd0ca6a9b0>"
      ]
     },
     "metadata": {},
     "output_type": "display_data"
    },
    {
     "data": {
      "image/png": "[encoded data removed]",
      "text/plain": [
       "<matplotlib.figure.Figure at 0x1fd0a6cc160>"
      ]
     },
     "metadata": {},
     "output_type": "display_data"
    }
   ],
   "source": [
    "_ = plot_acf(tsTotalsModel.resid, lags=50)\n",
    "_ = plot_pacf(tsTotalsModel.resid, lags=50)"
   ]
  },
  {
   "cell_type": "markdown",
   "metadata": {},
   "source": [
    "# TV contribution model"
   ]
  },
  {
   "cell_type": "code",
   "execution_count": 141,
   "metadata": {},
   "outputs": [
    {
     "data": {
      "text/plain": [
       "Index(['Date', 'Remarketing Spend', 'Partner Search Spend',\n",
       "       'Partner A Hotel Spend', 'Partner B Hotel Spend',\n",
       "       'Partner C Hotel Spend', 'Other Partner Spend', 'Partner TOTAL',\n",
       "       'Affiliate Standard Hotel Spend', 'Affiliate Premium Hotel Spend',\n",
       "       'Affiliate Other Hotel Spend', 'Affiliate Standard Flight Spend',\n",
       "       'Affiliate Premium Flight Spend', 'Affiliate Other Flight Spend',\n",
       "       'Affiliate Standard Rental Car Spend',\n",
       "       'Affiliate Premium Rental Car Spend',\n",
       "       'Affiliate Other Rental Car Spend', 'Affiliate VP\\nCost',\n",
       "       'Affiliate TOTAL', 'Brand Search Mobile Spend',\n",
       "       'Brand Search Non-Mobile Spend', 'Flight Search Spend',\n",
       "       'Other Search Spend', 'Hotel Mobile Search Spend',\n",
       "       'Hotel Non-Mobile Search Spend', 'Rental Car Mobile\\nSpend',\n",
       "       'Rental Car Non-Mobile\\nSpend', 'Search TOTAL', 'TV Campaign 1',\n",
       "       'TV Campaign 2', 'TV Campaign 3', 'New Customer Flight Purchases',\n",
       "       'New Customer Hotel Purchases', 'Repeat Customer Flight Purchases',\n",
       "       'Repeat Customer Hotel Purchases', 'Type 1 Flight Purchase',\n",
       "       'Type 1 Hotel Purchase', 'Type 2 Flight Purchase',\n",
       "       'Type 2 Hotel Purchase', 'Total Flight Purchases',\n",
       "       'Total Hotel Purchases', 'TV TOTAL', 'TV Present', 'year', 'month',\n",
       "       'day', 'unix_second', 'unix_second_normed'],\n",
       "      dtype='object')"
      ]
     },
     "execution_count": 141,
     "metadata": {},
     "output_type": "execute_result"
    }
   ],
   "source": [
    "database_cleaned.columns"
   ]
  },
  {
   "cell_type": "code",
   "execution_count": 58,
   "metadata": {},
   "outputs": [
    {
     "name": "stderr",
     "output_type": "stream",
     "text": [
      "Widget Javascript not detected.  It may not be installed properly. Did you enable the widgetsnbextension? If not, then run \"jupyter nbextension enable --py --sys-prefix widgetsnbextension\"\n"
     ]
    },
    {
     "name": "stdout",
     "output_type": "stream",
     "text": [
      "p = 1, d = 0, q = 0\n"
     ]
    },
    {
     "name": "stderr",
     "output_type": "stream",
     "text": [
      "C:\\Users\\Ulric\\Anaconda3\\lib\\site-packages\\statsmodels\\base\\model.py:466: ConvergenceWarning: Maximum Likelihood optimization failed to converge. Check mle_retvals\n",
      "  \"Check mle_retvals\", ConvergenceWarning)\n"
     ]
    },
    {
     "name": "stdout",
     "output_type": "stream",
     "text": [
      "p = 1, d = 0, q = 1\n",
      "p = 1, d = 0, q = 2\n"
     ]
    },
    {
     "name": "stderr",
     "output_type": "stream",
     "text": [
      "C:\\Users\\Ulric\\Anaconda3\\lib\\site-packages\\statsmodels\\base\\model.py:466: ConvergenceWarning: Maximum Likelihood optimization failed to converge. Check mle_retvals\n",
      "  \"Check mle_retvals\", ConvergenceWarning)\n"
     ]
    },
    {
     "name": "stdout",
     "output_type": "stream",
     "text": [
      "p = 1, d = 1, q = 0\n",
      "p = 1, d = 1, q = 1\n"
     ]
    },
    {
     "name": "stderr",
     "output_type": "stream",
     "text": [
      "C:\\Users\\Ulric\\Anaconda3\\lib\\site-packages\\statsmodels\\base\\model.py:466: ConvergenceWarning: Maximum Likelihood optimization failed to converge. Check mle_retvals\n",
      "  \"Check mle_retvals\", ConvergenceWarning)\n"
     ]
    },
    {
     "name": "stdout",
     "output_type": "stream",
     "text": [
      "p = 1, d = 1, q = 2\n"
     ]
    },
    {
     "name": "stderr",
     "output_type": "stream",
     "text": [
      "C:\\Users\\Ulric\\Anaconda3\\lib\\site-packages\\statsmodels\\base\\model.py:466: ConvergenceWarning: Maximum Likelihood optimization failed to converge. Check mle_retvals\n",
      "  \"Check mle_retvals\", ConvergenceWarning)\n"
     ]
    },
    {
     "name": "stdout",
     "output_type": "stream",
     "text": [
      "p = 1, d = 2, q = 0\n",
      "p = 1, d = 2, q = 1\n"
     ]
    },
    {
     "name": "stderr",
     "output_type": "stream",
     "text": [
      "C:\\Users\\Ulric\\Anaconda3\\lib\\site-packages\\statsmodels\\base\\model.py:466: ConvergenceWarning: Maximum Likelihood optimization failed to converge. Check mle_retvals\n",
      "  \"Check mle_retvals\", ConvergenceWarning)\n"
     ]
    },
    {
     "name": "stdout",
     "output_type": "stream",
     "text": [
      "p = 1, d = 2, q = 2\n"
     ]
    },
    {
     "name": "stderr",
     "output_type": "stream",
     "text": [
      "C:\\Users\\Ulric\\Anaconda3\\lib\\site-packages\\statsmodels\\base\\model.py:466: ConvergenceWarning: Maximum Likelihood optimization failed to converge. Check mle_retvals\n",
      "  \"Check mle_retvals\", ConvergenceWarning)\n"
     ]
    },
    {
     "name": "stdout",
     "output_type": "stream",
     "text": [
      "p = 2, d = 0, q = 0\n"
     ]
    },
    {
     "name": "stderr",
     "output_type": "stream",
     "text": [
      "C:\\Users\\Ulric\\Anaconda3\\lib\\site-packages\\statsmodels\\base\\model.py:466: ConvergenceWarning: Maximum Likelihood optimization failed to converge. Check mle_retvals\n",
      "  \"Check mle_retvals\", ConvergenceWarning)\n"
     ]
    },
    {
     "name": "stdout",
     "output_type": "stream",
     "text": [
      "p = 2, d = 0, q = 1\n"
     ]
    },
    {
     "name": "stderr",
     "output_type": "stream",
     "text": [
      "C:\\Users\\Ulric\\Anaconda3\\lib\\site-packages\\statsmodels\\base\\model.py:466: ConvergenceWarning: Maximum Likelihood optimization failed to converge. Check mle_retvals\n",
      "  \"Check mle_retvals\", ConvergenceWarning)\n"
     ]
    },
    {
     "name": "stdout",
     "output_type": "stream",
     "text": [
      "p = 2, d = 0, q = 2\n"
     ]
    },
    {
     "name": "stderr",
     "output_type": "stream",
     "text": [
      "C:\\Users\\Ulric\\Anaconda3\\lib\\site-packages\\statsmodels\\base\\model.py:466: ConvergenceWarning: Maximum Likelihood optimization failed to converge. Check mle_retvals\n",
      "  \"Check mle_retvals\", ConvergenceWarning)\n"
     ]
    },
    {
     "name": "stdout",
     "output_type": "stream",
     "text": [
      "p = 2, d = 1, q = 0\n"
     ]
    },
    {
     "name": "stderr",
     "output_type": "stream",
     "text": [
      "C:\\Users\\Ulric\\Anaconda3\\lib\\site-packages\\statsmodels\\base\\model.py:466: ConvergenceWarning: Maximum Likelihood optimization failed to converge. Check mle_retvals\n",
      "  \"Check mle_retvals\", ConvergenceWarning)\n"
     ]
    },
    {
     "name": "stdout",
     "output_type": "stream",
     "text": [
      "p = 2, d = 1, q = 1\n"
     ]
    },
    {
     "name": "stderr",
     "output_type": "stream",
     "text": [
      "C:\\Users\\Ulric\\Anaconda3\\lib\\site-packages\\statsmodels\\base\\model.py:466: ConvergenceWarning: Maximum Likelihood optimization failed to converge. Check mle_retvals\n",
      "  \"Check mle_retvals\", ConvergenceWarning)\n"
     ]
    },
    {
     "name": "stdout",
     "output_type": "stream",
     "text": [
      "p = 2, d = 1, q = 2\n"
     ]
    },
    {
     "name": "stderr",
     "output_type": "stream",
     "text": [
      "C:\\Users\\Ulric\\Anaconda3\\lib\\site-packages\\statsmodels\\base\\model.py:466: ConvergenceWarning: Maximum Likelihood optimization failed to converge. Check mle_retvals\n",
      "  \"Check mle_retvals\", ConvergenceWarning)\n"
     ]
    },
    {
     "name": "stdout",
     "output_type": "stream",
     "text": [
      "p = 2, d = 2, q = 0\n"
     ]
    },
    {
     "name": "stderr",
     "output_type": "stream",
     "text": [
      "C:\\Users\\Ulric\\Anaconda3\\lib\\site-packages\\statsmodels\\base\\model.py:466: ConvergenceWarning: Maximum Likelihood optimization failed to converge. Check mle_retvals\n",
      "  \"Check mle_retvals\", ConvergenceWarning)\n"
     ]
    },
    {
     "name": "stdout",
     "output_type": "stream",
     "text": [
      "p = 2, d = 2, q = 1\n"
     ]
    },
    {
     "name": "stderr",
     "output_type": "stream",
     "text": [
      "C:\\Users\\Ulric\\Anaconda3\\lib\\site-packages\\statsmodels\\base\\model.py:466: ConvergenceWarning: Maximum Likelihood optimization failed to converge. Check mle_retvals\n",
      "  \"Check mle_retvals\", ConvergenceWarning)\n"
     ]
    },
    {
     "name": "stdout",
     "output_type": "stream",
     "text": [
      "p = 2, d = 2, q = 2\n",
      "p = 3, d = 0, q = 0\n"
     ]
    },
    {
     "name": "stderr",
     "output_type": "stream",
     "text": [
      "C:\\Users\\Ulric\\Anaconda3\\lib\\site-packages\\statsmodels\\base\\model.py:466: ConvergenceWarning: Maximum Likelihood optimization failed to converge. Check mle_retvals\n",
      "  \"Check mle_retvals\", ConvergenceWarning)\n"
     ]
    },
    {
     "name": "stdout",
     "output_type": "stream",
     "text": [
      "p = 3, d = 0, q = 1\n"
     ]
    },
    {
     "name": "stderr",
     "output_type": "stream",
     "text": [
      "C:\\Users\\Ulric\\Anaconda3\\lib\\site-packages\\statsmodels\\base\\model.py:466: ConvergenceWarning: Maximum Likelihood optimization failed to converge. Check mle_retvals\n",
      "  \"Check mle_retvals\", ConvergenceWarning)\n"
     ]
    },
    {
     "name": "stdout",
     "output_type": "stream",
     "text": [
      "p = 3, d = 0, q = 2\n",
      "p = 3, d = 1, q = 0\n"
     ]
    },
    {
     "name": "stderr",
     "output_type": "stream",
     "text": [
      "C:\\Users\\Ulric\\Anaconda3\\lib\\site-packages\\statsmodels\\base\\model.py:466: ConvergenceWarning: Maximum Likelihood optimization failed to converge. Check mle_retvals\n",
      "  \"Check mle_retvals\", ConvergenceWarning)\n"
     ]
    },
    {
     "name": "stdout",
     "output_type": "stream",
     "text": [
      "p = 3, d = 1, q = 1\n"
     ]
    },
    {
     "name": "stderr",
     "output_type": "stream",
     "text": [
      "C:\\Users\\Ulric\\Anaconda3\\lib\\site-packages\\statsmodels\\base\\model.py:466: ConvergenceWarning: Maximum Likelihood optimization failed to converge. Check mle_retvals\n",
      "  \"Check mle_retvals\", ConvergenceWarning)\n"
     ]
    },
    {
     "name": "stdout",
     "output_type": "stream",
     "text": [
      "p = 3, d = 1, q = 2\n"
     ]
    },
    {
     "name": "stderr",
     "output_type": "stream",
     "text": [
      "C:\\Users\\Ulric\\Anaconda3\\lib\\site-packages\\statsmodels\\base\\model.py:466: ConvergenceWarning: Maximum Likelihood optimization failed to converge. Check mle_retvals\n",
      "  \"Check mle_retvals\", ConvergenceWarning)\n"
     ]
    },
    {
     "name": "stdout",
     "output_type": "stream",
     "text": [
      "p = 3, d = 2, q = 0\n"
     ]
    },
    {
     "name": "stderr",
     "output_type": "stream",
     "text": [
      "C:\\Users\\Ulric\\Anaconda3\\lib\\site-packages\\statsmodels\\base\\model.py:466: ConvergenceWarning: Maximum Likelihood optimization failed to converge. Check mle_retvals\n",
      "  \"Check mle_retvals\", ConvergenceWarning)\n"
     ]
    },
    {
     "name": "stdout",
     "output_type": "stream",
     "text": [
      "p = 3, d = 2, q = 1\n"
     ]
    },
    {
     "name": "stderr",
     "output_type": "stream",
     "text": [
      "C:\\Users\\Ulric\\Anaconda3\\lib\\site-packages\\statsmodels\\base\\model.py:466: ConvergenceWarning: Maximum Likelihood optimization failed to converge. Check mle_retvals\n",
      "  \"Check mle_retvals\", ConvergenceWarning)\n"
     ]
    },
    {
     "name": "stdout",
     "output_type": "stream",
     "text": [
      "p = 3, d = 2, q = 2\n"
     ]
    },
    {
     "name": "stderr",
     "output_type": "stream",
     "text": [
      "C:\\Users\\Ulric\\Anaconda3\\lib\\site-packages\\statsmodels\\base\\model.py:466: ConvergenceWarning: Maximum Likelihood optimization failed to converge. Check mle_retvals\n",
      "  \"Check mle_retvals\", ConvergenceWarning)\n"
     ]
    },
    {
     "name": "stdout",
     "output_type": "stream",
     "text": [
      "p = 4, d = 0, q = 0\n",
      "p = 4, d = 0, q = 1\n"
     ]
    },
    {
     "name": "stderr",
     "output_type": "stream",
     "text": [
      "C:\\Users\\Ulric\\Anaconda3\\lib\\site-packages\\statsmodels\\base\\model.py:466: ConvergenceWarning: Maximum Likelihood optimization failed to converge. Check mle_retvals\n",
      "  \"Check mle_retvals\", ConvergenceWarning)\n"
     ]
    },
    {
     "name": "stdout",
     "output_type": "stream",
     "text": [
      "p = 4, d = 0, q = 2\n"
     ]
    },
    {
     "name": "stderr",
     "output_type": "stream",
     "text": [
      "C:\\Users\\Ulric\\Anaconda3\\lib\\site-packages\\statsmodels\\base\\model.py:466: ConvergenceWarning: Maximum Likelihood optimization failed to converge. Check mle_retvals\n",
      "  \"Check mle_retvals\", ConvergenceWarning)\n"
     ]
    },
    {
     "name": "stdout",
     "output_type": "stream",
     "text": [
      "p = 4, d = 1, q = 0\n"
     ]
    },
    {
     "name": "stderr",
     "output_type": "stream",
     "text": [
      "C:\\Users\\Ulric\\Anaconda3\\lib\\site-packages\\statsmodels\\base\\model.py:466: ConvergenceWarning: Maximum Likelihood optimization failed to converge. Check mle_retvals\n",
      "  \"Check mle_retvals\", ConvergenceWarning)\n"
     ]
    },
    {
     "name": "stdout",
     "output_type": "stream",
     "text": [
      "p = 4, d = 1, q = 1\n"
     ]
    },
    {
     "name": "stderr",
     "output_type": "stream",
     "text": [
      "C:\\Users\\Ulric\\Anaconda3\\lib\\site-packages\\statsmodels\\base\\model.py:466: ConvergenceWarning: Maximum Likelihood optimization failed to converge. Check mle_retvals\n",
      "  \"Check mle_retvals\", ConvergenceWarning)\n"
     ]
    },
    {
     "name": "stdout",
     "output_type": "stream",
     "text": [
      "p = 4, d = 1, q = 2\n"
     ]
    },
    {
     "name": "stderr",
     "output_type": "stream",
     "text": [
      "C:\\Users\\Ulric\\Anaconda3\\lib\\site-packages\\statsmodels\\base\\model.py:466: ConvergenceWarning: Maximum Likelihood optimization failed to converge. Check mle_retvals\n",
      "  \"Check mle_retvals\", ConvergenceWarning)\n"
     ]
    },
    {
     "name": "stdout",
     "output_type": "stream",
     "text": [
      "p = 4, d = 2, q = 0\n"
     ]
    },
    {
     "name": "stderr",
     "output_type": "stream",
     "text": [
      "C:\\Users\\Ulric\\Anaconda3\\lib\\site-packages\\statsmodels\\base\\model.py:466: ConvergenceWarning: Maximum Likelihood optimization failed to converge. Check mle_retvals\n",
      "  \"Check mle_retvals\", ConvergenceWarning)\n"
     ]
    },
    {
     "name": "stdout",
     "output_type": "stream",
     "text": [
      "p = 4, d = 2, q = 1\n"
     ]
    },
    {
     "name": "stderr",
     "output_type": "stream",
     "text": [
      "C:\\Users\\Ulric\\Anaconda3\\lib\\site-packages\\statsmodels\\base\\model.py:466: ConvergenceWarning: Maximum Likelihood optimization failed to converge. Check mle_retvals\n",
      "  \"Check mle_retvals\", ConvergenceWarning)\n"
     ]
    },
    {
     "name": "stdout",
     "output_type": "stream",
     "text": [
      "p = 4, d = 2, q = 2\n"
     ]
    },
    {
     "name": "stderr",
     "output_type": "stream",
     "text": [
      "C:\\Users\\Ulric\\Anaconda3\\lib\\site-packages\\statsmodels\\base\\model.py:466: ConvergenceWarning: Maximum Likelihood optimization failed to converge. Check mle_retvals\n",
      "  \"Check mle_retvals\", ConvergenceWarning)\n"
     ]
    },
    {
     "name": "stdout",
     "output_type": "stream",
     "text": [
      "p = 5, d = 0, q = 0\n"
     ]
    },
    {
     "name": "stderr",
     "output_type": "stream",
     "text": [
      "C:\\Users\\Ulric\\Anaconda3\\lib\\site-packages\\statsmodels\\base\\model.py:466: ConvergenceWarning: Maximum Likelihood optimization failed to converge. Check mle_retvals\n",
      "  \"Check mle_retvals\", ConvergenceWarning)\n"
     ]
    },
    {
     "name": "stdout",
     "output_type": "stream",
     "text": [
      "p = 5, d = 0, q = 1\n"
     ]
    },
    {
     "name": "stderr",
     "output_type": "stream",
     "text": [
      "C:\\Users\\Ulric\\Anaconda3\\lib\\site-packages\\statsmodels\\base\\model.py:466: ConvergenceWarning: Maximum Likelihood optimization failed to converge. Check mle_retvals\n",
      "  \"Check mle_retvals\", ConvergenceWarning)\n"
     ]
    },
    {
     "name": "stdout",
     "output_type": "stream",
     "text": [
      "p = 5, d = 0, q = 2\n"
     ]
    },
    {
     "name": "stderr",
     "output_type": "stream",
     "text": [
      "C:\\Users\\Ulric\\Anaconda3\\lib\\site-packages\\statsmodels\\base\\model.py:466: ConvergenceWarning: Maximum Likelihood optimization failed to converge. Check mle_retvals\n",
      "  \"Check mle_retvals\", ConvergenceWarning)\n"
     ]
    },
    {
     "name": "stdout",
     "output_type": "stream",
     "text": [
      "p = 5, d = 1, q = 0\n"
     ]
    },
    {
     "name": "stderr",
     "output_type": "stream",
     "text": [
      "C:\\Users\\Ulric\\Anaconda3\\lib\\site-packages\\statsmodels\\base\\model.py:466: ConvergenceWarning: Maximum Likelihood optimization failed to converge. Check mle_retvals\n",
      "  \"Check mle_retvals\", ConvergenceWarning)\n"
     ]
    },
    {
     "name": "stdout",
     "output_type": "stream",
     "text": [
      "p = 5, d = 1, q = 1\n"
     ]
    },
    {
     "name": "stderr",
     "output_type": "stream",
     "text": [
      "C:\\Users\\Ulric\\Anaconda3\\lib\\site-packages\\statsmodels\\base\\model.py:466: ConvergenceWarning: Maximum Likelihood optimization failed to converge. Check mle_retvals\n",
      "  \"Check mle_retvals\", ConvergenceWarning)\n"
     ]
    },
    {
     "name": "stdout",
     "output_type": "stream",
     "text": [
      "p = 5, d = 1, q = 2\n"
     ]
    },
    {
     "name": "stderr",
     "output_type": "stream",
     "text": [
      "C:\\Users\\Ulric\\Anaconda3\\lib\\site-packages\\statsmodels\\base\\model.py:466: ConvergenceWarning: Maximum Likelihood optimization failed to converge. Check mle_retvals\n",
      "  \"Check mle_retvals\", ConvergenceWarning)\n"
     ]
    },
    {
     "name": "stdout",
     "output_type": "stream",
     "text": [
      "p = 5, d = 2, q = 0\n"
     ]
    },
    {
     "name": "stderr",
     "output_type": "stream",
     "text": [
      "C:\\Users\\Ulric\\Anaconda3\\lib\\site-packages\\statsmodels\\base\\model.py:466: ConvergenceWarning: Maximum Likelihood optimization failed to converge. Check mle_retvals\n",
      "  \"Check mle_retvals\", ConvergenceWarning)\n"
     ]
    },
    {
     "name": "stdout",
     "output_type": "stream",
     "text": [
      "p = 5, d = 2, q = 1\n"
     ]
    },
    {
     "name": "stderr",
     "output_type": "stream",
     "text": [
      "C:\\Users\\Ulric\\Anaconda3\\lib\\site-packages\\statsmodels\\base\\model.py:466: ConvergenceWarning: Maximum Likelihood optimization failed to converge. Check mle_retvals\n",
      "  \"Check mle_retvals\", ConvergenceWarning)\n"
     ]
    },
    {
     "name": "stdout",
     "output_type": "stream",
     "text": [
      "p = 5, d = 2, q = 2\n"
     ]
    },
    {
     "name": "stderr",
     "output_type": "stream",
     "text": [
      "C:\\Users\\Ulric\\Anaconda3\\lib\\site-packages\\statsmodels\\base\\model.py:466: ConvergenceWarning: Maximum Likelihood optimization failed to converge. Check mle_retvals\n",
      "  \"Check mle_retvals\", ConvergenceWarning)\n"
     ]
    },
    {
     "name": "stdout",
     "output_type": "stream",
     "text": [
      "p = 6, d = 0, q = 0\n"
     ]
    },
    {
     "name": "stderr",
     "output_type": "stream",
     "text": [
      "C:\\Users\\Ulric\\Anaconda3\\lib\\site-packages\\statsmodels\\base\\model.py:466: ConvergenceWarning: Maximum Likelihood optimization failed to converge. Check mle_retvals\n",
      "  \"Check mle_retvals\", ConvergenceWarning)\n"
     ]
    },
    {
     "name": "stdout",
     "output_type": "stream",
     "text": [
      "p = 6, d = 0, q = 1\n"
     ]
    },
    {
     "name": "stderr",
     "output_type": "stream",
     "text": [
      "C:\\Users\\Ulric\\Anaconda3\\lib\\site-packages\\statsmodels\\base\\model.py:466: ConvergenceWarning: Maximum Likelihood optimization failed to converge. Check mle_retvals\n",
      "  \"Check mle_retvals\", ConvergenceWarning)\n"
     ]
    },
    {
     "name": "stdout",
     "output_type": "stream",
     "text": [
      "p = 6, d = 0, q = 2\n"
     ]
    },
    {
     "name": "stderr",
     "output_type": "stream",
     "text": [
      "C:\\Users\\Ulric\\Anaconda3\\lib\\site-packages\\statsmodels\\base\\model.py:466: ConvergenceWarning: Maximum Likelihood optimization failed to converge. Check mle_retvals\n",
      "  \"Check mle_retvals\", ConvergenceWarning)\n"
     ]
    },
    {
     "name": "stdout",
     "output_type": "stream",
     "text": [
      "p = 6, d = 1, q = 0\n"
     ]
    },
    {
     "name": "stderr",
     "output_type": "stream",
     "text": [
      "C:\\Users\\Ulric\\Anaconda3\\lib\\site-packages\\statsmodels\\base\\model.py:466: ConvergenceWarning: Maximum Likelihood optimization failed to converge. Check mle_retvals\n",
      "  \"Check mle_retvals\", ConvergenceWarning)\n"
     ]
    },
    {
     "name": "stdout",
     "output_type": "stream",
     "text": [
      "p = 6, d = 1, q = 1\n"
     ]
    },
    {
     "name": "stderr",
     "output_type": "stream",
     "text": [
      "C:\\Users\\Ulric\\Anaconda3\\lib\\site-packages\\statsmodels\\base\\model.py:466: ConvergenceWarning: Maximum Likelihood optimization failed to converge. Check mle_retvals\n",
      "  \"Check mle_retvals\", ConvergenceWarning)\n"
     ]
    },
    {
     "name": "stdout",
     "output_type": "stream",
     "text": [
      "p = 6, d = 1, q = 2\n"
     ]
    },
    {
     "name": "stderr",
     "output_type": "stream",
     "text": [
      "C:\\Users\\Ulric\\Anaconda3\\lib\\site-packages\\statsmodels\\base\\model.py:466: ConvergenceWarning: Maximum Likelihood optimization failed to converge. Check mle_retvals\n",
      "  \"Check mle_retvals\", ConvergenceWarning)\n"
     ]
    },
    {
     "name": "stdout",
     "output_type": "stream",
     "text": [
      "p = 6, d = 2, q = 0\n"
     ]
    },
    {
     "name": "stderr",
     "output_type": "stream",
     "text": [
      "C:\\Users\\Ulric\\Anaconda3\\lib\\site-packages\\statsmodels\\base\\model.py:466: ConvergenceWarning: Maximum Likelihood optimization failed to converge. Check mle_retvals\n",
      "  \"Check mle_retvals\", ConvergenceWarning)\n"
     ]
    },
    {
     "name": "stdout",
     "output_type": "stream",
     "text": [
      "p = 6, d = 2, q = 1\n"
     ]
    },
    {
     "name": "stderr",
     "output_type": "stream",
     "text": [
      "C:\\Users\\Ulric\\Anaconda3\\lib\\site-packages\\statsmodels\\base\\model.py:466: ConvergenceWarning: Maximum Likelihood optimization failed to converge. Check mle_retvals\n",
      "  \"Check mle_retvals\", ConvergenceWarning)\n"
     ]
    },
    {
     "name": "stdout",
     "output_type": "stream",
     "text": [
      "p = 6, d = 2, q = 2\n"
     ]
    },
    {
     "name": "stderr",
     "output_type": "stream",
     "text": [
      "C:\\Users\\Ulric\\Anaconda3\\lib\\site-packages\\statsmodels\\base\\model.py:466: ConvergenceWarning: Maximum Likelihood optimization failed to converge. Check mle_retvals\n",
      "  \"Check mle_retvals\", ConvergenceWarning)\n"
     ]
    },
    {
     "name": "stdout",
     "output_type": "stream",
     "text": [
      "p = 7, d = 0, q = 0\n"
     ]
    },
    {
     "name": "stderr",
     "output_type": "stream",
     "text": [
      "C:\\Users\\Ulric\\Anaconda3\\lib\\site-packages\\statsmodels\\base\\model.py:466: ConvergenceWarning: Maximum Likelihood optimization failed to converge. Check mle_retvals\n",
      "  \"Check mle_retvals\", ConvergenceWarning)\n"
     ]
    },
    {
     "name": "stdout",
     "output_type": "stream",
     "text": [
      "p = 7, d = 0, q = 1\n"
     ]
    },
    {
     "name": "stderr",
     "output_type": "stream",
     "text": [
      "C:\\Users\\Ulric\\Anaconda3\\lib\\site-packages\\statsmodels\\base\\model.py:466: ConvergenceWarning: Maximum Likelihood optimization failed to converge. Check mle_retvals\n",
      "  \"Check mle_retvals\", ConvergenceWarning)\n"
     ]
    },
    {
     "name": "stdout",
     "output_type": "stream",
     "text": [
      "p = 7, d = 0, q = 2\n"
     ]
    },
    {
     "name": "stderr",
     "output_type": "stream",
     "text": [
      "C:\\Users\\Ulric\\Anaconda3\\lib\\site-packages\\statsmodels\\base\\model.py:466: ConvergenceWarning: Maximum Likelihood optimization failed to converge. Check mle_retvals\n",
      "  \"Check mle_retvals\", ConvergenceWarning)\n"
     ]
    },
    {
     "name": "stdout",
     "output_type": "stream",
     "text": [
      "p = 7, d = 1, q = 0\n"
     ]
    },
    {
     "name": "stderr",
     "output_type": "stream",
     "text": [
      "C:\\Users\\Ulric\\Anaconda3\\lib\\site-packages\\statsmodels\\base\\model.py:466: ConvergenceWarning: Maximum Likelihood optimization failed to converge. Check mle_retvals\n",
      "  \"Check mle_retvals\", ConvergenceWarning)\n"
     ]
    },
    {
     "name": "stdout",
     "output_type": "stream",
     "text": [
      "p = 7, d = 1, q = 1\n"
     ]
    },
    {
     "name": "stderr",
     "output_type": "stream",
     "text": [
      "C:\\Users\\Ulric\\Anaconda3\\lib\\site-packages\\statsmodels\\base\\model.py:466: ConvergenceWarning: Maximum Likelihood optimization failed to converge. Check mle_retvals\n",
      "  \"Check mle_retvals\", ConvergenceWarning)\n"
     ]
    },
    {
     "name": "stdout",
     "output_type": "stream",
     "text": [
      "p = 7, d = 1, q = 2\n"
     ]
    },
    {
     "name": "stderr",
     "output_type": "stream",
     "text": [
      "C:\\Users\\Ulric\\Anaconda3\\lib\\site-packages\\statsmodels\\base\\model.py:466: ConvergenceWarning: Maximum Likelihood optimization failed to converge. Check mle_retvals\n",
      "  \"Check mle_retvals\", ConvergenceWarning)\n"
     ]
    },
    {
     "name": "stdout",
     "output_type": "stream",
     "text": [
      "p = 7, d = 2, q = 0\n"
     ]
    },
    {
     "name": "stderr",
     "output_type": "stream",
     "text": [
      "C:\\Users\\Ulric\\Anaconda3\\lib\\site-packages\\statsmodels\\base\\model.py:466: ConvergenceWarning: Maximum Likelihood optimization failed to converge. Check mle_retvals\n",
      "  \"Check mle_retvals\", ConvergenceWarning)\n"
     ]
    },
    {
     "name": "stdout",
     "output_type": "stream",
     "text": [
      "p = 7, d = 2, q = 1\n"
     ]
    },
    {
     "name": "stderr",
     "output_type": "stream",
     "text": [
      "C:\\Users\\Ulric\\Anaconda3\\lib\\site-packages\\statsmodels\\base\\model.py:466: ConvergenceWarning: Maximum Likelihood optimization failed to converge. Check mle_retvals\n",
      "  \"Check mle_retvals\", ConvergenceWarning)\n"
     ]
    },
    {
     "name": "stdout",
     "output_type": "stream",
     "text": [
      "p = 7, d = 2, q = 2\n"
     ]
    },
    {
     "name": "stderr",
     "output_type": "stream",
     "text": [
      "C:\\Users\\Ulric\\Anaconda3\\lib\\site-packages\\statsmodels\\base\\model.py:466: ConvergenceWarning: Maximum Likelihood optimization failed to converge. Check mle_retvals\n",
      "  \"Check mle_retvals\", ConvergenceWarning)\n"
     ]
    },
    {
     "name": "stdout",
     "output_type": "stream",
     "text": [
      "\n"
     ]
    }
   ],
   "source": [
    "gsTv = gridSearchTimeSeries(\n",
    "    database_cleaned,\n",
    "    pList= range(1,8),\n",
    "    dList = range(0, 3), \n",
    "    qList = range(0, 3), \n",
    "    covariateList=[\n",
    "        'Partner TOTAL',\n",
    "        'Affiliate TOTAL',\n",
    "        'Search TOTAL',\n",
    "        'TV Campaign 1',\n",
    "       'TV Campaign 2', 'TV Campaign 3'\n",
    "    ]\n",
    ")"
   ]
  },
  {
   "cell_type": "code",
   "execution_count": 61,
   "metadata": {},
   "outputs": [
    {
     "data": {
      "text/html": [
       "<div>\n",
       "<table border=\"1\" class=\"dataframe\">\n",
       "  <thead>\n",
       "    <tr style=\"text-align: right;\">\n",
       "      <th></th>\n",
       "      <th>p</th>\n",
       "      <th>d</th>\n",
       "      <th>q</th>\n",
       "      <th>llf</th>\n",
       "      <th>aic</th>\n",
       "      <th>bic</th>\n",
       "      <th>hqic</th>\n",
       "    </tr>\n",
       "  </thead>\n",
       "  <tbody>\n",
       "    <tr>\n",
       "      <th>56</th>\n",
       "      <td>7</td>\n",
       "      <td>0</td>\n",
       "      <td>2</td>\n",
       "      <td>-8901.062706</td>\n",
       "      <td>17832.125411</td>\n",
       "      <td>17905.801621</td>\n",
       "      <td>17860.122085</td>\n",
       "    </tr>\n",
       "    <tr>\n",
       "      <th>47</th>\n",
       "      <td>6</td>\n",
       "      <td>0</td>\n",
       "      <td>2</td>\n",
       "      <td>-8943.277342</td>\n",
       "      <td>17914.554683</td>\n",
       "      <td>17983.319145</td>\n",
       "      <td>17940.684912</td>\n",
       "    </tr>\n",
       "    <tr>\n",
       "      <th>38</th>\n",
       "      <td>5</td>\n",
       "      <td>0</td>\n",
       "      <td>2</td>\n",
       "      <td>-8945.892240</td>\n",
       "      <td>17917.784481</td>\n",
       "      <td>17981.637196</td>\n",
       "      <td>17942.048265</td>\n",
       "    </tr>\n",
       "    <tr>\n",
       "      <th>55</th>\n",
       "      <td>7</td>\n",
       "      <td>0</td>\n",
       "      <td>1</td>\n",
       "      <td>-8945.195392</td>\n",
       "      <td>17918.390783</td>\n",
       "      <td>17987.155246</td>\n",
       "      <td>17944.521013</td>\n",
       "    </tr>\n",
       "    <tr>\n",
       "      <th>54</th>\n",
       "      <td>7</td>\n",
       "      <td>0</td>\n",
       "      <td>0</td>\n",
       "      <td>-9000.000979</td>\n",
       "      <td>18026.001959</td>\n",
       "      <td>18089.854674</td>\n",
       "      <td>18050.265743</td>\n",
       "    </tr>\n",
       "  </tbody>\n",
       "</table>\n",
       "</div>"
      ],
      "text/plain": [
       "    p  d  q          llf           aic           bic          hqic\n",
       "56  7  0  2 -8901.062706  17832.125411  17905.801621  17860.122085\n",
       "47  6  0  2 -8943.277342  17914.554683  17983.319145  17940.684912\n",
       "38  5  0  2 -8945.892240  17917.784481  17981.637196  17942.048265\n",
       "55  7  0  1 -8945.195392  17918.390783  17987.155246  17944.521013\n",
       "54  7  0  0 -9000.000979  18026.001959  18089.854674  18050.265743"
      ]
     },
     "execution_count": 61,
     "metadata": {},
     "output_type": "execute_result"
    }
   ],
   "source": [
    "gsTotals.sort_values(\"hqic\").head()"
   ]
  },
  {
   "cell_type": "code",
   "execution_count": 73,
   "metadata": {},
   "outputs": [
    {
     "name": "stderr",
     "output_type": "stream",
     "text": [
      "C:\\Users\\Ulric\\Anaconda3\\lib\\site-packages\\statsmodels\\base\\model.py:466: ConvergenceWarning: Maximum Likelihood optimization failed to converge. Check mle_retvals\n",
      "  \"Check mle_retvals\", ConvergenceWarning)\n"
     ]
    }
   ],
   "source": [
    "tsTvModel = fitTimeSeries(\n",
    "    df=database_cleaned, \n",
    "    p=7, \n",
    "    d=0,\n",
    "    q=2, \n",
    "    covariateList=[\n",
    "        'Partner TOTAL',\n",
    "        'Affiliate TOTAL',\n",
    "        'Search TOTAL',\n",
    "        'TV Campaign 1',\n",
    "       'TV Campaign 2', \n",
    "        'TV Campaign 3'\n",
    "    ],\n",
    ")"
   ]
  },
  {
   "cell_type": "code",
   "execution_count": 74,
   "metadata": {},
   "outputs": [
    {
     "name": "stdout",
     "output_type": "stream",
     "text": [
      "                                ARMA Model Results                               \n",
      "=================================================================================\n",
      "Dep. Variable:     Total Hotel Purchases   No. Observations:                 1004\n",
      "Model:                        ARMA(7, 2)   Log Likelihood               -8898.405\n",
      "Method:                          css-mle   S.D. of innovations           1703.724\n",
      "Date:                   Fri, 16 Mar 2018   AIC                          17830.809\n",
      "Time:                           14:52:09   BIC                          17914.309\n",
      "Sample:                       01-01-2015   HQIC                         17862.539\n",
      "                            - 09-30-2017                                         \n",
      "===============================================================================================\n",
      "                                  coef    std err          z      P>|z|      [95.0% Conf. Int.]\n",
      "-----------------------------------------------------------------------------------------------\n",
      "const                        1.705e+04   1279.965     13.319      0.000      1.45e+04  1.96e+04\n",
      "Partner TOTAL                   0.0097      0.002      5.866      0.000         0.006     0.013\n",
      "Affiliate TOTAL                 0.0594      0.008      7.685      0.000         0.044     0.074\n",
      "Search TOTAL                    0.1362      0.011     12.790      0.000         0.115     0.157\n",
      "TV Campaign 1                   0.0012      0.001      0.822      0.411        -0.002     0.004\n",
      "TV Campaign 2                  -0.0027      0.001     -1.990      0.047        -0.005 -4.19e-05\n",
      "TV Campaign 3                  -0.0035      0.002     -1.730      0.084        -0.007     0.000\n",
      "ar.L1.Total Hotel Purchases     0.3570      0.037      9.631      0.000         0.284     0.430\n",
      "ar.L2.Total Hotel Purchases    -0.3971      0.065     -6.079      0.000        -0.525    -0.269\n",
      "ar.L3.Total Hotel Purchases     0.3529      0.062      5.650      0.000         0.231     0.475\n",
      "ar.L4.Total Hotel Purchases    -0.1748      0.044     -3.935      0.000        -0.262    -0.088\n",
      "ar.L5.Total Hotel Purchases     0.0449      0.036      1.251      0.211        -0.025     0.115\n",
      "ar.L6.Total Hotel Purchases     0.0960      0.029      3.308      0.001         0.039     0.153\n",
      "ar.L7.Total Hotel Purchases     0.6102      0.031     19.807      0.000         0.550     0.671\n",
      "ma.L1.Total Hotel Purchases     0.4131      0.032     13.092      0.000         0.351     0.475\n",
      "ma.L2.Total Hotel Purchases     0.6356      0.105      6.069      0.000         0.430     0.841\n",
      "                                    Roots                                    \n",
      "=============================================================================\n",
      "                 Real           Imaginary           Modulus         Frequency\n",
      "-----------------------------------------------------------------------------\n",
      "AR.1            1.0209           -0.0000j            1.0209           -0.0000\n",
      "AR.2            0.6443           -0.8118j            1.0364           -0.1432\n",
      "AR.3            0.6443           +0.8118j            1.0364            0.1432\n",
      "AR.4           -0.2221           -0.9888j            1.0134           -0.2852\n",
      "AR.5           -0.2221           +0.9888j            1.0134            0.2852\n",
      "AR.6           -1.0113           -0.6579j            1.2064           -0.4082\n",
      "AR.7           -1.0113           +0.6579j            1.2064            0.4082\n",
      "MA.1           -0.3249           -1.2115j            1.2543           -0.2917\n",
      "MA.2           -0.3249           +1.2115j            1.2543            0.2917\n",
      "-----------------------------------------------------------------------------\n"
     ]
    }
   ],
   "source": [
    "print(tsTvModel.summary())"
   ]
  },
  {
   "cell_type": "code",
   "execution_count": 68,
   "metadata": {},
   "outputs": [
    {
     "name": "stderr",
     "output_type": "stream",
     "text": [
      "C:\\Users\\Ulric\\Anaconda3\\lib\\site-packages\\statsmodels\\tsa\\arima_model.py:1724: FutureWarning: TimeSeries is deprecated. Please use Series\n",
      "  forecast = TimeSeries(forecast, index=self.data.predict_dates)\n",
      "C:\\Users\\Ulric\\Anaconda3\\lib\\site-packages\\matplotlib\\figure.py:402: UserWarning: matplotlib is currently using a non-GUI backend, so cannot show the figure\n",
      "  \"matplotlib is currently using a non-GUI backend, \"\n"
     ]
    },
    {
     "data": {
      "text/plain": [
       "<matplotlib.figure.Figure at 0x1fd0cee27f0>"
      ]
     },
     "metadata": {},
     "output_type": "display_data"
    },
    {
     "data": {
      "image/png": "[encoded data removed]",
      "text/plain": [
       "<matplotlib.figure.Figure at 0x1fd0cee2780>"
      ]
     },
     "metadata": {},
     "output_type": "display_data"
    }
   ],
   "source": [
    "fig = plt.figure(figsize=(15,10))\n",
    "fig = tsTvModel.plot_predict(\n",
    "    start = database_cleaned[\"Date\"].min().strftime(\"%Y-%m-%d\"),\n",
    "    end = (database_cleaned[\"Date\"].max() + pd.Timedelta(0, unit=\"D\")).strftime(\"%Y-%m-%d\")\n",
    ")\n",
    "fig.show()"
   ]
  },
  {
   "cell_type": "code",
   "execution_count": 79,
   "metadata": {},
   "outputs": [
    {
     "data": {
      "image/png": "[encoded data removed]",
      "text/plain": [
       "<matplotlib.figure.Figure at 0x1fd0a612f60>"
      ]
     },
     "metadata": {},
     "output_type": "display_data"
    },
    {
     "data": {
      "image/png": "[encoded data removed]",
      "text/plain": [
       "<matplotlib.figure.Figure at 0x1fd0b93a978>"
      ]
     },
     "metadata": {},
     "output_type": "display_data"
    }
   ],
   "source": [
    "_ = plot_acf(tsTvModel.resid, lags=50)\n",
    "_ = plot_pacf(tsTvModel.resid, lags=50)"
   ]
  }
 ],
 "metadata": {
  "kernelspec": {
   "display_name": "Python [default]",
   "language": "python",
   "name": "python3"
  },
  "language_info": {
   "codemirror_mode": {
    "name": "ipython",
    "version": 3
   },
   "file_extension": ".py",
   "mimetype": "text/x-python",
   "name": "python",
   "nbconvert_exporter": "python",
   "pygments_lexer": "ipython3",
   "version": "3.5.5"
  }
 },
 "nbformat": 4,
 "nbformat_minor": 2
}
