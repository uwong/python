{
 "cells": [
  {
   "cell_type": "code",
   "execution_count": 1,
   "metadata": {
    "collapsed": false
   },
   "outputs": [
    {
     "name": "stderr",
     "output_type": "stream",
     "text": [
      "Using TensorFlow backend.\n"
     ]
    }
   ],
   "source": [
    "import keras"
   ]
  },
  {
   "cell_type": "code",
   "execution_count": 2,
   "metadata": {
    "collapsed": true
   },
   "outputs": [],
   "source": [
    "import numpy as np\n",
    "import matplotlib.pyplot as plt\n",
    "import matplotlib.cm as cm\n",
    "%matplotlib inline"
   ]
  },
  {
   "cell_type": "markdown",
   "metadata": {},
   "source": [
    "# Load model"
   ]
  },
  {
   "cell_type": "code",
   "execution_count": 3,
   "metadata": {
    "collapsed": true
   },
   "outputs": [],
   "source": [
    "from keras.models import load_model"
   ]
  },
  {
   "cell_type": "code",
   "execution_count": 4,
   "metadata": {
    "collapsed": true
   },
   "outputs": [],
   "source": [
    "model = load_model(\"./models/minist_cnn.h5\")"
   ]
  },
  {
   "cell_type": "markdown",
   "metadata": {},
   "source": [
    "# Get some data for prediction"
   ]
  },
  {
   "cell_type": "markdown",
   "metadata": {},
   "source": [
    "### Verify on test data first"
   ]
  },
  {
   "cell_type": "code",
   "execution_count": 5,
   "metadata": {
    "collapsed": true
   },
   "outputs": [],
   "source": [
    "from keras.datasets import mnist"
   ]
  },
  {
   "cell_type": "code",
   "execution_count": 6,
   "metadata": {},
   "outputs": [
    {
     "name": "stdout",
     "output_type": "stream",
     "text": [
      "x_train shape: (60000, 28, 28, 1)\n",
      "60000 train samples\n",
      "10000 test samples\n"
     ]
    }
   ],
   "source": [
    "batch_size = 128\n",
    "num_classes = 10\n",
    "epochs = 10\n",
    "\n",
    "img_x, img_y = (28 , 28)\n",
    "\n",
    "input_shape = (img_x, img_y , 1)\n",
    "\n",
    "(x_train, y_train), (x_test, y_test) = mnist.load_data()\n",
    "\n",
    "# reshape the data into a 4D tensor - (sample_number, x_img_size, y_img_size, num_channels)\n",
    "# because the MNIST is greyscale, we only have a single channel - RGB colour images would have 3\n",
    "x_train = x_train.reshape(x_train.shape[0], img_x, img_y, 1)\n",
    "x_test = x_test.reshape(x_test.shape[0], img_x, img_y, 1)\n",
    "\n",
    "# convert the data to the right type\n",
    "x_train = x_train.astype('float32')\n",
    "x_test = x_test.astype('float32')\n",
    "x_train /= 255\n",
    "x_test /= 255\n",
    "print('x_train shape:', x_train.shape)\n",
    "print(x_train.shape[0], 'train samples')\n",
    "print(x_test.shape[0], 'test samples')\n",
    "\n",
    "# convert class vectors to binary class matrices - this is for use in the\n",
    "# categorical_crossentropy loss below\n",
    "y_train = keras.utils.to_categorical(y_train, num_classes)\n",
    "y_test = keras.utils.to_categorical(y_test, num_classes)"
   ]
  },
  {
   "cell_type": "code",
   "execution_count": 7,
   "metadata": {
    "collapsed": true
   },
   "outputs": [],
   "source": [
    "preds = model.predict(x_test)"
   ]
  },
  {
   "cell_type": "code",
   "execution_count": 8,
   "metadata": {},
   "outputs": [
    {
     "data": {
      "text/plain": [
       "array([  1.15235042e-15,   1.43304041e-15,   2.52884817e-13,\n",
       "         2.01078862e-10,   6.61074929e-18,   8.05289999e-16,\n",
       "         6.88082044e-22,   1.00000000e+00,   3.25479391e-17,\n",
       "         3.03041620e-11], dtype=float32)"
      ]
     },
     "execution_count": 8,
     "metadata": {},
     "output_type": "execute_result"
    }
   ],
   "source": [
    "preds[0]"
   ]
  },
  {
   "cell_type": "markdown",
   "metadata": {},
   "source": [
    "# Read in an image file"
   ]
  },
  {
   "cell_type": "code",
   "execution_count": 9,
   "metadata": {
    "collapsed": true
   },
   "outputs": [],
   "source": [
    "from skimage.io import imread\n",
    "from skimage.color import rgb2gray"
   ]
  },
  {
   "cell_type": "code",
   "execution_count": 10,
   "metadata": {
    "collapsed": true
   },
   "outputs": [],
   "source": [
    "def readHandDrawnImage(filePath):\n",
    "    newImage = 1 - np.reshape(rgb2gray(imread(filePath)), (1,784))\n",
    "    \n",
    "    return newImage\n",
    "\n",
    "newImage = readHandDrawnImage(\"hand_drawn_images/real_time.png\")"
   ]
  },
  {
   "cell_type": "code",
   "execution_count": 11,
   "metadata": {
    "collapsed": true
   },
   "outputs": [],
   "source": [
    "def drawMnistImageBuffer(imageBuffer):\n",
    "    print(\"\\n\\nNew image loaded:\")\n",
    "    plt.figure()\n",
    "    plt.imshow(imageBuffer.reshape((28,28)), cmap=cm.Greys)"
   ]
  },
  {
   "cell_type": "code",
   "execution_count": 12,
   "metadata": {
    "collapsed": true
   },
   "outputs": [],
   "source": [
    "def getPredictions(model, imageBuffer):\n",
    "    \n",
    "    processedImage = imageBuffer.reshape((28,28,1))\n",
    "    \n",
    "    preds = model.predict(np.array([processedImage]))\n",
    "    predictedClass = np.argmax(preds)\n",
    "    \n",
    "    return preds, predictedClass\n",
    "    \n",
    "    \n",
    "tempPreds, tempClass = getPredictions(model, newImage)"
   ]
  },
  {
   "cell_type": "code",
   "execution_count": 13,
   "metadata": {},
   "outputs": [
    {
     "data": {
      "text/plain": [
       "array([[  8.99896104e-15,   1.37992312e-10,   9.99999881e-01,\n",
       "          1.15822936e-15,   2.92600601e-12,   5.73859197e-14,\n",
       "          1.63938950e-07,   7.20426403e-17,   3.88481565e-13,\n",
       "          3.55105659e-17]], dtype=float32)"
      ]
     },
     "execution_count": 13,
     "metadata": {},
     "output_type": "execute_result"
    }
   ],
   "source": [
    "tempPreds"
   ]
  },
  {
   "cell_type": "code",
   "execution_count": 14,
   "metadata": {},
   "outputs": [
    {
     "name": "stdout",
     "output_type": "stream",
     "text": [
      "\n",
      "\n",
      "New image loaded:\n",
      "Class probabilities\n",
      "\t0 probability = 0.00000\n",
      "\t1 probability = 0.00000\n",
      "\t2 probability = 1.00000\n",
      "\t3 probability = 0.00000\n",
      "\t4 probability = 0.00000\n",
      "\t5 probability = 0.00000\n",
      "\t6 probability = 0.00000\n",
      "\t7 probability = 0.00000\n",
      "\t8 probability = 0.00000\n",
      "\t9 probability = 0.00000\n",
      "Predicted digit = 2\n"
     ]
    },
    {
     "data": {
      "image/png": "[encoded data removed]",
      "text/plain": [
       "<matplotlib.figure.Figure at 0x200bf58ffd0>"
      ]
     },
     "metadata": {},
     "output_type": "display_data"
    }
   ],
   "source": [
    "def predictHandDrawnImage(model, imageFilePath):\n",
    "    \n",
    "    rawImageBuffer = readHandDrawnImage(imageFilePath)\n",
    "    \n",
    "    drawMnistImageBuffer(rawImageBuffer)\n",
    "\n",
    "    preds, predictedClass = getPredictions(model, rawImageBuffer)\n",
    "    \n",
    "    print(\"Class probabilities\")\n",
    "    for i, pred in enumerate(preds[0]):\n",
    "        print(\"\\t%i probability = %.5f\" % (i, pred))\n",
    "    print(\"Predicted digit = %i\" % predictedClass)\n",
    "    \n",
    "    \n",
    "predictHandDrawnImage(model, \"hand_drawn_images/real_time.png\")"
   ]
  }
 ],
 "metadata": {
  "kernelspec": {
   "display_name": "Python 3",
   "language": "python",
   "name": "python3"
  },
  "language_info": {
   "codemirror_mode": {
    "name": "ipython",
    "version": 3
   },
   "file_extension": ".py",
   "mimetype": "text/x-python",
   "name": "python",
   "nbconvert_exporter": "python",
   "pygments_lexer": "ipython3",
   "version": "3.5.5"
  }
 },
 "nbformat": 4,
 "nbformat_minor": 2
}
