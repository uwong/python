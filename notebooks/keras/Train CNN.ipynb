{
 "cells": [
  {
   "cell_type": "markdown",
   "metadata": {},
   "source": [
    "# Overview\n",
    "\n",
    "Use keras to implement the tutorial convolutional neural network featured in the tensorflow tutorial"
   ]
  },
  {
   "cell_type": "code",
   "execution_count": 1,
   "metadata": {},
   "outputs": [
    {
     "name": "stdout",
     "output_type": "stream",
     "text": [
      "# packages in environment at C:\\Users\\Ulric\\Anaconda3:\n",
      "#\n",
      "# Name                    Version                   Build  Channel\n",
      "_license                  1.1                      py35_1  \n",
      "_nb_ext_conf              0.3.0                    py35_0  \n",
      "_tflow_190_select         0.0.1                       gpu  \n",
      "absl-py                   0.5.0                      py_0    conda-forge\n",
      "alabaster                 0.7.9                    py35_0  \n",
      "anaconda                  custom                   py35_0  \n",
      "anaconda-clean            1.0.0                    py35_0  \n",
      "anaconda-client           1.7.2                    py35_0  \n",
      "anaconda-navigator        1.9.2                    py35_0  \n",
      "anaconda-project          0.4.1                    py35_0  \n",
      "appdirs                   1.4.3                     <pip>\n",
      "argcomplete               1.0.0                    py35_1  \n",
      "astor                     0.7.1                      py_0    conda-forge\n",
      "astroid                   1.4.9                    py35_0  \n",
      "astropy                   1.3                 np111py35_0  \n",
      "attrs                     15.2.0                   py35_0  \n",
      "automat                   0.5.0                    py35_0  \n",
      "babel                     2.3.4                    py35_0  \n",
      "backports                 1.0                      py35_0  \n",
      "backports.weakref         1.0rc1                    <pip>\n",
      "beautifulsoup4            4.5.3                    py35_0    conda-forge\n",
      "bitarray                  0.8.1                    py35_1  \n",
      "blas                      1.0                         mkl  \n",
      "blaze                     0.10.1                   py35_0  \n",
      "bleach                    1.5.0                     <pip>\n",
      "boilerpipe3               1.1                       <pip>\n",
      "bokeh                     0.12.4                   py35_0  \n",
      "boto                      2.45.0                   py35_0  \n",
      "bottleneck                1.2.0               np111py35_0  \n",
      "bzip2                     1.0.6                    vc14_1  [vc14]  conda-forge\n",
      "ca-certificates           2018.8.24            ha4d7672_0    conda-forge\n",
      "certifi                   2018.8.24             py35_1001    conda-forge\n",
      "cffi                      1.9.1                    py35_0  \n",
      "charade                   1.0.3                     <pip>\n",
      "chardet                   2.3.0                    py35_0  \n",
      "chest                     0.2.3                    py35_0  \n",
      "click                     6.7                      py35_0  \n",
      "cloudpickle               0.2.2                    py35_0  \n",
      "clyent                    1.2.2                    py35_0  \n",
      "colorama                  0.3.7                    py35_0  \n",
      "comtypes                  1.1.2                    py35_0  \n",
      "conda                     4.5.11                   py35_0    conda-forge\n",
      "conda-build               3.14.4                   py35_0    conda-forge\n",
      "conda-env                 2.6.0                         0    conda-forge\n",
      "configobj                 5.0.6                    py35_0  \n",
      "console_shortcut          0.1.1                         3  \n",
      "constantly                15.1.0                   py35_0  \n",
      "contextlib2               0.5.4                    py35_0  \n",
      "cryptography              1.7.1                    py35_0  \n",
      "cssselect                 1.0.0                    py35_0  \n",
      "curl                      7.58.0                   vc14_0  [vc14]  conda-forge\n",
      "cycler                    0.10.0                   py35_0  \n",
      "cython                    0.25.2                   py35_0  \n",
      "cytoolz                   0.8.2                    py35_0  \n",
      "dask                      0.13.0                   py35_0  \n",
      "datashape                 0.5.4                    py35_0  \n",
      "decorator                 4.0.11                   py35_0  \n",
      "dill                      0.2.5                    py35_0  \n",
      "docutils                  0.13.1                   py35_0  \n",
      "dynd-python               0.7.2                    py35_0  \n",
      "entrypoints               0.2.2                    py35_0  \n",
      "et_xmlfile                1.0.1                    py35_0  \n",
      "fastcache                 1.0.2                    py35_1  \n",
      "filelock                  2.0.6                    py35_0  \n",
      "flask                     0.12                     py35_0  \n",
      "flask-cors                3.0.2                    py35_0  \n",
      "freetype                  2.8.1                    vc14_0  [vc14]  conda-forge\n",
      "gast                      0.2.0                      py_0    conda-forge\n",
      "get_terminal_size         1.0.0                    py35_0  \n",
      "gevent                    1.2.1                    py35_0  \n",
      "glob2                     0.6                        py_0    conda-forge\n",
      "glueviz                   0.8.2                    py35_1  \n",
      "greenlet                  0.4.11                   py35_0  \n",
      "grpcio                    1.14.1           py35he089993_0    conda-forge\n",
      "h5py                      2.8.0            py35hfa6e2cd_0    conda-forge\n",
      "hdf5                      1.10.1                   vc14_2  [vc14]  conda-forge\n",
      "heapdict                  1.0.0                    py35_1  \n",
      "html5lib                  0.9999999                 <pip>\n",
      "icc_rt                    2017.0.4             h97af966_0  \n",
      "icu                       58.2                     vc14_0  [vc14]  conda-forge\n",
      "idna                      2.2                      py35_0  \n",
      "imagesize                 0.7.1                    py35_0  \n",
      "incremental               16.10.1                  py35_0  \n",
      "inflection                0.3.1                    py35_0    conda-forge\n",
      "intel-openmp              2018.0.0             hd92c6cd_8  \n",
      "ipykernel                 4.5.2                    py35_0  \n",
      "ipython                   5.1.0                    py35_0  \n",
      "ipython-notebook          4.0.4                    py35_3  \n",
      "ipython_genutils          0.1.0                    py35_0  \n",
      "ipywidgets                5.2.2                    py35_1  \n",
      "isort                     4.2.5                    py35_0  \n",
      "itsdangerous              0.24                     py35_0  \n",
      "jdcal                     1.3                      py35_0  \n",
      "jedi                      0.9.0                    py35_1  \n",
      "jinja2                    2.9.4                    py35_0  \n",
      "joblib                    0.12.5                     py_0    conda-forge\n",
      "jpeg                      9b                       vc14_2  [vc14]  conda-forge\n",
      "JPype1-py3                0.5.5.2                   <pip>\n",
      "jsonschema                2.5.1                    py35_0  \n",
      "jupyter                   1.0.0                    py35_3  \n",
      "jupyter_client            5.2.3                    py35_0    conda-forge\n",
      "jupyter_console           5.0.0                    py35_0  \n",
      "jupyter_core              4.4.0                      py_0    conda-forge\n",
      "jupyterlab                0.34.12                  py35_0    conda-forge\n",
      "jupyterlab_launcher       0.13.1                     py_2    conda-forge\n",
      "keras                     2.2.2                    py35_0    conda-forge\n",
      "keras-applications        1.0.4                      py_1    conda-forge\n",
      "keras-base                2.2.2                    py35_0  \n",
      "keras-gpu                 2.2.2                         0  \n",
      "keras-preprocessing       1.0.2                      py_1    conda-forge\n",
      "krb5                      1.14.2                   vc14_0  [vc14]  conda-forge\n",
      "lazy-object-proxy         1.2.2                    py35_0  \n",
      "libdynd                   0.7.2                         0  \n",
      "libgpuarray               0.7.6                    vc14_0  [vc14]  conda-forge\n",
      "libpng                    1.6.34                   vc14_0  [vc14]  conda-forge\n",
      "libprotobuf               3.5.2                    vc14_0  [vc14]  conda-forge\n",
      "libssh2                   1.8.0                    vc14_2  [vc14]  conda-forge\n",
      "libtiff                   4.0.9                    vc14_0  [vc14]  conda-forge\n",
      "llvmlite                  0.15.0                   py35_0  \n",
      "locket                    0.2.0                    py35_1  \n",
      "lxml                      3.7.2                    py35_0  \n",
      "m2w64-bwidget             1.9.10                        2  \n",
      "m2w64-bzip2               1.0.6                         6  \n",
      "m2w64-expat               2.1.1                         2  \n",
      "m2w64-fftw                3.3.4                         6  \n",
      "m2w64-flac                1.3.1                         3  \n",
      "m2w64-gcc-libgfortran     5.3.0                         6  \n",
      "m2w64-gcc-libs            5.3.0                         7  \n",
      "m2w64-gcc-libs-core       5.3.0                         7  \n",
      "m2w64-gettext             0.19.7                        2  \n",
      "m2w64-gmp                 6.1.0                         2  \n",
      "m2w64-gsl                 2.1                           2  \n",
      "m2w64-libiconv            1.14                          6  \n",
      "m2w64-libjpeg-turbo       1.4.2                         3  \n",
      "m2w64-libogg              1.3.2                         3  \n",
      "m2w64-libpng              1.6.21                        2  \n",
      "m2w64-libsndfile          1.0.26                        2  \n",
      "m2w64-libtiff             4.0.6                         2  \n",
      "m2w64-libvorbis           1.3.5                         2  \n",
      "m2w64-libwinpthread-git   5.0.0.4634.697f757               2  \n",
      "m2w64-libxml2             2.9.3                         4  \n",
      "m2w64-mpfr                3.1.4                         4  \n",
      "m2w64-pcre                8.38                          2  \n",
      "m2w64-speex               1.2rc2                        3  \n",
      "m2w64-speexdsp            1.2rc3                        3  \n",
      "m2w64-tcl                 8.6.5                         3  \n",
      "m2w64-tk                  8.6.5                         3  \n",
      "m2w64-tktable             2.10                          5  \n",
      "m2w64-wineditline         2.101                         5  \n",
      "m2w64-xz                  5.2.2                         2  \n",
      "m2w64-zlib                1.2.8                        10  \n",
      "mako                      1.0.7                      py_1    conda-forge\n",
      "Markdown                  2.2.0                     <pip>\n",
      "markdown                  2.6.11                     py_0    conda-forge\n",
      "markupsafe                0.23                     py35_2  \n",
      "matplotlib                2.0.0               np111py35_0  \n",
      "menuinst                  1.4.14                   py35_0    conda-forge\n",
      "mistune                   0.7.3                    py35_0  \n",
      "mkl                       2018.0.1             h2108138_4  \n",
      "mkl-service               1.1.2                    py35_3  \n",
      "more-itertools            4.1.0                      py_0    conda-forge\n",
      "mpmath                    0.19                     py35_1  \n",
      "msys2-conda-epoch         20160418                      1  \n",
      "multipledispatch          0.4.9                    py35_0  \n",
      "nb_anacondacloud          1.2.0                    py35_0  \n",
      "nb_conda                  2.0.0                    py35_0  \n",
      "nb_conda_kernels          2.0.0                    py35_0  \n",
      "nbconvert                 4.2.0                    py35_0  \n",
      "nbformat                  4.2.0                    py35_0  \n",
      "nbpresent                 3.0.2                    py35_0  \n",
      "networkx                  1.11                     py35_0  \n",
      "nltk                      3.2.2                    py35_0  \n",
      "nose                      1.3.7                    py35_1  \n",
      "notebook                  5.4.1                    py35_0    conda-forge\n",
      "numba                     0.30.1              np111py35_0  \n",
      "numexpr                   2.6.4                    py35_1    conda-forge\n",
      "numpy                     1.14.2           py35h5c71026_0  \n",
      "numpy                     1.13.0                    <pip>\n",
      "numpydoc                  0.6.0                    py35_0  \n",
      "odo                       0.5.0                    py35_1  \n",
      "olefile                   0.45.1                   py35_0    conda-forge\n",
      "openpyxl                  2.4.1                    py35_0  \n",
      "openssl                   1.0.2p            hfa6e2cd_1000    conda-forge\n",
      "packaging                 16.8                      <pip>\n",
      "pandas                    0.23.4           py35h830ac7b_0    conda-forge\n",
      "pandas-datareader         0.6.0                    py35_0    conda-forge\n",
      "parsel                    1.1.0                    py35_0  \n",
      "partd                     0.3.7                    py35_0  \n",
      "path.py                   10.0                     py35_0  \n",
      "pathlib2                  2.2.0                    py35_0  \n",
      "patsy                     0.4.1                    py35_0  \n",
      "pep8                      1.7.0                    py35_0  \n",
      "pickleshare               0.7.4                    py35_0  \n",
      "pillow                    5.0.0                    py35_0    conda-forge\n",
      "pip                       9.0.1                     <pip>\n",
      "pip                       18.1                      <pip>\n",
      "pip                       9.0.1                    py35_1  \n",
      "pkginfo                   1.3.2                    py35_0  \n",
      "ply                       3.9                      py35_0  \n",
      "prompt_toolkit            1.0.9                    py35_0  \n",
      "protobuf                  3.3.0                     <pip>\n",
      "protobuf                  3.5.2               py35_vc14_0  [vc14]  conda-forge\n",
      "psutil                    5.0.1                    py35_0  \n",
      "py                        1.4.32                   py35_0  \n",
      "py4j                      0.10.6                   py35_1    conda-forge\n",
      "pyasn1                    0.1.9                    py35_0  \n",
      "pyasn1-modules            0.0.8                    py35_0  \n",
      "pycosat                   0.6.3            py35h456c199_0  \n",
      "pycparser                 2.17                     py35_0  \n",
      "pycrypto                  2.6.1                    py35_5  \n",
      "pycurl                    7.43.0.1         py35h74b6da3_0  \n",
      "pydispatcher              2.0.5                    py35_0  \n",
      "pyflakes                  1.5.0                    py35_0  \n",
      "pygments                  2.1.3                    py35_0  \n",
      "pygpu                     0.7.6                    py35_0    conda-forge\n",
      "pylint                    1.6.4                    py35_1  \n",
      "pymc                      2.3.6               np111py35_2  \n",
      "pyopenssl                 16.2.0                   py35_0  \n",
      "pyparsing                 2.1.4                    py35_0  \n",
      "pyparsing                 2.2.0                     <pip>\n",
      "pyqt                      5.6.0                    py35_2  \n",
      "pyreadline                2.1                      py35_0    conda-forge\n",
      "pyspark                   2.3.0                    py35_0    conda-forge\n",
      "pytables                  3.4.2                    py35_7    conda-forge\n",
      "pytest                    3.0.5                    py35_0  \n",
      "python                    3.5.5                         0    conda-forge\n",
      "python-dateutil           2.6.0                    py35_0  \n",
      "pytz                      2016.10                  py35_0  \n",
      "pywin32                   220                      py35_2  \n",
      "pywinpty                  0.5                      py35_1    conda-forge\n",
      "pyyaml                    3.12                     py35_0  \n",
      "pyzmq                     16.0.2                   py35_0  \n",
      "qt                        5.6.2                    vc14_1  [vc14]  conda-forge\n",
      "qtawesome                 0.4.3                    py35_0  \n",
      "qtconsole                 4.2.1                    py35_2  \n",
      "qtpy                      1.5.1              pyh8a2030e_0    conda-forge\n",
      "quandl                    3.3.0                    py35_0    conda-forge\n",
      "queuelib                  1.4.2                    py35_0  \n",
      "r-assertthat              0.2.0            r342h01a9704_0    r\n",
      "r-base                    3.4.2                hd3afeec_0    r\n",
      "r-bh                      1.65.0_1         r342h2243e07_0    r\n",
      "r-bindr                   0.1              r342ha70b456_0    r\n",
      "r-bindrcpp                0.2              r342he0cf37b_0    r\n",
      "r-bit                     1.1_12           r342he898d5b_0    r\n",
      "r-bit64                   0.9_7            r342hecae76e_0    r\n",
      "r-blob                    1.1.0            r342h5606f5e_0    r\n",
      "r-dbi                     0.7              r342h740eb65_0    r\n",
      "r-dbplyr                  1.1.0            r342he5e855d_0    r\n",
      "r-digest                  0.6.12           r342h45c1662_0    r\n",
      "r-dplyr                   0.7.4            r342hebb6f2c_0    r\n",
      "r-glue                    1.1.1            r342hf365760_0    r\n",
      "r-magrittr                1.5              r342h30e08dc_4    r\n",
      "r-memoise                 1.1.0            r342h435a7ce_0    r\n",
      "r-pkgconfig               2.0.1            r342hee5d7c7_0    r\n",
      "r-plogr                   0.1_1            r342h364fde6_0    r\n",
      "r-purrr                   0.2.3            r342h7fe2810_0    r\n",
      "r-r6                      2.2.2            r342h65183d9_0    r\n",
      "r-rcpp                    0.12.13          r342h3e881fa_0    r\n",
      "r-rlang                   0.1.2            r342ha421a6b_0    r\n",
      "r-rsqlite                 2.0              r342hefa7951_0    r\n",
      "r-tibble                  1.3.4            r342h4fd6444_0    r\n",
      "requests                  2.12.4                   py35_0  \n",
      "requests-file             1.4.3                    py35_0  \n",
      "requests-ftp              0.3.1                    py35_0    conda-forge\n",
      "rope                      0.9.4                    py35_1  \n",
      "rpy2                      2.9.0           py35r342h079e104_0    r\n",
      "ruamel_yaml               0.11.14                  py35_1  \n",
      "scikit-image              0.12.3              np111py35_1  \n",
      "scikit-learn              0.19.1           py35h2037775_0  \n",
      "scipy                     1.0.0            py35h75710e8_0  \n",
      "seaborn                   0.7.1                    py35_0  \n",
      "send2trash                1.5.0                      py_0    conda-forge\n",
      "service_identity          16.0.0                   py35_0  \n",
      "setuptools                38.4.0                   py35_0  \n",
      "setuptools                36.0.1                    <pip>\n",
      "simplegeneric             0.8.1                    py35_1  \n",
      "singledispatch            3.4.0.3                  py35_0  \n",
      "sip                       4.18                     py35_0  \n",
      "six                       1.10.0                   py35_0  \n",
      "six                       1.10.0                    <pip>\n",
      "snowballstemmer           1.2.1                    py35_0  \n",
      "sockjs-tornado            1.0.3                    py35_0  \n",
      "sphinx                    1.5.1                    py35_0  \n",
      "spyder                    3.1.2                    py35_0  \n",
      "sqlalchemy                1.1.5                    py35_0  \n",
      "statsmodels               0.8.0                    py35_0    conda-forge\n",
      "sympy                     1.0                      py35_0  \n",
      "tensorboard               1.9.0                    py35_0    conda-forge\n",
      "tensorflow                1.9.0                    py35_0    conda-forge\n",
      "tensorflow-gpu            1.9.0                hf154084_0  \n",
      "termcolor                 1.1.0                      py_2    conda-forge\n",
      "terminado                 0.8.1                    py35_0    conda-forge\n",
      "theano                    1.0.3                    py35_0    conda-forge\n",
      "Theano                    0.9.0                     <pip>\n",
      "tk                        8.5.19                   vc14_1  [vc14]  conda-forge\n",
      "toolz                     0.8.2                    py35_0  \n",
      "tornado                   4.4.2                    py35_0  \n",
      "tqdm                      4.19.7                     py_0    conda-forge\n",
      "traitlets                 4.3.1                    py35_0  \n",
      "twisted                   17.1.0                   py35_0  \n",
      "unicodecsv                0.14.1                   py35_0  \n",
      "vc                        14                            0  \n",
      "vs2015_runtime            14.0.25123                    0  \n",
      "w3lib                     1.16.0                   py35_0  \n",
      "wcwidth                   0.1.7                    py35_0  \n",
      "Werkzeug                  0.12.2                    <pip>\n",
      "werkzeug                  0.11.15                  py35_0  \n",
      "wheel                     0.29.0                    <pip>\n",
      "wheel                     0.29.0                   py35_0  \n",
      "widgetsnbextension        1.2.6                    py35_0  \n",
      "win_unicode_console       0.5                      py35_0  \n",
      "wincertstore              0.2              py35hfebbdb8_0  \n",
      "winpty                    0.4.3                    vc14_2  [vc14]  conda-forge\n",
      "wrapt                     1.10.8                   py35_0  \n",
      "xgboost                   0.80                      <pip>\n",
      "xlrd                      1.0.0                    py35_0  \n",
      "xlsxwriter                0.9.6                    py35_0  \n",
      "xlwings                   0.10.2                   py35_0  \n",
      "xlwt                      1.2.0                    py35_0  \n",
      "zlib                      1.2.11                   vc14_0  [vc14]  conda-forge\n",
      "zope                      1.0                      py35_0  \n",
      "zope.interface            4.3.3                    py35_0  \n"
     ]
    }
   ],
   "source": [
    "!conda list"
   ]
  },
  {
   "cell_type": "markdown",
   "metadata": {},
   "source": [
    "# Verify tensor flow"
   ]
  },
  {
   "cell_type": "code",
   "execution_count": 1,
   "metadata": {},
   "outputs": [],
   "source": [
    "import tensorflow as tf"
   ]
  },
  {
   "cell_type": "code",
   "execution_count": 2,
   "metadata": {},
   "outputs": [
    {
     "data": {
      "text/plain": [
       "['/device:GPU:0']"
      ]
     },
     "execution_count": 2,
     "metadata": {},
     "output_type": "execute_result"
    }
   ],
   "source": [
    "from tensorflow.python.client import device_lib\n",
    "\n",
    "def get_available_gpus():\n",
    "    local_device_protos = device_lib.list_local_devices()\n",
    "    return [x.name for x in local_device_protos if x.device_type == 'GPU']\n",
    "\n",
    "get_available_gpus()"
   ]
  },
  {
   "cell_type": "markdown",
   "metadata": {},
   "source": [
    "# Startup keras"
   ]
  },
  {
   "cell_type": "code",
   "execution_count": 3,
   "metadata": {},
   "outputs": [
    {
     "name": "stderr",
     "output_type": "stream",
     "text": [
      "Using TensorFlow backend.\n"
     ]
    }
   ],
   "source": [
    "import keras\n",
    "\n",
    "import numpy as np"
   ]
  },
  {
   "cell_type": "markdown",
   "metadata": {},
   "source": [
    "# Load data"
   ]
  },
  {
   "cell_type": "code",
   "execution_count": 4,
   "metadata": {},
   "outputs": [],
   "source": [
    "from keras.datasets import mnist"
   ]
  },
  {
   "cell_type": "code",
   "execution_count": 5,
   "metadata": {},
   "outputs": [],
   "source": [
    "batch_size = 128\n",
    "num_classes = 10\n",
    "epochs = 10\n",
    "\n",
    "img_x, img_y = (28 , 28)\n",
    "\n",
    "input_shape = (img_x, img_y , 1)"
   ]
  },
  {
   "cell_type": "code",
   "execution_count": 6,
   "metadata": {},
   "outputs": [],
   "source": [
    "(x_train, y_train), (x_test, y_test) = mnist.load_data()"
   ]
  },
  {
   "cell_type": "code",
   "execution_count": 7,
   "metadata": {},
   "outputs": [
    {
     "name": "stdout",
     "output_type": "stream",
     "text": [
      "(60000, 28, 28) (60000,)\n",
      "(10000, 28, 28) (10000,)\n"
     ]
    }
   ],
   "source": [
    "print (x_train.shape, y_train.shape)\n",
    "print (x_test.shape, y_test.shape)"
   ]
  },
  {
   "cell_type": "code",
   "execution_count": 8,
   "metadata": {},
   "outputs": [],
   "source": [
    "# reshape the data into a 4D tensor - (sample_number, x_img_size, y_img_size, num_channels)\n",
    "# because the MNIST is greyscale, we only have a single channel - RGB colour images would have 3\n",
    "x_train = x_train.reshape(x_train.shape[0], img_x, img_y, 1)\n",
    "x_test = x_test.reshape(x_test.shape[0], img_x, img_y, 1)"
   ]
  },
  {
   "cell_type": "code",
   "execution_count": 9,
   "metadata": {},
   "outputs": [
    {
     "name": "stdout",
     "output_type": "stream",
     "text": [
      "x_train shape: (60000, 28, 28, 1)\n",
      "60000 train samples\n",
      "10000 test samples\n"
     ]
    }
   ],
   "source": [
    "# convert the data to the right type\n",
    "x_train = x_train.astype('float32')\n",
    "x_test = x_test.astype('float32')\n",
    "x_train /= 255\n",
    "x_test /= 255\n",
    "print('x_train shape:', x_train.shape)\n",
    "print(x_train.shape[0], 'train samples')\n",
    "print(x_test.shape[0], 'test samples')"
   ]
  },
  {
   "cell_type": "code",
   "execution_count": 10,
   "metadata": {},
   "outputs": [],
   "source": [
    "# convert class vectors to binary class matrices - this is for use in the\n",
    "# categorical_crossentropy loss below\n",
    "y_train = keras.utils.to_categorical(y_train, num_classes)\n",
    "y_test = keras.utils.to_categorical(y_test, num_classes)"
   ]
  },
  {
   "cell_type": "code",
   "execution_count": 11,
   "metadata": {},
   "outputs": [
    {
     "name": "stdout",
     "output_type": "stream",
     "text": [
      "y_train shape: (60000, 10)\n",
      "y_test shape: (10000, 10)\n"
     ]
    }
   ],
   "source": [
    "print('y_train shape:', y_train.shape)\n",
    "print('y_test shape:', y_test.shape)"
   ]
  },
  {
   "cell_type": "markdown",
   "metadata": {},
   "source": [
    "# Setup a model"
   ]
  },
  {
   "cell_type": "code",
   "execution_count": 12,
   "metadata": {},
   "outputs": [],
   "source": [
    "from keras.models import Sequential\n",
    "from keras.layers import Dense, Flatten, Conv2D, MaxPooling2D"
   ]
  },
  {
   "cell_type": "markdown",
   "metadata": {},
   "source": [
    "### Specify model"
   ]
  },
  {
   "cell_type": "code",
   "execution_count": 13,
   "metadata": {},
   "outputs": [],
   "source": [
    "model = Sequential()\n",
    "model.add(Conv2D(32, kernel_size=(5, 5), strides=(1, 1),\n",
    "                 activation='relu',\n",
    "                 input_shape=input_shape))\n",
    "model.add(MaxPooling2D(pool_size=(2, 2), strides=(2, 2)))\n",
    "model.add(Conv2D(64, (5, 5), activation='relu'))\n",
    "model.add(MaxPooling2D(pool_size=(2, 2)))\n",
    "model.add(Flatten())\n",
    "model.add(Dense(1000, activation='relu'))\n",
    "model.add(Dense(num_classes, activation='softmax'))"
   ]
  },
  {
   "cell_type": "markdown",
   "metadata": {},
   "source": [
    "### Compile model"
   ]
  },
  {
   "cell_type": "code",
   "execution_count": 14,
   "metadata": {},
   "outputs": [],
   "source": [
    "model.compile(loss=keras.losses.categorical_crossentropy,\n",
    "              optimizer=keras.optimizers.Adam(),\n",
    "              metrics=['accuracy'])"
   ]
  },
  {
   "cell_type": "markdown",
   "metadata": {},
   "source": [
    "# Train the model"
   ]
  },
  {
   "cell_type": "markdown",
   "metadata": {},
   "source": [
    "### Eval function"
   ]
  },
  {
   "cell_type": "code",
   "execution_count": 15,
   "metadata": {},
   "outputs": [],
   "source": [
    "class AccuracyHistory(keras.callbacks.Callback):\n",
    "    def on_train_begin(self, logs={}):\n",
    "        self.acc = []\n",
    "\n",
    "    def on_epoch_end(self, batch, logs={}):\n",
    "        self.acc.append(logs.get('acc'))\n",
    "\n",
    "history = AccuracyHistory()"
   ]
  },
  {
   "cell_type": "markdown",
   "metadata": {},
   "source": [
    "# Fit"
   ]
  },
  {
   "cell_type": "code",
   "execution_count": 16,
   "metadata": {},
   "outputs": [
    {
     "name": "stdout",
     "output_type": "stream",
     "text": [
      "Train on 60000 samples, validate on 10000 samples\n",
      "Epoch 1/10\n",
      "60000/60000 [==============================] - 7s - loss: 0.1509 - acc: 0.9557 - val_loss: 0.0447 - val_acc: 0.9855\n",
      "Epoch 2/10\n",
      "60000/60000 [==============================] - 6s - loss: 0.0411 - acc: 0.9873 - val_loss: 0.0487 - val_acc: 0.9849\n",
      "Epoch 3/10\n",
      "60000/60000 [==============================] - 7s - loss: 0.0271 - acc: 0.9917 - val_loss: 0.0341 - val_acc: 0.9889\n",
      "Epoch 4/10\n",
      "60000/60000 [==============================] - 6s - loss: 0.0205 - acc: 0.9935 - val_loss: 0.0321 - val_acc: 0.9903\n",
      "Epoch 5/10\n",
      "60000/60000 [==============================] - 6s - loss: 0.0158 - acc: 0.9948 - val_loss: 0.0259 - val_acc: 0.9927\n",
      "Epoch 6/10\n",
      "60000/60000 [==============================] - 7s - loss: 0.0125 - acc: 0.9961 - val_loss: 0.0220 - val_acc: 0.9936\n",
      "Epoch 7/10\n",
      "60000/60000 [==============================] - 7s - loss: 0.0102 - acc: 0.9965 - val_loss: 0.0211 - val_acc: 0.9935\n",
      "Epoch 8/10\n",
      "60000/60000 [==============================] - 7s - loss: 0.0090 - acc: 0.9969 - val_loss: 0.0250 - val_acc: 0.9930\n",
      "Epoch 9/10\n",
      "60000/60000 [==============================] - 7s - loss: 0.0067 - acc: 0.9979 - val_loss: 0.0291 - val_acc: 0.9918\n",
      "Epoch 10/10\n",
      "60000/60000 [==============================] - 7s - loss: 0.0084 - acc: 0.9973 - val_loss: 0.0286 - val_acc: 0.9918\n",
      "Wall time: 1min 11s\n"
     ]
    },
    {
     "data": {
      "text/plain": [
       "<keras.callbacks.History at 0x1e3683c5ef0>"
      ]
     },
     "execution_count": 16,
     "metadata": {},
     "output_type": "execute_result"
    }
   ],
   "source": [
    "%%time\n",
    "\n",
    "model.fit(x_train, y_train,\n",
    "          batch_size=batch_size,\n",
    "          epochs=epochs,\n",
    "          verbose=1,\n",
    "          validation_data=(x_test, y_test),\n",
    "          callbacks=[history])"
   ]
  },
  {
   "cell_type": "markdown",
   "metadata": {},
   "source": [
    "# Use model for prediction"
   ]
  },
  {
   "cell_type": "code",
   "execution_count": 18,
   "metadata": {},
   "outputs": [],
   "source": [
    "preds_test = model.predict(x_test)"
   ]
  },
  {
   "cell_type": "code",
   "execution_count": 19,
   "metadata": {},
   "outputs": [
    {
     "data": {
      "text/plain": [
       "(10000, 10)"
      ]
     },
     "execution_count": 19,
     "metadata": {},
     "output_type": "execute_result"
    }
   ],
   "source": [
    "preds_test.shape"
   ]
  },
  {
   "cell_type": "code",
   "execution_count": 20,
   "metadata": {},
   "outputs": [
    {
     "data": {
      "text/plain": [
       "array([  1.15235042e-15,   1.43304041e-15,   2.52884817e-13,\n",
       "         2.01078862e-10,   6.61074929e-18,   8.05289999e-16,\n",
       "         6.88082044e-22,   1.00000000e+00,   3.25479391e-17,\n",
       "         3.03041620e-11], dtype=float32)"
      ]
     },
     "execution_count": 20,
     "metadata": {},
     "output_type": "execute_result"
    }
   ],
   "source": [
    "preds_test[0]"
   ]
  },
  {
   "cell_type": "code",
   "execution_count": 23,
   "metadata": {},
   "outputs": [
    {
     "data": {
      "text/plain": [
       "(10000, 10)"
      ]
     },
     "execution_count": 23,
     "metadata": {},
     "output_type": "execute_result"
    }
   ],
   "source": [
    "y_test.shape"
   ]
  },
  {
   "cell_type": "code",
   "execution_count": 24,
   "metadata": {},
   "outputs": [
    {
     "data": {
      "text/plain": [
       "array([ 0.,  0.,  0.,  0.,  0.,  0.,  0.,  1.,  0.,  0.])"
      ]
     },
     "execution_count": 24,
     "metadata": {},
     "output_type": "execute_result"
    }
   ],
   "source": [
    "y_test[0]"
   ]
  },
  {
   "cell_type": "markdown",
   "metadata": {},
   "source": [
    "# Save model"
   ]
  },
  {
   "cell_type": "code",
   "execution_count": 25,
   "metadata": {
    "collapsed": true
   },
   "outputs": [],
   "source": [
    "model.save(\"./models/minist_cnn.h5\")"
   ]
  }
 ],
 "metadata": {
  "kernelspec": {
   "display_name": "Python [default]",
   "language": "python",
   "name": "python3"
  },
  "language_info": {
   "codemirror_mode": {
    "name": "ipython",
    "version": 3
   },
   "file_extension": ".py",
   "mimetype": "text/x-python",
   "name": "python",
   "nbconvert_exporter": "python",
   "pygments_lexer": "ipython3",
   "version": "3.5.5"
  }
 },
 "nbformat": 4,
 "nbformat_minor": 2
}
