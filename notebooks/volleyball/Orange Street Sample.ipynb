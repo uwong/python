{
 "cells": [
  {
   "cell_type": "code",
   "execution_count": 268,
   "metadata": {
    "collapsed": true
   },
   "outputs": [],
   "source": [
    "import os\n",
    "import requests\n",
    "import pandas as pd\n",
    "import numpy as np\n",
    "import scipy\n",
    "import re\n",
    "from io import StringIO\n",
    "import matplotlib.pyplot as plt\n",
    "%matplotlib inline\n",
    "import itertools"
   ]
  },
  {
   "cell_type": "code",
   "execution_count": 3,
   "metadata": {
    "collapsed": true
   },
   "outputs": [],
   "source": [
    "documentId = \"1-IxV9UoncmM1X7LjlGEEmc9PHtqAmnH63Jlv4xTCOp4\"\n",
    "sheetId = 0"
   ]
  },
  {
   "cell_type": "markdown",
   "metadata": {},
   "source": [
    "# Read data from google spreadsheet"
   ]
  },
  {
   "cell_type": "code",
   "execution_count": 17,
   "metadata": {
    "collapsed": true
   },
   "outputs": [],
   "source": [
    "def getSpreadSheet(docId):\n",
    "    \"\"\"\n",
    "    Reads data from google spreadsheet as csv\n",
    "    \n",
    "    Inputs\n",
    "    ======\n",
    "    docId -- id of the google spreadsheet.  Must be accessible by shared link without authentication.\n",
    "    \n",
    "    Outputs\n",
    "    =======\n",
    "    csvData -- raw csv data retrieved\n",
    "    \"\"\"\n",
    "    \n",
    "    requestString = \"https://docs.google.com/spreadsheets/d/{DOC_ID}/export?format=csv\"\n",
    "    requestURL = requestString.format(DOC_ID=docId)\n",
    "    \n",
    "    requestResult = requests.get(requestURL)\n",
    "    assert requestResult.status_code == 200 \n",
    "    csvData = requestResult.content.decode()\n",
    "    \n",
    "    return csvData"
   ]
  },
  {
   "cell_type": "code",
   "execution_count": 18,
   "metadata": {
    "collapsed": false
   },
   "outputs": [],
   "source": [
    "csvData = getSpreadSheet(documentId)"
   ]
  },
  {
   "cell_type": "code",
   "execution_count": 26,
   "metadata": {
    "collapsed": false
   },
   "outputs": [
    {
     "data": {
      "text/plain": [
       "'Date,Court,Player1,Player2,Player3,Player4,South,North\\r\\n2016-09-17,1,Ulric,Kurt,Linh,James,15,21\\r\\n2016-09-17,1,Kurt,Suzanne,James,Ulric,19,21\\r\\n2016-09-17,1,Linh,kurt,Suzanne,James,22,20\\r\\n2016-09-17,1,Linh,Ulric,Suzanne,Frank,21,15\\r\\n2016-09-17,1,Frank,Ulric,Kurt,James,17,21\\r\\n2016-09-17,1,Linh,Frank,Suzanne,James,21,13\\r\\n2016-09-17,1,Linh,Kurt,Ulric,Suzanne,21,17\\r\\n2016-09-17,1,Frank,Suzanne,James,Kurt,21,13\\r\\n2016-09-17,1,Ulric,Kurt,Frank,Suzanne,20,22\\r\\n2016-09-24,1,Ulric,Kurt,Linh,James,16,21\\r\\n2016-09-24,2,Ulric,Linh,Carmen ,James,15,21\\r\\n2016-09-24,1,Bri,maceo,kurt,Suzanne,22,20\\r\\n2016-09-24,1,Linh,Kurt,Bri,Russ,14,21\\r\\n2016-09-24,2,Carmen ,James,Maceo,Suzanne,17,21\\r\\n2016-09-24,1,Linh,maceo,Suzanne,Russ,13,21\\r\\n2016-09-24,2,Bri,Ulric,Kurt,James,18,21\\r\\n2016-09-24,1,Ulric,maceo,Linh,Russ,14,21\\r\\n2016-09-24,1,Kurt,Suzanne,Carmen ,Russ,10,21\\r\\n2016-09-24,1,Ulric,Russ,Linh,Kurt,21,19'"
      ]
     },
     "execution_count": 26,
     "metadata": {},
     "output_type": "execute_result"
    }
   ],
   "source": [
    "csvData"
   ]
  },
  {
   "cell_type": "code",
   "execution_count": 43,
   "metadata": {
    "collapsed": false
   },
   "outputs": [],
   "source": [
    "schema = {\"Date\" : str,\n",
    "         \"Court\" : int,\n",
    "         \"Player1\" : str,\n",
    "          \"Player2\" : str,\n",
    "          \"Player3\" : str,\n",
    "          \"Player4\" : str,\n",
    "          \"South\" : int,\n",
    "          \"North\" : int\n",
    "         }\n",
    "\n",
    "def parseCsvData(csvData, schema=None):\n",
    "    \"\"\"\n",
    "    \"\"\"\n",
    "    dfData = pd.read_csv(StringIO(csvData), dtype=schema)\n",
    "    \n",
    "    return dfData\n",
    "\n",
    "dfData = parseCsvData(csvData, schema)"
   ]
  },
  {
   "cell_type": "code",
   "execution_count": 42,
   "metadata": {
    "collapsed": false
   },
   "outputs": [
    {
     "data": {
      "text/plain": [
       "Date       object\n",
       "Court       int32\n",
       "Player1    object\n",
       "Player2    object\n",
       "Player3    object\n",
       "Player4    object\n",
       "South       int32\n",
       "North       int32\n",
       "dtype: object"
      ]
     },
     "execution_count": 42,
     "metadata": {},
     "output_type": "execute_result"
    }
   ],
   "source": [
    "dfData.dtypes"
   ]
  },
  {
   "cell_type": "code",
   "execution_count": 61,
   "metadata": {
    "collapsed": true
   },
   "outputs": [],
   "source": [
    "def preProcessData(df):\n",
    "    dfProcessed = df.copy()\n",
    "    dfProcessed[\"Date\"] = pd.to_datetime(dfProcessed[\"Date\"])\n",
    "#     dfProcessed[\"Player1\"] = dfProcessed[\"Player1\"].astype(str)\n",
    "\n",
    "    def cleanName(name):\n",
    "        cleanedName = name.lower().strip()\n",
    "        return cleanedName\n",
    "    \n",
    "    dfProcessed[\"Player1\"] = dfProcessed[\"Player1\"].apply(cleanName)\n",
    "    dfProcessed[\"Player2\"] = dfProcessed[\"Player2\"].apply(cleanName)\n",
    "    dfProcessed[\"Player3\"] = dfProcessed[\"Player3\"].apply(cleanName)\n",
    "    dfProcessed[\"Player4\"] = dfProcessed[\"Player4\"].apply(cleanName)\n",
    "    \n",
    "    return dfProcessed\n",
    "\n",
    "dfProcessed = preProcessData(dfData)"
   ]
  },
  {
   "cell_type": "code",
   "execution_count": 59,
   "metadata": {
    "collapsed": false
   },
   "outputs": [
    {
     "data": {
      "text/plain": [
       "Date       datetime64[ns]\n",
       "Court               int32\n",
       "Player1            object\n",
       "Player2            object\n",
       "Player3            object\n",
       "Player4            object\n",
       "South               int32\n",
       "North               int32\n",
       "dtype: object"
      ]
     },
     "execution_count": 59,
     "metadata": {},
     "output_type": "execute_result"
    }
   ],
   "source": [
    "dfProcessed.dtypes"
   ]
  },
  {
   "cell_type": "code",
   "execution_count": 62,
   "metadata": {
    "collapsed": false
   },
   "outputs": [
    {
     "data": {
      "text/html": [
       "<div>\n",
       "<table border=\"1\" class=\"dataframe\">\n",
       "  <thead>\n",
       "    <tr style=\"text-align: right;\">\n",
       "      <th></th>\n",
       "      <th>Date</th>\n",
       "      <th>Court</th>\n",
       "      <th>Player1</th>\n",
       "      <th>Player2</th>\n",
       "      <th>Player3</th>\n",
       "      <th>Player4</th>\n",
       "      <th>South</th>\n",
       "      <th>North</th>\n",
       "    </tr>\n",
       "  </thead>\n",
       "  <tbody>\n",
       "    <tr>\n",
       "      <th>0</th>\n",
       "      <td>2016-09-17</td>\n",
       "      <td>1</td>\n",
       "      <td>ulric</td>\n",
       "      <td>kurt</td>\n",
       "      <td>linh</td>\n",
       "      <td>james</td>\n",
       "      <td>15</td>\n",
       "      <td>21</td>\n",
       "    </tr>\n",
       "    <tr>\n",
       "      <th>1</th>\n",
       "      <td>2016-09-17</td>\n",
       "      <td>1</td>\n",
       "      <td>kurt</td>\n",
       "      <td>suzanne</td>\n",
       "      <td>james</td>\n",
       "      <td>ulric</td>\n",
       "      <td>19</td>\n",
       "      <td>21</td>\n",
       "    </tr>\n",
       "    <tr>\n",
       "      <th>2</th>\n",
       "      <td>2016-09-17</td>\n",
       "      <td>1</td>\n",
       "      <td>linh</td>\n",
       "      <td>kurt</td>\n",
       "      <td>suzanne</td>\n",
       "      <td>james</td>\n",
       "      <td>22</td>\n",
       "      <td>20</td>\n",
       "    </tr>\n",
       "    <tr>\n",
       "      <th>3</th>\n",
       "      <td>2016-09-17</td>\n",
       "      <td>1</td>\n",
       "      <td>linh</td>\n",
       "      <td>ulric</td>\n",
       "      <td>suzanne</td>\n",
       "      <td>frank</td>\n",
       "      <td>21</td>\n",
       "      <td>15</td>\n",
       "    </tr>\n",
       "    <tr>\n",
       "      <th>4</th>\n",
       "      <td>2016-09-17</td>\n",
       "      <td>1</td>\n",
       "      <td>frank</td>\n",
       "      <td>ulric</td>\n",
       "      <td>kurt</td>\n",
       "      <td>james</td>\n",
       "      <td>17</td>\n",
       "      <td>21</td>\n",
       "    </tr>\n",
       "    <tr>\n",
       "      <th>5</th>\n",
       "      <td>2016-09-17</td>\n",
       "      <td>1</td>\n",
       "      <td>linh</td>\n",
       "      <td>frank</td>\n",
       "      <td>suzanne</td>\n",
       "      <td>james</td>\n",
       "      <td>21</td>\n",
       "      <td>13</td>\n",
       "    </tr>\n",
       "    <tr>\n",
       "      <th>6</th>\n",
       "      <td>2016-09-17</td>\n",
       "      <td>1</td>\n",
       "      <td>linh</td>\n",
       "      <td>kurt</td>\n",
       "      <td>ulric</td>\n",
       "      <td>suzanne</td>\n",
       "      <td>21</td>\n",
       "      <td>17</td>\n",
       "    </tr>\n",
       "    <tr>\n",
       "      <th>7</th>\n",
       "      <td>2016-09-17</td>\n",
       "      <td>1</td>\n",
       "      <td>frank</td>\n",
       "      <td>suzanne</td>\n",
       "      <td>james</td>\n",
       "      <td>kurt</td>\n",
       "      <td>21</td>\n",
       "      <td>13</td>\n",
       "    </tr>\n",
       "    <tr>\n",
       "      <th>8</th>\n",
       "      <td>2016-09-17</td>\n",
       "      <td>1</td>\n",
       "      <td>ulric</td>\n",
       "      <td>kurt</td>\n",
       "      <td>frank</td>\n",
       "      <td>suzanne</td>\n",
       "      <td>20</td>\n",
       "      <td>22</td>\n",
       "    </tr>\n",
       "    <tr>\n",
       "      <th>9</th>\n",
       "      <td>2016-09-24</td>\n",
       "      <td>1</td>\n",
       "      <td>ulric</td>\n",
       "      <td>kurt</td>\n",
       "      <td>linh</td>\n",
       "      <td>james</td>\n",
       "      <td>16</td>\n",
       "      <td>21</td>\n",
       "    </tr>\n",
       "    <tr>\n",
       "      <th>10</th>\n",
       "      <td>2016-09-24</td>\n",
       "      <td>2</td>\n",
       "      <td>ulric</td>\n",
       "      <td>linh</td>\n",
       "      <td>carmen</td>\n",
       "      <td>james</td>\n",
       "      <td>15</td>\n",
       "      <td>21</td>\n",
       "    </tr>\n",
       "    <tr>\n",
       "      <th>11</th>\n",
       "      <td>2016-09-24</td>\n",
       "      <td>1</td>\n",
       "      <td>bri</td>\n",
       "      <td>maceo</td>\n",
       "      <td>kurt</td>\n",
       "      <td>suzanne</td>\n",
       "      <td>22</td>\n",
       "      <td>20</td>\n",
       "    </tr>\n",
       "    <tr>\n",
       "      <th>12</th>\n",
       "      <td>2016-09-24</td>\n",
       "      <td>1</td>\n",
       "      <td>linh</td>\n",
       "      <td>kurt</td>\n",
       "      <td>bri</td>\n",
       "      <td>russ</td>\n",
       "      <td>14</td>\n",
       "      <td>21</td>\n",
       "    </tr>\n",
       "    <tr>\n",
       "      <th>13</th>\n",
       "      <td>2016-09-24</td>\n",
       "      <td>2</td>\n",
       "      <td>carmen</td>\n",
       "      <td>james</td>\n",
       "      <td>maceo</td>\n",
       "      <td>suzanne</td>\n",
       "      <td>17</td>\n",
       "      <td>21</td>\n",
       "    </tr>\n",
       "    <tr>\n",
       "      <th>14</th>\n",
       "      <td>2016-09-24</td>\n",
       "      <td>1</td>\n",
       "      <td>linh</td>\n",
       "      <td>maceo</td>\n",
       "      <td>suzanne</td>\n",
       "      <td>russ</td>\n",
       "      <td>13</td>\n",
       "      <td>21</td>\n",
       "    </tr>\n",
       "    <tr>\n",
       "      <th>15</th>\n",
       "      <td>2016-09-24</td>\n",
       "      <td>2</td>\n",
       "      <td>bri</td>\n",
       "      <td>ulric</td>\n",
       "      <td>kurt</td>\n",
       "      <td>james</td>\n",
       "      <td>18</td>\n",
       "      <td>21</td>\n",
       "    </tr>\n",
       "    <tr>\n",
       "      <th>16</th>\n",
       "      <td>2016-09-24</td>\n",
       "      <td>1</td>\n",
       "      <td>ulric</td>\n",
       "      <td>maceo</td>\n",
       "      <td>linh</td>\n",
       "      <td>russ</td>\n",
       "      <td>14</td>\n",
       "      <td>21</td>\n",
       "    </tr>\n",
       "    <tr>\n",
       "      <th>17</th>\n",
       "      <td>2016-09-24</td>\n",
       "      <td>1</td>\n",
       "      <td>kurt</td>\n",
       "      <td>suzanne</td>\n",
       "      <td>carmen</td>\n",
       "      <td>russ</td>\n",
       "      <td>10</td>\n",
       "      <td>21</td>\n",
       "    </tr>\n",
       "    <tr>\n",
       "      <th>18</th>\n",
       "      <td>2016-09-24</td>\n",
       "      <td>1</td>\n",
       "      <td>ulric</td>\n",
       "      <td>russ</td>\n",
       "      <td>linh</td>\n",
       "      <td>kurt</td>\n",
       "      <td>21</td>\n",
       "      <td>19</td>\n",
       "    </tr>\n",
       "  </tbody>\n",
       "</table>\n",
       "</div>"
      ],
      "text/plain": [
       "         Date  Court Player1  Player2  Player3  Player4  South  North\n",
       "0  2016-09-17      1   ulric     kurt     linh    james     15     21\n",
       "1  2016-09-17      1    kurt  suzanne    james    ulric     19     21\n",
       "2  2016-09-17      1    linh     kurt  suzanne    james     22     20\n",
       "3  2016-09-17      1    linh    ulric  suzanne    frank     21     15\n",
       "4  2016-09-17      1   frank    ulric     kurt    james     17     21\n",
       "5  2016-09-17      1    linh    frank  suzanne    james     21     13\n",
       "6  2016-09-17      1    linh     kurt    ulric  suzanne     21     17\n",
       "7  2016-09-17      1   frank  suzanne    james     kurt     21     13\n",
       "8  2016-09-17      1   ulric     kurt    frank  suzanne     20     22\n",
       "9  2016-09-24      1   ulric     kurt     linh    james     16     21\n",
       "10 2016-09-24      2   ulric     linh   carmen    james     15     21\n",
       "11 2016-09-24      1     bri    maceo     kurt  suzanne     22     20\n",
       "12 2016-09-24      1    linh     kurt      bri     russ     14     21\n",
       "13 2016-09-24      2  carmen    james    maceo  suzanne     17     21\n",
       "14 2016-09-24      1    linh    maceo  suzanne     russ     13     21\n",
       "15 2016-09-24      2     bri    ulric     kurt    james     18     21\n",
       "16 2016-09-24      1   ulric    maceo     linh     russ     14     21\n",
       "17 2016-09-24      1    kurt  suzanne   carmen     russ     10     21\n",
       "18 2016-09-24      1   ulric     russ     linh     kurt     21     19"
      ]
     },
     "execution_count": 62,
     "metadata": {},
     "output_type": "execute_result"
    }
   ],
   "source": [
    "dfProcessed"
   ]
  },
  {
   "cell_type": "markdown",
   "metadata": {},
   "source": [
    "# Feature Engineering"
   ]
  },
  {
   "cell_type": "code",
   "execution_count": 78,
   "metadata": {
    "collapsed": false
   },
   "outputs": [
    {
     "data": {
      "text/plain": [
       "{'bri': 0,\n",
       " 'carmen': 4,\n",
       " 'frank': 5,\n",
       " 'james': 3,\n",
       " 'kurt': 9,\n",
       " 'linh': 1,\n",
       " 'maceo': 6,\n",
       " 'russ': 8,\n",
       " 'suzanne': 2,\n",
       " 'ulric': 7}"
      ]
     },
     "execution_count": 78,
     "metadata": {},
     "output_type": "execute_result"
    }
   ],
   "source": [
    "def createPlayerDict(df):\n",
    "    uniquePlayers = set(df[\"Player1\"].tolist() +\\\n",
    "                    df[\"Player2\"].tolist() +\\\n",
    "                    df[\"Player3\"].tolist() +\\\n",
    "                    df[\"Player4\"].tolist())\n",
    "    \n",
    "    uniquePlayersDict = dict(zip(uniquePlayers, range(len(uniquePlayers))))\n",
    "    \n",
    "    return uniquePlayersDict\n",
    "\n",
    "playerDict = createPlayerDict(dfProcessed)\n",
    "\n",
    "playerDict"
   ]
  },
  {
   "cell_type": "code",
   "execution_count": 198,
   "metadata": {
    "collapsed": false
   },
   "outputs": [
    {
     "data": {
      "text/plain": [
       "{0: 'bri',\n",
       " 1: 'linh',\n",
       " 2: 'suzanne',\n",
       " 3: 'james',\n",
       " 4: 'carmen',\n",
       " 5: 'frank',\n",
       " 6: 'maceo',\n",
       " 7: 'ulric',\n",
       " 8: 'russ',\n",
       " 9: 'kurt'}"
      ]
     },
     "execution_count": 198,
     "metadata": {},
     "output_type": "execute_result"
    }
   ],
   "source": [
    "revPlayerDict = {v : k for k, v in playerDict.items()}\n",
    "revPlayerDict"
   ]
  },
  {
   "cell_type": "code",
   "execution_count": 154,
   "metadata": {
    "collapsed": false
   },
   "outputs": [
    {
     "data": {
      "text/plain": [
       "array([ 0.,  0.,  0.,  0.,  0.,  0.,  0.,  1.,  0.,  1.])"
      ]
     },
     "execution_count": 154,
     "metadata": {},
     "output_type": "execute_result"
    }
   ],
   "source": [
    "def teamToVector(teamSeries, playerDict):\n",
    "    teamVector = np.zeros(len(playerDict))\n",
    "    teamVector[playerDict[teamSeries[0]]] = 1\n",
    "    teamVector[playerDict[teamSeries[1]]] = 1\n",
    "    \n",
    "    return teamVector\n",
    "\n",
    "teamToVector((\"ulric\", \"kurt\"), playerDict)"
   ]
  },
  {
   "cell_type": "code",
   "execution_count": 215,
   "metadata": {
    "collapsed": false
   },
   "outputs": [],
   "source": [
    "def engFeatures(df, playerDictionary):\n",
    "    dfFeatures = df.copy()\n",
    "    \n",
    "    dfFeatures[\"team1Names\"] = dfFeatures.loc[:, [\"Player1\", \"Player2\"]].apply(lambda x: (x[0], x[1]), axis=\"columns\")\n",
    "    dfFeatures[\"team2Names\"] = dfFeatures.loc[:, [\"Player3\", \"Player4\"]].apply(lambda x: (x[0], x[1]), axis=\"columns\")\n",
    "    \n",
    "    dfFeatures[\"team1Vector\"] = dfFeatures[\"team1Names\"].apply(lambda x: teamToVector(x, playerDictionary))\n",
    "    dfFeatures[\"team2Vector\"] = dfFeatures[\"team2Names\"].apply(lambda x: teamToVector(x, playerDictionary))\n",
    "    \n",
    "#     dfFeatures.drop([\"Player1\", \"Player2\", \"Player3\", \"Player4\"], axis=\"columns\", inplace=True)\n",
    "                                             \n",
    "    return dfFeatures\n",
    "    \n",
    "dfFeatures = engFeatures(dfProcessed, playerDict)"
   ]
  },
  {
   "cell_type": "markdown",
   "metadata": {},
   "source": [
    "# Model data"
   ]
  },
  {
   "cell_type": "code",
   "execution_count": 188,
   "metadata": {
    "collapsed": true
   },
   "outputs": [],
   "source": [
    "from sklearn import linear_model\n",
    "import statsmodels.api as sm"
   ]
  },
  {
   "cell_type": "markdown",
   "metadata": {},
   "source": [
    "### Simple model\n",
    "\n",
    "First model each team's score as a function of the players on the team\n",
    "\n",
    "$score = \\sum^{k}_{i = 0} \\beta_i player_i$\n",
    "\n",
    "This model ignores: \n",
    "* interactions between players on the same team\n",
    "* interactions with the opposing team"
   ]
  },
  {
   "cell_type": "code",
   "execution_count": 251,
   "metadata": {
    "collapsed": false
   },
   "outputs": [
    {
     "data": {
      "image/png": "[encoded data removed]",
      "text/plain": [
       "<matplotlib.figure.Figure at 0xd48ecf8>"
      ]
     },
     "metadata": {},
     "output_type": "display_data"
    }
   ],
   "source": [
    "def boxPlots(df, playerList=None):\n",
    "    \n",
    "    # flatten players and scores\n",
    "    dfFlattenedData = pd.concat([df.loc[:, [\"Player1\",\"South\"]].rename(columns={\"Player1\" : \"Player\", \"South\" : \"Score\"}),\n",
    "                            df.loc[:, [\"Player2\",\"South\"]].rename(columns={\"Player2\" : \"Player\", \"South\" : \"Score\"}),\n",
    "                            df.loc[:, [\"Player3\",\"North\"]].rename(columns={\"Player3\" : \"Player\", \"North\" : \"Score\"}),\n",
    "                            df.loc[:, [\"Player4\",\"North\"]].rename(columns={\"Player4\" : \"Player\", \"North\" : \"Score\"}),\n",
    "                            ])\n",
    "\n",
    "    dfPlotData = dfFlattenedData\n",
    "    \n",
    "    if playerList:\n",
    "        playerFilter = dfFlattenedData[\"Player\"].isin(playerList)\n",
    "        dfPlotData = dfFlattenedData.loc[playerFilter]\n",
    "    \n",
    "    dfPlotData.boxplot(column=\"Score\", by=\"Player\")\n",
    "        \n",
    "        \n",
    "boxPlots(dfFeatures)"
   ]
  },
  {
   "cell_type": "code",
   "execution_count": 352,
   "metadata": {
    "collapsed": true
   },
   "outputs": [],
   "source": [
    "dfTeams = pd.concat([dfFeatures.loc[:, [\"team1Vector\", \"South\"]].rename(columns={\"team1Vector\" : \"teamVector\",\n",
    "                                                                     \"South\" : \"Score\"}),\n",
    "                     dfFeatures.loc[:, [\"team2Vector\", \"North\"]].rename(columns={\"team2Vector\" : \"teamVector\",\n",
    "                                                                     \"North\" : \"Score\"})\n",
    "                     ])"
   ]
  },
  {
   "cell_type": "code",
   "execution_count": 357,
   "metadata": {
    "collapsed": true
   },
   "outputs": [],
   "source": [
    "X = np.vstack(dfTeams[\"teamVector\"].values)\n",
    "Y = dfTeams[\"Score\"].values"
   ]
  },
  {
   "cell_type": "code",
   "execution_count": 358,
   "metadata": {
    "collapsed": false
   },
   "outputs": [
    {
     "data": {
      "text/plain": [
       "LinearRegression(copy_X=True, fit_intercept=True, n_jobs=1, normalize=False)"
      ]
     },
     "execution_count": 358,
     "metadata": {},
     "output_type": "execute_result"
    }
   ],
   "source": [
    "lrModel = linear_model.LinearRegression()\n",
    "lrModel.fit(X, Y)"
   ]
  },
  {
   "cell_type": "code",
   "execution_count": 392,
   "metadata": {
    "collapsed": false
   },
   "outputs": [
    {
     "name": "stdout",
     "output_type": "stream",
     "text": [
      "Intercept = 19.100972\n",
      "Coefficients:\n",
      "russ = 2.127102\n",
      "bri = 1.463544\n",
      "frank = 0.938490\n",
      "james = 0.470412\n",
      "linh = 0.268740\n",
      "carmen = -0.456947\n",
      "kurt = -0.965517\n",
      "suzanne = -1.025172\n",
      "ulric = -1.390535\n",
      "maceo = -1.430117\n"
     ]
    }
   ],
   "source": [
    "def getModelParameters(model, playerDict, teamDict=None):\n",
    "    results = {}\n",
    "    results[\"intercept\"] = model.intercept_\n",
    "    results[\"coefficients\"] = {}\n",
    "    \n",
    "    coefDict = playerDict.copy()\n",
    "    if teamDict:\n",
    "        coefDict.update({(k + len(playerDict)) : v for k, v in teamDict.items()})\n",
    "\n",
    "    for position, value in enumerate(model.coef_):\n",
    "        results[\"coefficients\"][coefDict[position]] = value\n",
    "    \n",
    "    sortedCoefficients = sorted(results[\"coefficients\"].items(), key=lambda x: -x[1])\n",
    "    \n",
    "    print(\"Intercept = %f\" % results[\"intercept\"])\n",
    "    print(\"Coefficients:\")\n",
    "    for k,v in sortedCoefficients:\n",
    "        if v != 0:\n",
    "            print(\"%s = %f\" % (k,v))\n",
    "    \n",
    "    return results\n",
    "\n",
    "lrModelStats = getModelParameters(lrModel, revPlayerDict)"
   ]
  },
  {
   "cell_type": "markdown",
   "metadata": {},
   "source": [
    "# Model Teams as interactions"
   ]
  },
  {
   "cell_type": "code",
   "execution_count": 280,
   "metadata": {
    "collapsed": false
   },
   "outputs": [],
   "source": [
    "playerComboList = [set(combo) for combo in itertools.combinations(playerDict.keys(), 2)]"
   ]
  },
  {
   "cell_type": "code",
   "execution_count": 313,
   "metadata": {
    "collapsed": false
   },
   "outputs": [],
   "source": [
    "interactionDict = {tuple(combo) : i for combo, i in zip(playerComboList, range(len(playerComboList)))}"
   ]
  },
  {
   "cell_type": "code",
   "execution_count": 314,
   "metadata": {
    "collapsed": false
   },
   "outputs": [],
   "source": [
    "revInteractionDict = {v : k for k, v in interactionDict.items()}"
   ]
  },
  {
   "cell_type": "code",
   "execution_count": 347,
   "metadata": {
    "collapsed": false
   },
   "outputs": [],
   "source": [
    "dfInteractions = pd.concat([dfFeatures.loc[:, [\"team1Names\", \"South\"]].rename(columns={\"team1Names\" : \"names\", \n",
    "                                                                                       \"South\" : \"score\"}),\n",
    "                            dfFeatures.loc[:, [\"team2Names\", \"North\"]].rename(columns={\"team2Names\" : \"names\", \n",
    "                                                                                       \"North\" : \"score\"})])"
   ]
  },
  {
   "cell_type": "code",
   "execution_count": 317,
   "metadata": {
    "collapsed": true
   },
   "outputs": [],
   "source": [
    "def createInteractionOnlyVector(teamTuple, interactionDict):\n",
    "    intVector = np.zeros(len(interactionDict))\n",
    "    \n",
    "    if interactionDict.get(teamTuple):\n",
    "        intVector[interactionDict.get(teamTuple)] = 1.0\n",
    "    elif interactionDict.get((teamTuple[1], teamTuple[0])):\n",
    "        intVector[interactionDict.get((teamTuple[1], teamTuple[0]))] = 1.0\n",
    "    \n",
    "    return intVector"
   ]
  },
  {
   "cell_type": "code",
   "execution_count": 362,
   "metadata": {
    "collapsed": false
   },
   "outputs": [],
   "source": [
    "dfInteractions[\"teamIntVector\"] = dfInteractions[\"names\"].apply(lambda x: createInteractionOnlyVector(x, interactionDict))"
   ]
  },
  {
   "cell_type": "code",
   "execution_count": 363,
   "metadata": {
    "collapsed": true
   },
   "outputs": [],
   "source": [
    "Xint = np.vstack(dfInteractions[\"teamIntVector\"].values)"
   ]
  },
  {
   "cell_type": "code",
   "execution_count": 364,
   "metadata": {
    "collapsed": false
   },
   "outputs": [
    {
     "data": {
      "text/plain": [
       "Lasso(alpha=0.001, copy_X=True, fit_intercept=True, max_iter=1000,\n",
       "   normalize=False, positive=False, precompute=False, random_state=None,\n",
       "   selection='cyclic', tol=0.0001, warm_start=False)"
      ]
     },
     "execution_count": 364,
     "metadata": {},
     "output_type": "execute_result"
    }
   ],
   "source": [
    "lrIntModel = linear_model.Lasso(alpha=0.001)\n",
    "lrIntModel.fit(Xint, Y)"
   ]
  },
  {
   "cell_type": "code",
   "execution_count": 365,
   "metadata": {
    "collapsed": false
   },
   "outputs": [
    {
     "name": "stdout",
     "output_type": "stream",
     "text": [
      "Intercept = 19.005682\n",
      "Coefficients:\n",
      "('bri', 'maceo') = 2.956585\n",
      "('linh', 'james') = 1.975498\n",
      "('bri', 'russ') = 1.956565\n",
      "('linh', 'frank') = 1.956555\n",
      "('linh', 'russ') = 1.956516\n",
      "('maceo', 'suzanne') = 1.956444\n",
      "('russ', 'ulric') = 1.956436\n",
      "('ulric', 'james') = 1.956394\n",
      "('carmen', 'russ') = 1.956386\n",
      "('russ', 'suzanne') = 1.956378\n",
      "('frank', 'suzanne') = 0.315129\n",
      "('james', 'kurt') = -0.659667\n",
      "('bri', 'ulric') = -0.967425\n",
      "('linh', 'ulric') = -0.986474\n",
      "('frank', 'ulric') = -1.967511\n",
      "('ulric', 'suzanne') = -1.967598\n",
      "('ulric', 'kurt') = -1.992923\n",
      "('james', 'suzanne') = -2.486682\n",
      "('suzanne', 'kurt') = -2.659645\n",
      "('maceo', 'ulric') = -4.967547\n",
      "('linh', 'maceo') = -5.967455\n"
     ]
    }
   ],
   "source": [
    "lrIntStats = getModelParameters(lrIntModel, revInteractionDict)"
   ]
  },
  {
   "cell_type": "markdown",
   "metadata": {},
   "source": [
    "# Model main and interaction effects"
   ]
  },
  {
   "cell_type": "code",
   "execution_count": 380,
   "metadata": {
    "collapsed": false
   },
   "outputs": [],
   "source": [
    "def createMainIntDF(dfPlayers, dfTeams, playerDict, interactionDict):\n",
    "    \n",
    "    dfAll = pd.concat([dfPlayers, dfTeams.loc[:, \"teamIntVector\"]], axis=\"columns\" )\n",
    "    \n",
    "#     dfAll[\"featureVector\"] = dfAll.apply(lambda row: pd.Series(np.hstack([row[\"teamVector\"], row[\"teamIntVector\"]])), axis=\"columns\")\n",
    "    \n",
    "    return dfAll.apply(lambda row: pd.Series(np.hstack([row[\"teamVector\"], row[\"teamIntVector\"]])), axis=\"columns\")\n",
    "\n",
    "Xall = createMainIntDF(dfTeams, dfInteractions, playerDict, interactionDict).values"
   ]
  },
  {
   "cell_type": "code",
   "execution_count": 382,
   "metadata": {
    "collapsed": false
   },
   "outputs": [
    {
     "data": {
      "text/plain": [
       "Lasso(alpha=0.001, copy_X=True, fit_intercept=True, max_iter=1000,\n",
       "   normalize=False, positive=False, precompute=False, random_state=None,\n",
       "   selection='cyclic', tol=0.0001, warm_start=False)"
      ]
     },
     "execution_count": 382,
     "metadata": {},
     "output_type": "execute_result"
    }
   ],
   "source": [
    "lrAllModel = linear_model.Lasso(alpha=0.001)\n",
    "lrAllModel.fit(Xall, Y)"
   ]
  },
  {
   "cell_type": "code",
   "execution_count": 395,
   "metadata": {
    "collapsed": false
   },
   "outputs": [
    {
     "name": "stdout",
     "output_type": "stream",
     "text": [
      "Intercept = 19.301855\n",
      "Coefficients:\n",
      "('ulric', 'james') = 3.005230\n",
      "('bri', 'maceo') = 2.628530\n",
      "russ = 1.678255\n",
      "('maceo', 'suzanne') = 1.660166\n",
      "('linh', 'james') = 1.630948\n",
      "('linh', 'frank') = 1.592972\n",
      "('russ', 'ulric') = 1.326980\n",
      "('linh', 'kurt') = 0.596709\n",
      "linh = 0.048223\n",
      "bri = 0.031636\n",
      "frank = 0.018973\n",
      "('carmen', 'james') = -0.282847\n",
      "('ulric', 'suzanne') = -0.918767\n",
      "('frank', 'ulric') = -0.937731\n",
      "kurt = -0.956258\n",
      "ulric = -1.345069\n",
      "('suzanne', 'kurt') = -1.999590\n",
      "('james', 'suzanne') = -2.782855\n",
      "('maceo', 'ulric') = -3.918761\n",
      "('linh', 'maceo') = -6.312056\n"
     ]
    }
   ],
   "source": [
    "lrAllStats = getModelParameters(lrAllModel, revPlayerDict, revInteractionDict)"
   ]
  },
  {
   "cell_type": "code",
   "execution_count": 396,
   "metadata": {
    "collapsed": false
   },
   "outputs": [
    {
     "data": {
      "text/plain": [
       "{'coefficients': {('frank', 'suzanne'): 0.0,\n",
       "  ('linh', 'frank'): 1.5929723250792853,\n",
       "  'bri': 0.031635726741908961,\n",
       "  ('carmen', 'james'): -0.28284656037020922,\n",
       "  ('bri', 'russ'): -0.0,\n",
       "  ('russ', 'frank'): 0.0,\n",
       "  ('bri', 'carmen'): 0.0,\n",
       "  ('carmen', 'linh'): 0.0,\n",
       "  ('frank', 'james'): 0.0,\n",
       "  ('james', 'suzanne'): -2.7828550284266655,\n",
       "  'ulric': -1.3450692698083289,\n",
       "  ('carmen', 'kurt'): 0.0,\n",
       "  ('linh', 'russ'): -0.0,\n",
       "  ('bri', 'suzanne'): 0.0,\n",
       "  ('russ', 'maceo'): 0.0,\n",
       "  ('frank', 'maceo'): 0.0,\n",
       "  ('maceo', 'kurt'): 0.0,\n",
       "  ('ulric', 'james'): 3.0052299169066847,\n",
       "  ('james', 'kurt'): -0.0,\n",
       "  ('bri', 'james'): 0.0,\n",
       "  'carmen': -0.0,\n",
       "  ('bri', 'frank'): 0.0,\n",
       "  'maceo': -0.0,\n",
       "  ('linh', 'suzanne'): 0.0,\n",
       "  ('maceo', 'james'): 0.0,\n",
       "  ('bri', 'kurt'): 0.0,\n",
       "  ('russ', 'ulric'): 1.32697987516627,\n",
       "  'linh': 0.048223185518400838,\n",
       "  ('carmen', 'frank'): 0.0,\n",
       "  ('linh', 'kurt'): 0.59670858053580489,\n",
       "  ('russ', 'james'): 0.0,\n",
       "  ('carmen', 'maceo'): 0.0,\n",
       "  ('carmen', 'suzanne'): 0.0,\n",
       "  ('linh', 'ulric'): -0.0,\n",
       "  ('ulric', 'suzanne'): -0.91876744122682019,\n",
       "  ('linh', 'james'): 1.6309478951027068,\n",
       "  ('carmen', 'russ'): 0.0,\n",
       "  ('ulric', 'kurt'): -0.0,\n",
       "  ('russ', 'suzanne'): 0.0,\n",
       "  'kurt': -0.9562578139554615,\n",
       "  ('bri', 'linh'): 0.0,\n",
       "  ('bri', 'ulric'): 0.0,\n",
       "  ('maceo', 'ulric'): -3.9187611914711016,\n",
       "  ('suzanne', 'kurt'): -1.9995900246430502,\n",
       "  ('linh', 'maceo'): -6.3120561840569849,\n",
       "  'suzanne': -0.0,\n",
       "  'james': -0.0,\n",
       "  'frank': 0.018972922156459061,\n",
       "  ('carmen', 'ulric'): 0.0,\n",
       "  ('frank', 'ulric'): -0.93773146239254301,\n",
       "  ('russ', 'kurt'): 0.0,\n",
       "  'russ': 1.6782553282555719,\n",
       "  ('frank', 'kurt'): 0.0,\n",
       "  ('maceo', 'suzanne'): 1.6601659218631781,\n",
       "  ('bri', 'maceo'): 2.6285303754174332},\n",
       " 'intercept': 19.301855028426662}"
      ]
     },
     "execution_count": 396,
     "metadata": {},
     "output_type": "execute_result"
    }
   ],
   "source": [
    "lrAllStats"
   ]
  }
 ],
 "metadata": {
  "kernelspec": {
   "display_name": "Python 3",
   "language": "python",
   "name": "python3"
  },
  "language_info": {
   "codemirror_mode": {
    "name": "ipython",
    "version": 3
   },
   "file_extension": ".py",
   "mimetype": "text/x-python",
   "name": "python",
   "nbconvert_exporter": "python",
   "pygments_lexer": "ipython3",
   "version": "3.5.1"
  }
 },
 "nbformat": 4,
 "nbformat_minor": 0
}
